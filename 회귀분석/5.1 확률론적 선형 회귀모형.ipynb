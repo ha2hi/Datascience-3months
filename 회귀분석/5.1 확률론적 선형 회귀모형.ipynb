{
 "cells": [
  {
   "cell_type": "markdown",
   "metadata": {},
   "source": [
    "### 확률론적 선형 회귀모형\n",
    "- 만약 보스턴 집 값을 회귀분석을 통해 가중치 w1을 구했다면 해당하는 값은 신뢰할 수 있는 값인가? x\n",
    "- 그럼 신뢰되는 값의 구간은 어떻게 되나?"
   ]
  },
  {
   "cell_type": "markdown",
   "metadata": {},
   "source": [
    "### 부트스래핑\n",
    "- 우리가 값을 정확하게 예측할 수 없는 이유는 무엇일까?\n",
    "- 데이터가 부족하기 때문이다. \n",
    "- 부트스래핑은 기존의 데이터에서 리-샘플링하여 여러가지 표본 데이터 집합을 만드는 방법을 사용한다.\n",
    "- 실습을 해보자\n",
    "- y = w0 + w1x + e  w0 = 0, w1 = 42.3855이다"
   ]
  },
  {
   "cell_type": "code",
   "execution_count": 3,
   "metadata": {},
   "outputs": [
    {
     "data": {
      "text/plain": [
       "array(42.38550486)"
      ]
     },
     "execution_count": 3,
     "metadata": {},
     "output_type": "execute_result"
    }
   ],
   "source": [
    "from sklearn.datasets import make_regression\n",
    "\n",
    "x0, y, coef = make_regression(n_samples = 100, n_features = 1, noise = 20,\n",
    "                             coef = True, random_state = 0)\n",
    "coef"
   ]
  },
  {
   "cell_type": "code",
   "execution_count": 12,
   "metadata": {},
   "outputs": [],
   "source": [
    "# 이 표본 데이터를 기반으로 회귀분석을 해보자\n",
    "import statsmodels.api as sm\n",
    "import pandas as pd\n",
    "dfx0 = pd.DataFrame(x0, columns = [\"X1\"])\n",
    "dfX = sm.add_constant(dfx0)\n",
    "dfy = pd.DataFrame(y, columns = [\"y\"])\n",
    "model = sm.OLS(dfy, dfx)\n",
    "result = model.fit()"
   ]
  },
  {
   "cell_type": "code",
   "execution_count": 13,
   "metadata": {},
   "outputs": [
    {
     "data": {
      "text/plain": [
       "const    -1.628364\n",
       "X1       42.853356\n",
       "dtype: float64"
      ]
     },
     "execution_count": 13,
     "metadata": {},
     "output_type": "execute_result"
    }
   ],
   "source": [
    "result.params"
   ]
  },
  {
   "cell_type": "code",
   "execution_count": 14,
   "metadata": {},
   "outputs": [
    {
     "name": "stdout",
     "output_type": "stream",
     "text": [
      "CPU times: user 3.83 s, sys: 38.6 ms, total: 3.87 s\n",
      "Wall time: 2.13 s\n"
     ]
    }
   ],
   "source": [
    "%%time\n",
    "# 부트스트랩 1000번\n",
    "N = 1000\n",
    "params_w0 = np.zeros(N)\n",
    "params_w1 = np.zeros(N)\n",
    "for i in range(N):\n",
    "    idx = np.random.choice(len(dfy), len(dfy), replace=True)\n",
    "    dfX2 = dfX.iloc[idx, :]\n",
    "    dfy2 = dfy.iloc[idx]\n",
    "    r = sm.OLS(dfy2, dfX2).fit()\n",
    "    params_w0[i] = r.params.const\n",
    "    params_w1[i] = r.params.X1"
   ]
  },
  {
   "cell_type": "code",
   "execution_count": 18,
   "metadata": {},
   "outputs": [
    {
     "name": "stderr",
     "output_type": "stream",
     "text": [
      "Font 'default' does not have a glyph for '\\ucd94' [U+cd94], substituting with a dummy symbol.\n",
      "Font 'default' does not have a glyph for '\\uc815' [U+c815], substituting with a dummy symbol.\n",
      "Font 'default' does not have a glyph for '\\uce58' [U+ce58], substituting with a dummy symbol.\n",
      "Font 'default' does not have a glyph for '\\ubd84' [U+bd84], substituting with a dummy symbol.\n",
      "Font 'default' does not have a glyph for '\\ud3ec' [U+d3ec], substituting with a dummy symbol.\n",
      "Font 'default' does not have a glyph for '\\ucd94' [U+cd94], substituting with a dummy symbol.\n",
      "Font 'default' does not have a glyph for '\\uc815' [U+c815], substituting with a dummy symbol.\n",
      "Font 'default' does not have a glyph for '\\uce58' [U+ce58], substituting with a dummy symbol.\n",
      "Font 'default' does not have a glyph for '\\ubd84' [U+bd84], substituting with a dummy symbol.\n",
      "Font 'default' does not have a glyph for '\\ud3ec' [U+d3ec], substituting with a dummy symbol.\n",
      "Font 'default' does not have a glyph for '\\ucd94' [U+cd94], substituting with a dummy symbol.\n",
      "Font 'default' does not have a glyph for '\\uc815' [U+c815], substituting with a dummy symbol.\n",
      "Font 'default' does not have a glyph for '\\uce58' [U+ce58], substituting with a dummy symbol.\n",
      "Font 'default' does not have a glyph for '\\ubd84' [U+bd84], substituting with a dummy symbol.\n",
      "Font 'default' does not have a glyph for '\\ud3ec' [U+d3ec], substituting with a dummy symbol.\n",
      "Font 'default' does not have a glyph for '\\ucd94' [U+cd94], substituting with a dummy symbol.\n",
      "Font 'default' does not have a glyph for '\\uc815' [U+c815], substituting with a dummy symbol.\n",
      "Font 'default' does not have a glyph for '\\uce58' [U+ce58], substituting with a dummy symbol.\n",
      "Font 'default' does not have a glyph for '\\ubd84' [U+bd84], substituting with a dummy symbol.\n",
      "Font 'default' does not have a glyph for '\\ud3ec' [U+d3ec], substituting with a dummy symbol.\n"
     ]
    },
    {
     "data": {
      "image/png": "[encoded data removed]",
      "text/plain": [
       "<Figure size 576x216 with 2 Axes>"
      ]
     },
     "metadata": {
      "needs_background": "light"
     },
     "output_type": "display_data"
    }
   ],
   "source": [
    "import seaborn as sns\n",
    "import matplotlib.pyplot as plt\n",
    "plt.figure(figsize=(8, 3))\n",
    "\n",
    "ax1 = plt.subplot(121)\n",
    "sns.distplot(params_w1, ax=ax1)\n",
    "plt.axvline(params_w1.mean(), c='r')\n",
    "plt.title(\"$\\hat{w}_1$ 추정치 분포\")\n",
    "\n",
    "ax2 = plt.subplot(122)\n",
    "sns.distplot(params_w0, ax=ax2)\n",
    "plt.axvline(params_w0.mean(), c='r')\n",
    "plt.title(\"$\\hat{w}_0$ 추정치 분포\")\n",
    "plt.show()"
   ]
  },
  {
   "cell_type": "code",
   "execution_count": 19,
   "metadata": {},
   "outputs": [
    {
     "data": {
      "text/plain": [
       "(42.87712911408495, 1.8959478833202847)"
      ]
     },
     "execution_count": 19,
     "metadata": {},
     "output_type": "execute_result"
    }
   ],
   "source": [
    "params_w1.mean(), params_w1.std() # 데이터가 나오는 범위는 42.877 +- 1.895 * 2"
   ]
  },
  {
   "cell_type": "code",
   "execution_count": 20,
   "metadata": {},
   "outputs": [
    {
     "data": {
      "text/plain": [
       "(-1.644763088230229, 2.1057882380191204)"
      ]
     },
     "execution_count": 20,
     "metadata": {},
     "output_type": "execute_result"
    }
   ],
   "source": [
    "params_w0.mean(), params_w0.std() # 데이터가 나오는 범위는 -1.644 +- 2.105 * 2"
   ]
  },
  {
   "cell_type": "code",
   "execution_count": 22,
   "metadata": {},
   "outputs": [
    {
     "name": "stdout",
     "output_type": "stream",
     "text": [
      "                            OLS Regression Results                            \n",
      "==============================================================================\n",
      "Dep. Variable:                      y   R-squared:                       0.803\n",
      "Model:                            OLS   Adj. R-squared:                  0.801\n",
      "Method:                 Least Squares   F-statistic:                     400.3\n",
      "Date:                Fri, 02 Jul 2021   Prob (F-statistic):           2.21e-36\n",
      "Time:                        22:00:11   Log-Likelihood:                -448.09\n",
      "No. Observations:                 100   AIC:                             900.2\n",
      "Df Residuals:                      98   BIC:                             905.4\n",
      "Df Model:                           1                                         \n",
      "Covariance Type:            nonrobust                                         \n",
      "==============================================================================\n",
      "                 coef    std err          t      P>|t|      [0.025      0.975]\n",
      "------------------------------------------------------------------------------\n",
      "const         -1.6284      2.163     -0.753      0.453      -5.920       2.663\n",
      "X1            42.8534      2.142     20.008      0.000      38.603      47.104\n",
      "==============================================================================\n",
      "Omnibus:                        3.523   Durbin-Watson:                   1.984\n",
      "Prob(Omnibus):                  0.172   Jarque-Bera (JB):                2.059\n",
      "Skew:                          -0.073   Prob(JB):                        0.357\n",
      "Kurtosis:                       2.312   Cond. No.                         1.06\n",
      "==============================================================================\n",
      "\n",
      "Warnings:\n",
      "[1] Standard Errors assume that the covariance matrix of the errors is correctly specified.\n"
     ]
    }
   ],
   "source": [
    "print(result.summary()) # statsmodels의 summary로 출력해보면 해당 범위가 [0.025 0.975]에 표시되어있다.\n",
    "# 이 보고서의 값은 부트스트래핑을 사용하여 구한 값이 아니라 확률론적 선형 회귀모형을 사용한 것이다."
   ]
  },
  {
   "cell_type": "code",
   "execution_count": null,
   "metadata": {},
   "outputs": [],
   "source": []
  },
  {
   "cell_type": "markdown",
   "metadata": {},
   "source": [
    "### 확률론적 선형 회귀모형\n",
    "1. 선형정규분포가정\n",
    "    - 종속변수 y는 독립변수 x의 선형조합으로 결정되는 기댓값과 고정된 분산 시그마^2을 가지는 정규 분포다.\n",
    "    - x, y 중 그 어느 것도 그 자체로 정규 분포일 필요는 없다.\n",
    "2. 외생성 가정\n",
    "    - 잡음의 기댓값은 독립변수 크기에 상관없이 항상 0이라고 가정한다.\n",
    "3. 조건부 독립가정\n",
    "    - i번째 표본의 잡음과 j번째 표본의 잡음의 공분산 값이 x와 상관없이 항상 0이라고 가정한다.\n",
    "4. 등분산성 가정\n",
    "    - 1번째 표본의 잡음과 j번째 표본의 잡음의 분산값이 표본과 상관없이 항상 같다고 가정한다."
   ]
  },
  {
   "cell_type": "code",
   "execution_count": null,
   "metadata": {},
   "outputs": [],
   "source": []
  },
  {
   "cell_type": "markdown",
   "metadata": {},
   "source": [
    "### 단일 계수 t-검정\n",
    "- 표준 오차를 구해서 w/s.e는 t분포를 따르는데 해당 검정통계량으로 w가 0인지 아닌지 검정을 실시할 수 있다.\n",
    "- H0 : W = 0\n",
    "    - 만약 이 검정에 대한 유의확률이 0에 가깝게 나온다면 귀무가설이 기각되어 w값이 0일 가능성은 적다.\n",
    "    - 반대로 만약 이 검정에 대한 유의확률이 높으면 귀무가설이 채택되어 해당 독립변수는 종속변수와 아무런 상관성이 없을 가능성이 있다는 뜻이다"
   ]
  },
  {
   "cell_type": "code",
   "execution_count": 23,
   "metadata": {},
   "outputs": [
    {
     "name": "stdout",
     "output_type": "stream",
     "text": [
      "                            OLS Regression Results                            \n",
      "==============================================================================\n",
      "Dep. Variable:                      y   R-squared:                       0.803\n",
      "Model:                            OLS   Adj. R-squared:                  0.801\n",
      "Method:                 Least Squares   F-statistic:                     400.3\n",
      "Date:                Sat, 03 Jul 2021   Prob (F-statistic):           2.21e-36\n",
      "Time:                        11:58:19   Log-Likelihood:                -448.09\n",
      "No. Observations:                 100   AIC:                             900.2\n",
      "Df Residuals:                      98   BIC:                             905.4\n",
      "Df Model:                           1                                         \n",
      "Covariance Type:            nonrobust                                         \n",
      "==============================================================================\n",
      "                 coef    std err          t      P>|t|      [0.025      0.975]\n",
      "------------------------------------------------------------------------------\n",
      "const         -1.6284      2.163     -0.753      0.453      -5.920       2.663\n",
      "X1            42.8534      2.142     20.008      0.000      38.603      47.104\n",
      "==============================================================================\n",
      "Omnibus:                        3.523   Durbin-Watson:                   1.984\n",
      "Prob(Omnibus):                  0.172   Jarque-Bera (JB):                2.059\n",
      "Skew:                          -0.073   Prob(JB):                        0.357\n",
      "Kurtosis:                       2.312   Cond. No.                         1.06\n",
      "==============================================================================\n",
      "\n",
      "Warnings:\n",
      "[1] Standard Errors assume that the covariance matrix of the errors is correctly specified.\n"
     ]
    }
   ],
   "source": [
    "print(result.summary()) # 상수항은 0일 가능성이 높아 상수항을 가지지 않을 가능성이 높다고 할 수 있다."
   ]
  },
  {
   "cell_type": "code",
   "execution_count": 24,
   "metadata": {},
   "outputs": [
    {
     "name": "stdout",
     "output_type": "stream",
     "text": [
      "                             Test for Constraints                             \n",
      "==============================================================================\n",
      "                 coef    std err          t      P>|t|      [0.025      0.975]\n",
      "------------------------------------------------------------------------------\n",
      "c0            42.8534      2.142      1.332      0.186      38.603      47.104\n",
      "==============================================================================\n"
     ]
    }
   ],
   "source": [
    "# result에서 W1값이 현재 42.8534인데 40이라고 할 수 없을까? 만약 40이라고하면 42보다 외우기 쉽고 상대방에게 알려주기 편하기 때문에\n",
    "print(result.t_test(\"X1=40\")) # 40으로 봐도된다."
   ]
  },
  {
   "cell_type": "code",
   "execution_count": 25,
   "metadata": {},
   "outputs": [
    {
     "name": "stdout",
     "output_type": "stream",
     "text": [
      "                            OLS Regression Results                            \n",
      "==============================================================================\n",
      "Dep. Variable:                  value   R-squared:                       0.930\n",
      "Model:                            OLS   Adj. R-squared:                  0.927\n",
      "Method:                 Least Squares   F-statistic:                     277.3\n",
      "Date:                Sat, 03 Jul 2021   Prob (F-statistic):          2.96e-125\n",
      "Time:                        12:01:20   Log-Likelihood:                -535.82\n",
      "No. Observations:                 240   AIC:                             1096.\n",
      "Df Residuals:                     228   BIC:                             1137.\n",
      "Df Model:                          11                                         \n",
      "Covariance Type:            nonrobust                                         \n",
      "================================================================================\n",
      "                   coef    std err          t      P>|t|      [0.025      0.975]\n",
      "--------------------------------------------------------------------------------\n",
      "C(month)[01]    39.6950      0.518     76.691      0.000      38.675      40.715\n",
      "C(month)[02]    39.1900      0.518     75.716      0.000      38.170      40.210\n",
      "C(month)[03]    42.1950      0.518     81.521      0.000      41.175      43.215\n",
      "C(month)[04]    46.2900      0.518     89.433      0.000      45.270      47.310\n",
      "C(month)[05]    52.5600      0.518    101.547      0.000      51.540      53.580\n",
      "C(month)[06]    58.0400      0.518    112.134      0.000      57.020      59.060\n",
      "C(month)[07]    61.9000      0.518    119.592      0.000      60.880      62.920\n",
      "C(month)[08]    60.5200      0.518    116.926      0.000      59.500      61.540\n",
      "C(month)[09]    56.4800      0.518    109.120      0.000      55.460      57.500\n",
      "C(month)[10]    49.4950      0.518     95.625      0.000      48.475      50.515\n",
      "C(month)[11]    42.5800      0.518     82.265      0.000      41.560      43.600\n",
      "C(month)[12]    39.5300      0.518     76.373      0.000      38.510      40.550\n",
      "==============================================================================\n",
      "Omnibus:                        5.430   Durbin-Watson:                   1.529\n",
      "Prob(Omnibus):                  0.066   Jarque-Bera (JB):                5.299\n",
      "Skew:                          -0.281   Prob(JB):                       0.0707\n",
      "Kurtosis:                       3.463   Cond. No.                         1.00\n",
      "==============================================================================\n",
      "\n",
      "Warnings:\n",
      "[1] Standard Errors assume that the covariance matrix of the errors is correctly specified.\n"
     ]
    }
   ],
   "source": [
    "import datetime\n",
    "from calendar import isleap\n",
    "\n",
    "df_nottem = sm.datasets.get_rdataset(\"nottem\").data \n",
    "\n",
    "def convert_partial_year(number):\n",
    "    year = int(number)\n",
    "    d = datetime.timedelta(days=(number - year) * (365 + isleap(year)))\n",
    "    day_one = datetime.datetime(year, 1, 1)\n",
    "    date = d + day_one\n",
    "    return date\n",
    "\n",
    "df_nottem[\"date0\"] = df_nottem[[\"time\"]].applymap(convert_partial_year)\n",
    "df_nottem[\"date\"] = pd.DatetimeIndex(df_nottem[\"date0\"]).round('60min') + datetime.timedelta(seconds=3600*24)\n",
    "df_nottem[\"month\"] = df_nottem[\"date\"].dt.strftime(\"%m\").astype('category')\n",
    "del df_nottem[\"date0\"], df_nottem[\"date\"]\n",
    "\n",
    "model_nottem = sm.OLS.from_formula(\"value ~ C(month) + 0\", df_nottem)\n",
    "result_nottem = model_nottem.fit()\n",
    "print(result_nottem.summary())"
   ]
  },
  {
   "cell_type": "code",
   "execution_count": 26,
   "metadata": {},
   "outputs": [
    {
     "name": "stdout",
     "output_type": "stream",
     "text": [
      "                             Test for Constraints                             \n",
      "==============================================================================\n",
      "                 coef    std err          t      P>|t|      [0.025      0.975]\n",
      "------------------------------------------------------------------------------\n",
      "c0             0.5050      0.732      0.690      0.491      -0.937       1.947\n",
      "==============================================================================\n"
     ]
    }
   ],
   "source": [
    "# 1월과 2월의 기온의 차이는 거의 없다. 그럼 같다고 볼 수 있을까?\n",
    "print(result_nottem.t_test(\"C(month)[01] = C(month)[02]\")) # p-value가 높으므로 귀무가설 채택"
   ]
  },
  {
   "cell_type": "code",
   "execution_count": 27,
   "metadata": {},
   "outputs": [
    {
     "name": "stdout",
     "output_type": "stream",
     "text": [
      "                             Test for Constraints                             \n",
      "==============================================================================\n",
      "                 coef    std err          t      P>|t|      [0.025      0.975]\n",
      "------------------------------------------------------------------------------\n",
      "c0             3.0050      0.732      4.105      0.000       1.563       4.447\n",
      "==============================================================================\n"
     ]
    }
   ],
   "source": [
    "print(result_nottem.t_test(\"C(month)[03] = C(month)[02]\")) # 2월과 3월은 구분할 필요가 있다"
   ]
  },
  {
   "cell_type": "code",
   "execution_count": null,
   "metadata": {},
   "outputs": [],
   "source": []
  },
  {
   "cell_type": "markdown",
   "metadata": {},
   "source": [
    "### 회귀분석 F-검정\n",
    "- 개별 계수가아닌 전체 회귀계수가 모두가 의미가 있는지 확인하는 경우에는 귀무가설을 모든 w값을 0으로 본다\n",
    "- H0 : w0 = w1 = w2 ... = wk-1 = 0 \n",
    "- 현실적으로 귀무가설이 채택될 확률이 있을까? 우리가 가지고온 변수들은 y값과 관계가 있을거 같으니 가져온건데 귀무가설이 채택될 수는 없을 것이다.\n",
    "- 그럼 왜 구하는가?\n",
    "    - 여러 가지 모형을 비교할때 유의확률이 낮으면 더 의미있는 모형이라고 할 수 있다 따라서 모형의 성능을 비교할때 사용한다.\n",
    "- 이러한 검정을 Loss-of-Fit 혹은 회귀분석의 F검정이라고 한다.\n"
   ]
  },
  {
   "cell_type": "code",
   "execution_count": null,
   "metadata": {},
   "outputs": [],
   "source": []
  }
 ],
 "metadata": {
  "kernelspec": {
   "display_name": "Python 3",
   "language": "python",
   "name": "python3"
  },
  "language_info": {
   "codemirror_mode": {
    "name": "ipython",
    "version": 3
   },
   "file_extension": ".py",
   "mimetype": "text/x-python",
   "name": "python",
   "nbconvert_exporter": "python",
   "pygments_lexer": "ipython3",
   "version": "3.8.3"
  }
 },
 "nbformat": 4,
 "nbformat_minor": 4
}
