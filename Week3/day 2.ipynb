{
 "cells": [
  {
   "cell_type": "markdown",
   "metadata": {},
   "source": [
    "### 내적\n",
    "- 가중합\n",
    "- 가중평균\n",
    "- 유사도\n",
    "- 선형회귀 모형\n",
    "- 제곱합"
   ]
  },
  {
   "cell_type": "markdown",
   "metadata": {},
   "source": [
    "## 벡터 곱셈"
   ]
  },
  {
   "cell_type": "markdown",
   "metadata": {},
   "source": [
    "### 가중평균\n",
    "- 예를 들어 학점을 생각하면 수업시간이 많은 수학은 3 상대적으로 적은 영어는 1일때,  \n",
    "수학 60점, 영어 100점을 맞았다. 그럼 가중평균은 3/4*60 + 1/4 * 100 = 70"
   ]
  },
  {
   "cell_type": "code",
   "execution_count": 9,
   "metadata": {},
   "outputs": [],
   "source": [
    "import numpy as np"
   ]
  },
  {
   "cell_type": "code",
   "execution_count": 15,
   "metadata": {},
   "outputs": [
    {
     "data": {
      "text/plain": [
       "4.5"
      ]
     },
     "execution_count": 15,
     "metadata": {},
     "output_type": "execute_result"
    }
   ],
   "source": [
    "x = np.arange(10)\n",
    "N = len(x)\n",
    "np.ones(N) @ x / N"
   ]
  },
  {
   "cell_type": "code",
   "execution_count": 16,
   "metadata": {},
   "outputs": [
    {
     "data": {
      "text/plain": [
       "4.5"
      ]
     },
     "execution_count": 16,
     "metadata": {},
     "output_type": "execute_result"
    }
   ],
   "source": [
    "x.mean()"
   ]
  },
  {
   "cell_type": "code",
   "execution_count": null,
   "metadata": {},
   "outputs": [],
   "source": []
  },
  {
   "cell_type": "markdown",
   "metadata": {},
   "source": [
    "### 유사도(코사인 유사도)\n",
    "- 벡터가 닮은 정도"
   ]
  },
  {
   "cell_type": "code",
   "execution_count": 18,
   "metadata": {},
   "outputs": [
    {
     "data": {
      "image/png": "[encoded data removed]",
      "text/plain": [
       "<Figure size 648x648 with 8 Axes>"
      ]
     },
     "metadata": {},
     "output_type": "display_data"
    }
   ],
   "source": [
    "import matplotlib.pylab as plt\n",
    "from sklearn.datasets import load_digits\n",
    "import matplotlib.gridspec as gridspec\n",
    "\n",
    "digits = load_digits()\n",
    "d1 = digits.images[0]\n",
    "d2 = digits.images[10]\n",
    "d3 = digits.images[1]\n",
    "d4 = digits.images[11]\n",
    "v1 = d1.reshape(64, 1)\n",
    "v2 = d2.reshape(64, 1)\n",
    "v3 = d3.reshape(64, 1)\n",
    "v4 = d4.reshape(64, 1)\n",
    "\n",
    "plt.figure(figsize=(9, 9))\n",
    "gs = gridspec.GridSpec(1, 8, height_ratios=[1],\n",
    "                       width_ratios=[9, 1, 9, 1, 9, 1, 9, 1])\n",
    "for i in range(4):\n",
    "    plt.subplot(gs[2 * i])\n",
    "    plt.imshow(eval(\"d\" + str(i + 1)), aspect=1,\n",
    "               interpolation='nearest', cmap=plt.cm.bone_r)\n",
    "    plt.grid(False)\n",
    "    plt.xticks([])\n",
    "    plt.yticks([])\n",
    "    plt.title(\"image {}\".format(i + 1))\n",
    "    plt.subplot(gs[2 * i + 1])\n",
    "    plt.imshow(eval(\"v\" + str(i + 1)), aspect=0.25,\n",
    "               interpolation='nearest', cmap=plt.cm.bone_r)\n",
    "    plt.grid(False)\n",
    "    plt.xticks([])\n",
    "    plt.yticks([])\n",
    "    plt.title(\"vector {}\".format(i + 1))\n",
    "plt.tight_layout()\n",
    "plt.show()"
   ]
  },
  {
   "cell_type": "code",
   "execution_count": 19,
   "metadata": {},
   "outputs": [
    {
     "data": {
      "text/plain": [
       "(3064.0, 3661.0)"
      ]
     },
     "execution_count": 19,
     "metadata": {},
     "output_type": "execute_result"
    }
   ],
   "source": [
    "#“0” 이미지와 “0” 이미지, 또는 “1” 이미지와 “1” 이미지의 내적값은 다음과 같다.\n",
    "(v1.T @ v2)[0][0], (v3.T @ v4)[0][0]"
   ]
  },
  {
   "cell_type": "code",
   "execution_count": 20,
   "metadata": {},
   "outputs": [
    {
     "data": {
      "text/plain": [
       "(1866.0, 1883.0, 2421.0, 2479.0)"
      ]
     },
     "execution_count": 20,
     "metadata": {},
     "output_type": "execute_result"
    }
   ],
   "source": [
    "# 상대적으로 “0” 이미지와 “1” 이미지, 또는 “1” 이미지와 “0” 이미지의 내적값은 작다.\n",
    "(v1.T @ v3)[0][0], (v1.T @ v4)[0][0], (v2.T @ v3)[0][0], (v2.T @ v4)[0][0]"
   ]
  },
  {
   "cell_type": "code",
   "execution_count": 21,
   "metadata": {},
   "outputs": [],
   "source": [
    "# 연습문제\n",
    "#다음 코드를 실행하면 MNIST 숫자 이미지 전체 데이터를 모두 벡터로 변환하여 하나의 넘파이 행렬 X를 만든다. 이 행렬을 이용하여 다음 문제를 풀어라.\n",
    "from sklearn.datasets import load_digits\n",
    "X = load_digits().data"
   ]
  },
  {
   "cell_type": "code",
   "execution_count": 28,
   "metadata": {},
   "outputs": [
    {
     "data": {
      "text/plain": [
       "2807.0"
      ]
     },
     "execution_count": 28,
     "metadata": {},
     "output_type": "execute_result"
    }
   ],
   "source": [
    "# (1) 내적을 이용하여 첫 번째 이미지와 10번째 이미지의 유사도를 구하라.\n",
    "X[0].T @ X[9]"
   ]
  },
  {
   "cell_type": "code",
   "execution_count": null,
   "metadata": {},
   "outputs": [],
   "source": []
  },
  {
   "cell_type": "markdown",
   "metadata": {},
   "source": [
    "### 선형회귀 모형(linear regression model)\n",
    "- y = W1X1 + ... +WnXn\n",
    "- y = w.T @ x\n",
    "    - 면적(𝑚2)을 입력 데이터 𝑥1라고 한다.\n",
    "    - 층수를 입력 데이터 𝑥2라고 한다\n",
    "    - 한강이 보이는지의 여부를 입력 데이터 𝑥3라고 하며 한강이 보이면 𝑥3=1, 보이지 않으면 𝑥3=0이라고 한다.\n",
    "    - 출력 데이터 𝑦̂ 는 해당 아파트의 예측 가격이다.\n",
    "    - y = 500x1 + 200x2 + 10000x3"
   ]
  },
  {
   "cell_type": "code",
   "execution_count": null,
   "metadata": {},
   "outputs": [],
   "source": []
  },
  {
   "cell_type": "markdown",
   "metadata": {},
   "source": [
    "### 제곱합\n",
    "- X.T @ X"
   ]
  },
  {
   "cell_type": "code",
   "execution_count": null,
   "metadata": {},
   "outputs": [],
   "source": []
  },
  {
   "cell_type": "markdown",
   "metadata": {},
   "source": [
    "## 행렬 곱셈\n",
    "- 앞의 행렬의 열의 수와 뒤의 행렬의 행의 수가 같아야됨"
   ]
  },
  {
   "cell_type": "code",
   "execution_count": 37,
   "metadata": {},
   "outputs": [
    {
     "data": {
      "text/plain": [
       "array([[22, 28],\n",
       "       [49, 64]])"
      ]
     },
     "execution_count": 37,
     "metadata": {},
     "output_type": "execute_result"
    }
   ],
   "source": [
    "A = np.array([[1,2,3],[4,5,6]])\n",
    "B = np.array([[1,2],[3,4],[5,6]])\n",
    "C = A @ B\n",
    "C"
   ]
  },
  {
   "cell_type": "code",
   "execution_count": 41,
   "metadata": {},
   "outputs": [
    {
     "data": {
      "text/plain": [
       "array([[ 9, 12, 15],\n",
       "       [19, 26, 33],\n",
       "       [29, 40, 51]])"
      ]
     },
     "execution_count": 41,
     "metadata": {},
     "output_type": "execute_result"
    }
   ],
   "source": [
    "D = B @ A\n",
    "D"
   ]
  },
  {
   "cell_type": "code",
   "execution_count": 44,
   "metadata": {},
   "outputs": [],
   "source": [
    "A = np.array([[1,2],[3,4]])\n",
    "B = np.array([[5,6],[7,8]])\n",
    "C = np.array([[9,8],[7,6]])"
   ]
  },
  {
   "cell_type": "code",
   "execution_count": 45,
   "metadata": {},
   "outputs": [
    {
     "data": {
      "text/plain": [
       "array([[19, 22],\n",
       "       [43, 50]])"
      ]
     },
     "execution_count": 45,
     "metadata": {},
     "output_type": "execute_result"
    }
   ],
   "source": [
    "A @ B"
   ]
  },
  {
   "cell_type": "code",
   "execution_count": 46,
   "metadata": {},
   "outputs": [
    {
     "data": {
      "text/plain": [
       "array([[23, 34],\n",
       "       [31, 46]])"
      ]
     },
     "execution_count": 46,
     "metadata": {},
     "output_type": "execute_result"
    }
   ],
   "source": [
    "B @ A #교환법칙 성립 x"
   ]
  },
  {
   "cell_type": "code",
   "execution_count": 47,
   "metadata": {},
   "outputs": [
    {
     "data": {
      "text/plain": [
       "array([[42, 42],\n",
       "       [98, 98]])"
      ]
     },
     "execution_count": 47,
     "metadata": {},
     "output_type": "execute_result"
    }
   ],
   "source": [
    "A @ (B + C)"
   ]
  },
  {
   "cell_type": "code",
   "execution_count": 48,
   "metadata": {},
   "outputs": [
    {
     "data": {
      "text/plain": [
       "array([[42, 42],\n",
       "       [98, 98]])"
      ]
     },
     "execution_count": 48,
     "metadata": {},
     "output_type": "execute_result"
    }
   ],
   "source": [
    "A @ B + A @ C # 분배법칙 성립o"
   ]
  },
  {
   "cell_type": "code",
   "execution_count": 49,
   "metadata": {},
   "outputs": [
    {
     "data": {
      "text/plain": [
       "array([[ 6, 10],\n",
       "       [ 8, 12]])"
      ]
     },
     "execution_count": 49,
     "metadata": {},
     "output_type": "execute_result"
    }
   ],
   "source": [
    "A.T + B.T"
   ]
  },
  {
   "cell_type": "code",
   "execution_count": 50,
   "metadata": {},
   "outputs": [
    {
     "data": {
      "text/plain": [
       "array([[ 6, 10],\n",
       "       [ 8, 12]])"
      ]
     },
     "execution_count": 50,
     "metadata": {},
     "output_type": "execute_result"
    }
   ],
   "source": [
    "(A + B).T"
   ]
  },
  {
   "cell_type": "code",
   "execution_count": 51,
   "metadata": {
    "scrolled": true
   },
   "outputs": [
    {
     "data": {
      "text/plain": [
       "array([[23, 31],\n",
       "       [34, 46]])"
      ]
     },
     "execution_count": 51,
     "metadata": {},
     "output_type": "execute_result"
    }
   ],
   "source": [
    "A.T @ B.T"
   ]
  },
  {
   "cell_type": "code",
   "execution_count": 53,
   "metadata": {},
   "outputs": [
    {
     "data": {
      "text/plain": [
       "array([[19, 43],\n",
       "       [22, 50]])"
      ]
     },
     "execution_count": 53,
     "metadata": {},
     "output_type": "execute_result"
    }
   ],
   "source": [
    "B.T @ A.T"
   ]
  },
  {
   "cell_type": "code",
   "execution_count": 52,
   "metadata": {},
   "outputs": [
    {
     "data": {
      "text/plain": [
       "array([[19, 43],\n",
       "       [22, 50]])"
      ]
     },
     "execution_count": 52,
     "metadata": {},
     "output_type": "execute_result"
    }
   ],
   "source": [
    "(A@B).T"
   ]
  },
  {
   "cell_type": "code",
   "execution_count": null,
   "metadata": {},
   "outputs": [],
   "source": []
  },
  {
   "cell_type": "markdown",
   "metadata": {},
   "source": [
    "### 곱셈의 연결\n",
    "- ABC = (AB)C = A(BC)\n",
    "- ABCD = ((AB)C)D = (AB)(CD) = A(BCD) = A(BC)D"
   ]
  },
  {
   "cell_type": "code",
   "execution_count": 78,
   "metadata": {},
   "outputs": [
    {
     "data": {
      "text/plain": [
       "array([[95]])"
      ]
     },
     "execution_count": 78,
     "metadata": {},
     "output_type": "execute_result"
    }
   ],
   "source": [
    "A = np.array([[1,2]])\n",
    "B = np.array([[1,2],[3,4]])\n",
    "C = np.array([[5],[6]])\n",
    "(A @ B) @ C"
   ]
  },
  {
   "cell_type": "code",
   "execution_count": 79,
   "metadata": {},
   "outputs": [
    {
     "data": {
      "text/plain": [
       "array([[95]])"
      ]
     },
     "execution_count": 79,
     "metadata": {},
     "output_type": "execute_result"
    }
   ],
   "source": [
    "A @ (B @ C)"
   ]
  },
  {
   "cell_type": "code",
   "execution_count": null,
   "metadata": {},
   "outputs": [],
   "source": []
  },
  {
   "cell_type": "markdown",
   "metadata": {},
   "source": [
    "### 항등행렬의 곱셈\n",
    "- AI = IA = A"
   ]
  },
  {
   "cell_type": "code",
   "execution_count": 84,
   "metadata": {},
   "outputs": [
    {
     "data": {
      "text/plain": [
       "array([[1, 2],\n",
       "       [3, 4]])"
      ]
     },
     "execution_count": 84,
     "metadata": {},
     "output_type": "execute_result"
    }
   ],
   "source": [
    "A = np.array([[1,2],[3,4]])\n",
    "I = np.eye(2)\n",
    "A"
   ]
  },
  {
   "cell_type": "code",
   "execution_count": 85,
   "metadata": {},
   "outputs": [
    {
     "data": {
      "text/plain": [
       "array([[1., 2.],\n",
       "       [3., 4.]])"
      ]
     },
     "execution_count": 85,
     "metadata": {},
     "output_type": "execute_result"
    }
   ],
   "source": [
    "A @ I"
   ]
  },
  {
   "cell_type": "code",
   "execution_count": 86,
   "metadata": {},
   "outputs": [
    {
     "data": {
      "text/plain": [
       "array([[1., 2.],\n",
       "       [3., 4.]])"
      ]
     },
     "execution_count": 86,
     "metadata": {},
     "output_type": "execute_result"
    }
   ],
   "source": [
    "I @ A"
   ]
  },
  {
   "cell_type": "code",
   "execution_count": null,
   "metadata": {},
   "outputs": [],
   "source": []
  },
  {
   "cell_type": "markdown",
   "metadata": {},
   "source": [
    "### 행렬과 벡터의 곱\n",
    "=> Mv\n",
    "- 해석방법\n",
    "    - 열 벡터의 선형조합\n",
    "        - 앞에 있는 행렬을 열로 쪼개서 보는 방법\n",
    "    - 행 벡터의 선형조합\n",
    "        - 앞에 있는 헹렬을 행으로 쪼개서 보는 방법"
   ]
  },
  {
   "cell_type": "code",
   "execution_count": 90,
   "metadata": {},
   "outputs": [
    {
     "data": {
      "image/png": "[encoded data removed]",
      "text/plain": [
       "<Figure size 432x288 with 3 Axes>"
      ]
     },
     "metadata": {},
     "output_type": "display_data"
    }
   ],
   "source": [
    "from sklearn.datasets import fetch_olivetti_faces\n",
    "\n",
    "faces = fetch_olivetti_faces()\n",
    "\n",
    "f, ax = plt.subplots(1, 3)\n",
    "\n",
    "ax[0].imshow(faces.images[6], cmap=plt.cm.bone)\n",
    "ax[0].grid(False)\n",
    "ax[0].set_xticks([])\n",
    "ax[0].set_yticks([])\n",
    "ax[0].set_title(\"image 1: $x_1$\")\n",
    "\n",
    "ax[1].imshow(faces.images[10], cmap=plt.cm.bone)\n",
    "ax[1].grid(False)\n",
    "ax[1].set_xticks([])\n",
    "ax[1].set_yticks([])\n",
    "ax[1].set_title(\"image 2: $x_2$\")\n",
    "\n",
    "new_face = 0.7 * faces.images[6] + 0.3 * faces.images[10]\n",
    "ax[2].imshow(new_face, cmap=plt.cm.bone)\n",
    "ax[2].grid(False)\n",
    "ax[2].set_xticks([])\n",
    "ax[2].set_yticks([])\n",
    "ax[2].set_title(\"image 3: $0.7x_1 + 0.3x_2$\")\n",
    "\n",
    "plt.show()"
   ]
  },
  {
   "cell_type": "code",
   "execution_count": null,
   "metadata": {},
   "outputs": [],
   "source": []
  },
  {
   "cell_type": "markdown",
   "metadata": {},
   "source": [
    "# 잔차\n",
    "- 예측치와 실제값의 차이를 오차 혹은 잔차라고 한다.\n",
    "- e = y - y*\n",
    "- e = y - Xw"
   ]
  },
  {
   "cell_type": "code",
   "execution_count": null,
   "metadata": {},
   "outputs": [],
   "source": []
  },
  {
   "cell_type": "markdown",
   "metadata": {},
   "source": [
    "### 잔차제곱합(RSS)\n",
    "- 잔차의 크기는 잔차 벡터의 각 원소를 제곱한 후 더한 잔차 제곱합을 이용하여 구한다. e.T @ e\n",
    "- e.T @ e = (y-Xw).T @ (y-Xw) = 스칼라"
   ]
  },
  {
   "cell_type": "code",
   "execution_count": null,
   "metadata": {},
   "outputs": [],
   "source": []
  },
  {
   "cell_type": "markdown",
   "metadata": {},
   "source": [
    "### 이차형식\n",
    "- w.T @ X.T @ X @ w 에서 X는 행렬이므로 X.T @ X 가 정방행렬이 된다. 이 정방행렬을 A라고하면,\n",
    "w.T @ A @ w <= 이차형식이라고한다."
   ]
  },
  {
   "cell_type": "code",
   "execution_count": null,
   "metadata": {},
   "outputs": [],
   "source": []
  },
  {
   "cell_type": "markdown",
   "metadata": {},
   "source": [
    "### 부분행렬\n",
    "- 관점 3가지\n",
    "    - 앞에 행렬을 행으로보고 뒤에 행렬을 냅두는방식\n",
    "    - 앞에 행렬을 냅두고, 뒤에 행렬을 열로 보는방식\n",
    "    - 앞에 행렬을 열로 보고, 뒤에 행렬을 행으로 보는방식"
   ]
  },
  {
   "cell_type": "code",
   "execution_count": null,
   "metadata": {},
   "outputs": [],
   "source": []
  }
 ],
 "metadata": {
  "kernelspec": {
   "display_name": "Python 3",
   "language": "python",
   "name": "python3"
  },
  "language_info": {
   "codemirror_mode": {
    "name": "ipython",
    "version": 3
   },
   "file_extension": ".py",
   "mimetype": "text/x-python",
   "name": "python",
   "nbconvert_exporter": "python",
   "pygments_lexer": "ipython3",
   "version": "3.8.3"
  }
 },
 "nbformat": 4,
 "nbformat_minor": 4
}
