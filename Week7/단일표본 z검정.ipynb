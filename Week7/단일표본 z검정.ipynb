{
 "cells": [
  {
   "cell_type": "markdown",
   "id": "tracked-somalia",
   "metadata": {},
   "source": [
    "### 단일표본 z검정\n",
    "- 모분산을 알고 있다는 가정하에 검정하는 방법으로 실제로는 거의 사용할 일은 없다."
   ]
  },
  {
   "cell_type": "code",
   "execution_count": 2,
   "id": "intelligent-residence",
   "metadata": {},
   "outputs": [],
   "source": [
    "import numpy as np\n",
    "import scipy as sp\n",
    "import scipy.stats"
   ]
  },
  {
   "cell_type": "code",
   "execution_count": 3,
   "id": "private-egypt",
   "metadata": {},
   "outputs": [
    {
     "data": {
      "text/plain": [
       "array([ 1.76405235,  0.40015721,  0.97873798,  2.2408932 ,  1.86755799,\n",
       "       -0.97727788,  0.95008842, -0.15135721, -0.10321885,  0.4105985 ])"
      ]
     },
     "execution_count": 3,
     "metadata": {},
     "output_type": "execute_result"
    }
   ],
   "source": [
    "N = 10\n",
    "mu_0 = 0\n",
    "np.random.seed(0)\n",
    "x = sp.stats.norm(mu_0).rvs(N)\n",
    "x"
   ]
  },
  {
   "cell_type": "code",
   "execution_count": 4,
   "id": "champion-policy",
   "metadata": {},
   "outputs": [
    {
     "data": {
      "text/plain": [
       "(2.3338341854824276, 0.019604406021683538)"
      ]
     },
     "execution_count": 4,
     "metadata": {},
     "output_type": "execute_result"
    }
   ],
   "source": [
    "def ztest_1samp(x, sigma2=1, mu=0):\n",
    "    z = (x.mean() - mu) / np.sqrt(sigma2/len(x))\n",
    "    return z, 2 * sp.stats.norm().sf(np.abs(z))\n",
    "\n",
    "ztest_1samp(x) # 유의확률이 1.96%이다 따라서 유의수준이 5%라면 귀무가설을 기각한다. m != 0이라는건데 m = 0이다.\n",
    "# 이렇게 귀무가설이 맞는데 기각하는걸 1종오류라고 한다."
   ]
  },
  {
   "cell_type": "code",
   "execution_count": null,
   "id": "periodic-senator",
   "metadata": {},
   "outputs": [],
   "source": []
  }
 ],
 "metadata": {
  "kernelspec": {
   "display_name": "Python 3",
   "language": "python",
   "name": "python3"
  },
  "language_info": {
   "codemirror_mode": {
    "name": "ipython",
    "version": 3
   },
   "file_extension": ".py",
   "mimetype": "text/x-python",
   "name": "python",
   "nbconvert_exporter": "python",
   "pygments_lexer": "ipython3",
   "version": "3.7.10"
  }
 },
 "nbformat": 4,
 "nbformat_minor": 5
}
