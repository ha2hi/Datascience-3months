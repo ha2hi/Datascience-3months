{
 "cells": [
  {
   "cell_type": "markdown",
   "id": "subject-walker",
   "metadata": {},
   "source": [
    "### 카이제곱 독립검정\n",
    "- 전에 배웠던 상관관계를 떠올려 보자면 x,y 둘 다 연속인 경우에만 상관계수가 유의미했다. 그럼 범주형인 경우에는 어떻게 상관관계를 파악 할 수 있는가?"
   ]
  },
  {
   "cell_type": "code",
   "execution_count": 2,
   "id": "unnecessary-oregon",
   "metadata": {},
   "outputs": [],
   "source": [
    "import numpy as np\n",
    "import scipy as sp\n",
    "import scipy.stats "
   ]
  },
  {
   "cell_type": "code",
   "execution_count": 3,
   "id": "formal-wheat",
   "metadata": {},
   "outputs": [
    {
     "data": {
      "text/plain": [
       "(0.0992063492063492,\n",
       " 0.7527841326498471,\n",
       " 1,\n",
       " array([[ 6., 14.],\n",
       "        [ 9., 21.]]))"
      ]
     },
     "execution_count": 3,
     "metadata": {},
     "output_type": "execute_result"
    }
   ],
   "source": [
    "obs = np.array([[5, 15], [10, 20]])\n",
    "sp.stats.chi2_contingency(obs) # 두 번째 값이 p-value 따라서 유의확률이 75%이므로 귀무가설 채택 => 서로 독립이다."
   ]
  },
  {
   "cell_type": "markdown",
   "id": "dental-camping",
   "metadata": {},
   "source": [
    "### 연습 문제 9.5.5\n",
    "- 예를 들어 데이터 사이언스 스쿨 수업을 들었는가의 여부가 나중에 대학원에서 머신러닝 수업의 학점과 상관관계가 있는지를 알기 위해 데이터를 구한 결과가 다음과 같다고 하자.\n",
    "\n",
    "- 데이터 사이언스 스쿨 수업을 듣지 않은 경우 즉, X가 0이면 A, B, C 학점(Y 값)을 받은 학생의 분포가 4,16,20이다.\n",
    "\n",
    "- 데이터 사이언스 스쿨 수업을 들은 사람의 경우 즉, X가 1일 때 A, B, C 학점(Y 값)을 받은 학생의 분포가 23,18,19다."
   ]
  },
  {
   "cell_type": "code",
   "execution_count": 4,
   "id": "surface-melissa",
   "metadata": {},
   "outputs": [
    {
     "data": {
      "text/plain": [
       "(9.910060890453046,\n",
       " 0.00704786570249751,\n",
       " 2,\n",
       " array([[10.8, 13.6, 15.6],\n",
       "        [16.2, 20.4, 23.4]]))"
      ]
     },
     "execution_count": 4,
     "metadata": {},
     "output_type": "execute_result"
    }
   ],
   "source": [
    "obs = np.array([[4, 16, 20], [23, 18, 19]])\n",
    "sp.stats.chi2_contingency(obs) # 유의확률이 낮으므로 대립가설 채택 => 서로 상관관계가 있다"
   ]
  },
  {
   "cell_type": "code",
   "execution_count": null,
   "id": "contemporary-religion",
   "metadata": {},
   "outputs": [],
   "source": []
  }
 ],
 "metadata": {
  "kernelspec": {
   "display_name": "Python 3",
   "language": "python",
   "name": "python3"
  },
  "language_info": {
   "codemirror_mode": {
    "name": "ipython",
    "version": 3
   },
   "file_extension": ".py",
   "mimetype": "text/x-python",
   "name": "python",
   "nbconvert_exporter": "python",
   "pygments_lexer": "ipython3",
   "version": "3.7.10"
  }
 },
 "nbformat": 4,
 "nbformat_minor": 5
}
