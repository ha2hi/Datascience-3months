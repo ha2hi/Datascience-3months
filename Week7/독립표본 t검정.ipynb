{
 "cells": [
  {
   "cell_type": "markdown",
   "id": "medical-peace",
   "metadata": {},
   "source": [
    "### 독립표본 t검정\n",
    "- 독립표본 t검정은 2개의 독립적인 정규분포에서 나온 N1, N2개의 데이터 셋을 사용하여 두 정규분포의 기댓값이 동일한지를 검사한다."
   ]
  },
  {
   "cell_type": "code",
   "execution_count": 4,
   "id": "transparent-inside",
   "metadata": {},
   "outputs": [],
   "source": [
    "import numpy as np\n",
    "import scipy as sp\n",
    "import scipy.stats\n",
    "import seaborn as sns\n",
    "import matplotlib.pyplot as plt"
   ]
  },
  {
   "cell_type": "code",
   "execution_count": 5,
   "id": "organized-warner",
   "metadata": {},
   "outputs": [
    {
     "name": "stderr",
     "output_type": "stream",
     "text": [
      "C:\\Users\\user\\.conda\\envs\\test_envs\\lib\\site-packages\\seaborn\\distributions.py:2557: FutureWarning: `distplot` is a deprecated function and will be removed in a future version. Please adapt your code to use either `displot` (a figure-level function with similar flexibility) or `histplot` (an axes-level function for histograms).\n",
      "  warnings.warn(msg, FutureWarning)\n",
      "C:\\Users\\user\\.conda\\envs\\test_envs\\lib\\site-packages\\seaborn\\distributions.py:2557: FutureWarning: `distplot` is a deprecated function and will be removed in a future version. Please adapt your code to use either `displot` (a figure-level function with similar flexibility) or `histplot` (an axes-level function for histograms).\n",
      "  warnings.warn(msg, FutureWarning)\n",
      "C:\\Users\\user\\.conda\\envs\\test_envs\\lib\\site-packages\\matplotlib\\backends\\backend_agg.py:238: RuntimeWarning: Glyph 48264 missing from current font.\n",
      "  font.set_text(s, 0.0, flags=flags)\n",
      "C:\\Users\\user\\.conda\\envs\\test_envs\\lib\\site-packages\\matplotlib\\backends\\backend_agg.py:238: RuntimeWarning: Glyph 45936 missing from current font.\n",
      "  font.set_text(s, 0.0, flags=flags)\n",
      "C:\\Users\\user\\.conda\\envs\\test_envs\\lib\\site-packages\\matplotlib\\backends\\backend_agg.py:238: RuntimeWarning: Glyph 51060 missing from current font.\n",
      "  font.set_text(s, 0.0, flags=flags)\n",
      "C:\\Users\\user\\.conda\\envs\\test_envs\\lib\\site-packages\\matplotlib\\backends\\backend_agg.py:238: RuntimeWarning: Glyph 53552 missing from current font.\n",
      "  font.set_text(s, 0.0, flags=flags)\n",
      "C:\\Users\\user\\.conda\\envs\\test_envs\\lib\\site-packages\\matplotlib\\backends\\backend_agg.py:238: RuntimeWarning: Glyph 51665 missing from current font.\n",
      "  font.set_text(s, 0.0, flags=flags)\n",
      "C:\\Users\\user\\.conda\\envs\\test_envs\\lib\\site-packages\\matplotlib\\backends\\backend_agg.py:238: RuntimeWarning: Glyph 54633 missing from current font.\n",
      "  font.set_text(s, 0.0, flags=flags)\n",
      "C:\\Users\\user\\.conda\\envs\\test_envs\\lib\\site-packages\\matplotlib\\backends\\backend_agg.py:201: RuntimeWarning: Glyph 48264 missing from current font.\n",
      "  font.set_text(s, 0, flags=flags)\n",
      "C:\\Users\\user\\.conda\\envs\\test_envs\\lib\\site-packages\\matplotlib\\backends\\backend_agg.py:201: RuntimeWarning: Glyph 45936 missing from current font.\n",
      "  font.set_text(s, 0, flags=flags)\n",
      "C:\\Users\\user\\.conda\\envs\\test_envs\\lib\\site-packages\\matplotlib\\backends\\backend_agg.py:201: RuntimeWarning: Glyph 51060 missing from current font.\n",
      "  font.set_text(s, 0, flags=flags)\n",
      "C:\\Users\\user\\.conda\\envs\\test_envs\\lib\\site-packages\\matplotlib\\backends\\backend_agg.py:201: RuntimeWarning: Glyph 53552 missing from current font.\n",
      "  font.set_text(s, 0, flags=flags)\n",
      "C:\\Users\\user\\.conda\\envs\\test_envs\\lib\\site-packages\\matplotlib\\backends\\backend_agg.py:201: RuntimeWarning: Glyph 51665 missing from current font.\n",
      "  font.set_text(s, 0, flags=flags)\n",
      "C:\\Users\\user\\.conda\\envs\\test_envs\\lib\\site-packages\\matplotlib\\backends\\backend_agg.py:201: RuntimeWarning: Glyph 54633 missing from current font.\n",
      "  font.set_text(s, 0, flags=flags)\n"
     ]
    },
    {
     "data": {
      "image/png": "[encoded data removed]",
      "text/plain": [
       "<Figure size 432x288 with 1 Axes>"
      ]
     },
     "metadata": {
      "needs_background": "light"
     },
     "output_type": "display_data"
    }
   ],
   "source": [
    "N_1 = 10\n",
    "mu_1 = 0\n",
    "sigma_1 = 1\n",
    "N_2 = 10\n",
    "mu_2 = 0.5\n",
    "sigma_2 = 1\n",
    "np.random.seed(0)\n",
    "x1 = sp.stats.norm(mu_1, sigma_1).rvs(N_1)\n",
    "x2 = sp.stats.norm(mu_2, sigma_2).rvs(N_2)\n",
    "ax = sns.distplot(x1, kde=False, fit=sp.stats.norm, label=\"1번 데이터 집합\")\n",
    "ax = sns.distplot(x2, kde=False, fit=sp.stats.norm, label=\"2번 데이터 집합\")\n",
    "ax.lines[0].set_linestyle(\":\")\n",
    "plt.legend()\n",
    "plt.show()"
   ]
  },
  {
   "cell_type": "code",
   "execution_count": 6,
   "id": "found-amino",
   "metadata": {},
   "outputs": [
    {
     "data": {
      "text/plain": [
       "(0.7380231707288347, 0.9006460151624349)"
      ]
     },
     "execution_count": 6,
     "metadata": {},
     "output_type": "execute_result"
    }
   ],
   "source": [
    "np.mean(x1), np.mean(x2)"
   ]
  },
  {
   "cell_type": "code",
   "execution_count": 7,
   "id": "amber-nelson",
   "metadata": {},
   "outputs": [
    {
     "data": {
      "text/plain": [
       "Ttest_indResult(statistic=-0.4139968526988655, pvalue=0.6843504889824326)"
      ]
     },
     "execution_count": 7,
     "metadata": {},
     "output_type": "execute_result"
    }
   ],
   "source": [
    "sp.stats.ttest_ind(x1, x2, equal_var=False) # 귀무가설이 거짓임에도 불구하고 채택하는건 2종오류라 한다."
   ]
  },
  {
   "cell_type": "code",
   "execution_count": 8,
   "id": "instructional-dietary",
   "metadata": {},
   "outputs": [
    {
     "data": {
      "text/plain": [
       "Ttest_indResult(statistic=-2.6826951236616963, pvalue=0.008133970915722658)"
      ]
     },
     "execution_count": 8,
     "metadata": {},
     "output_type": "execute_result"
    }
   ],
   "source": [
    "N_1 = 50\n",
    "mu_1 = 0\n",
    "sigma_1 = 1\n",
    "N_2 = 100\n",
    "mu_2 = 0.5\n",
    "sigma_2 = 1\n",
    "np.random.seed(0)\n",
    "x1 = sp.stats.norm(mu_1, sigma_1).rvs(N_1)\n",
    "x2 = sp.stats.norm(mu_2, sigma_2).rvs(N_2)\n",
    "sp.stats.ttest_ind(x1, x2, equal_var=True) # 데이터가 많으면 오류를 범할 확률이 낮다."
   ]
  },
  {
   "cell_type": "code",
   "execution_count": 9,
   "id": "fourth-subcommittee",
   "metadata": {},
   "outputs": [],
   "source": [
    "#연습 문제 9.5.6\n",
    "#1반과 2반 학생 들의 성적이 각각 다음과 같다고 가정하자.\n",
    "#1반 : 80점, 75점, 85점, 50점, 60점, 75점, 45점, 70점, 90점, 95점, 85점, 80점. 평균 74.1점\n",
    "#2반 : 80점, 85점, 70점, 80점, 35점, 55점, 80점 . 평균 69.2점\n",
    "\n",
    "#1반의 실력이 2반보다 좋다고 이야기 할 수 있는가?"
   ]
  },
  {
   "cell_type": "code",
   "execution_count": 12,
   "id": "chronic-destination",
   "metadata": {},
   "outputs": [
    {
     "data": {
      "text/plain": [
       "Ttest_indResult(statistic=0.623010926550264, pvalue=0.5415458608473267)"
      ]
     },
     "execution_count": 12,
     "metadata": {},
     "output_type": "execute_result"
    }
   ],
   "source": [
    "sp.stats.ttest_ind([80,75,85,50,60,75,45,70,90,95,85,80], [80,85,70,80,35,55,80], equal_var=True) # 1반과 2반의 실력은 같다"
   ]
  },
  {
   "cell_type": "code",
   "execution_count": null,
   "id": "printable-lodge",
   "metadata": {},
   "outputs": [],
   "source": []
  }
 ],
 "metadata": {
  "kernelspec": {
   "display_name": "Python 3",
   "language": "python",
   "name": "python3"
  },
  "language_info": {
   "codemirror_mode": {
    "name": "ipython",
    "version": 3
   },
   "file_extension": ".py",
   "mimetype": "text/x-python",
   "name": "python",
   "nbconvert_exporter": "python",
   "pygments_lexer": "ipython3",
   "version": "3.7.10"
  }
 },
 "nbformat": 4,
 "nbformat_minor": 5
}
