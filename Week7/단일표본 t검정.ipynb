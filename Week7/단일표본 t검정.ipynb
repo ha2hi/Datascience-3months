{
 "cells": [
  {
   "cell_type": "markdown",
   "id": "beneficial-porter",
   "metadata": {},
   "source": [
    "### 단일표본 t검점\n",
    "- 단일표본 t검점은 정규분포의 기댓값을 조사하기위한 검정 방법이다."
   ]
  },
  {
   "cell_type": "code",
   "execution_count": 2,
   "id": "danish-finder",
   "metadata": {},
   "outputs": [],
   "source": [
    "import numpy as np\n",
    "import scipy as sp\n",
    "import scipy.stats"
   ]
  },
  {
   "cell_type": "code",
   "execution_count": 3,
   "id": "immediate-python",
   "metadata": {},
   "outputs": [
    {
     "data": {
      "text/plain": [
       "Ttest_1sampResult(statistic=2.28943967238967, pvalue=0.04781846490857058)"
      ]
     },
     "execution_count": 3,
     "metadata": {},
     "output_type": "execute_result"
    }
   ],
   "source": [
    "N = 10\n",
    "mu_0 = 0\n",
    "np.random.seed(0)\n",
    "x = sp.stats.norm(mu_0).rvs(N)\n",
    "sp.stats.ttest_1samp(x, popmean=0) # 유의수준이 5%라면 귀무가설을 기각할 수 있다. 그러나 m = 0이다 이것도 1종오류"
   ]
  },
  {
   "cell_type": "code",
   "execution_count": 4,
   "id": "labeled-passing",
   "metadata": {},
   "outputs": [
    {
     "data": {
      "text/plain": [
       "Ttest_1sampResult(statistic=0.5904283402851698, pvalue=0.5562489158694675)"
      ]
     },
     "execution_count": 4,
     "metadata": {},
     "output_type": "execute_result"
    }
   ],
   "source": [
    "N = 100\n",
    "mu_0 = 0\n",
    "np.random.seed(0)\n",
    "x = sp.stats.norm(mu_0).rvs(N)\n",
    "sp.stats.ttest_1samp(x, popmean=0) # 데이터가 많아야 오류를 범하지않는다."
   ]
  },
  {
   "cell_type": "code",
   "execution_count": null,
   "id": "difficult-theorem",
   "metadata": {},
   "outputs": [],
   "source": []
  }
 ],
 "metadata": {
  "kernelspec": {
   "display_name": "Python 3",
   "language": "python",
   "name": "python3"
  },
  "language_info": {
   "codemirror_mode": {
    "name": "ipython",
    "version": 3
   },
   "file_extension": ".py",
   "mimetype": "text/x-python",
   "name": "python",
   "nbconvert_exporter": "python",
   "pygments_lexer": "ipython3",
   "version": "3.7.10"
  }
 },
 "nbformat": 4,
 "nbformat_minor": 5
}
