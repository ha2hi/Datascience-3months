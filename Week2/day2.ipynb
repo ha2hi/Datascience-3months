{
 "cells": [
  {
   "cell_type": "code",
   "execution_count": 1,
   "id": "satellite-valley",
   "metadata": {},
   "outputs": [],
   "source": [
    "# 계좌 클래스 만들기 \n",
    "# 변수 : 자산(asset), 이자율(interest)\n",
    "# 함수 : 인출(draw), 입금(insert), 이자추가(add_interest)\n",
    "# 인출시 자산이상의 돈을 인출할수 없습니다."
   ]
  },
  {
   "cell_type": "code",
   "execution_count": 10,
   "id": "thick-species",
   "metadata": {},
   "outputs": [],
   "source": [
    "class Account():\n",
    "    def __init__(self, asset = 0, interest = 1.05):\n",
    "        self.asset = asset\n",
    "        self.interest = interest\n",
    "    \n",
    "    def draw(self, money):\n",
    "        if self.asset >= money:\n",
    "            self.asset -= money\n",
    "            print(\"{}원이 인출되었습니다.\".format(money))\n",
    "        else:\n",
    "            print('인출금이 {}원 부족합니다'.format(money - self.asset))\n",
    "            \n",
    "    def insert(self, money):\n",
    "        self.asset += money\n",
    "        print(\"{}원이 입금 되었습니다.\".format(money))\n",
    "        \n",
    "    def add_interest(self):\n",
    "        self.asset *= self.interest\n",
    "        print('이자가 지급되었습니다.')\n",
    "        \n",
    "    def __repr__(self):\n",
    "        return 'account(asset : {}, interest : {})'.format(self.asset, self.interest)"
   ]
  },
  {
   "cell_type": "code",
   "execution_count": 11,
   "id": "ecological-technical",
   "metadata": {},
   "outputs": [],
   "source": [
    "account1 = Account(10000)"
   ]
  },
  {
   "cell_type": "code",
   "execution_count": 12,
   "id": "emotional-basketball",
   "metadata": {},
   "outputs": [
    {
     "data": {
      "text/plain": [
       "account(asset : 10000, interest : 1.05)"
      ]
     },
     "execution_count": 12,
     "metadata": {},
     "output_type": "execute_result"
    }
   ],
   "source": [
    "account1"
   ]
  },
  {
   "cell_type": "code",
   "execution_count": 13,
   "id": "collectible-right",
   "metadata": {},
   "outputs": [
    {
     "name": "stdout",
     "output_type": "stream",
     "text": [
      "인출금이 2000원 부족합니다\n"
     ]
    }
   ],
   "source": [
    "account1.draw(12000)"
   ]
  },
  {
   "cell_type": "code",
   "execution_count": 14,
   "id": "measured-saying",
   "metadata": {},
   "outputs": [
    {
     "name": "stdout",
     "output_type": "stream",
     "text": [
      "3000원이 인출되었습니다.\n"
     ]
    }
   ],
   "source": [
    "account1.draw(3000)"
   ]
  },
  {
   "cell_type": "code",
   "execution_count": 15,
   "id": "julian-colon",
   "metadata": {},
   "outputs": [
    {
     "data": {
      "text/plain": [
       "7000"
      ]
     },
     "execution_count": 15,
     "metadata": {},
     "output_type": "execute_result"
    }
   ],
   "source": [
    "account1.asset"
   ]
  },
  {
   "cell_type": "code",
   "execution_count": 16,
   "id": "covered-occasion",
   "metadata": {},
   "outputs": [
    {
     "name": "stdout",
     "output_type": "stream",
     "text": [
      "5000원이 입금 되었습니다.\n"
     ]
    }
   ],
   "source": [
    "account1.insert(5000)"
   ]
  },
  {
   "cell_type": "code",
   "execution_count": 17,
   "id": "approximate-engineering",
   "metadata": {},
   "outputs": [
    {
     "data": {
      "text/plain": [
       "account(asset : 12000, interest : 1.05)"
      ]
     },
     "execution_count": 17,
     "metadata": {},
     "output_type": "execute_result"
    }
   ],
   "source": [
    "account1"
   ]
  },
  {
   "cell_type": "code",
   "execution_count": 18,
   "id": "respected-duplicate",
   "metadata": {},
   "outputs": [
    {
     "name": "stdout",
     "output_type": "stream",
     "text": [
      "이자가 지급되었습니다.\n"
     ]
    }
   ],
   "source": [
    "account1.add_interest()"
   ]
  },
  {
   "cell_type": "code",
   "execution_count": 19,
   "id": "micro-galaxy",
   "metadata": {},
   "outputs": [
    {
     "data": {
      "text/plain": [
       "account(asset : 12600.0, interest : 1.05)"
      ]
     },
     "execution_count": 19,
     "metadata": {},
     "output_type": "execute_result"
    }
   ],
   "source": [
    "account1"
   ]
  },
  {
   "cell_type": "code",
   "execution_count": null,
   "id": "elegant-edmonton",
   "metadata": {},
   "outputs": [],
   "source": []
  },
  {
   "cell_type": "markdown",
   "id": "fifteen-header",
   "metadata": {},
   "source": [
    "### Module Package\n",
    "- 모듈 : 변수, 함수, 클래스를 모아놓은 (.py) 확장자를 가진 파일\n",
    "- 패키지 : 모듈의 기능을 디렉토리별로 정리해 놓은 개념"
   ]
  },
  {
   "cell_type": "markdown",
   "id": "representative-mineral",
   "metadata": {},
   "source": [
    "### 1. 모듈 \n",
    "- 모듈 생성\n",
    "- 모듈 호출"
   ]
  },
  {
   "cell_type": "code",
   "execution_count": 22,
   "id": "nervous-incentive",
   "metadata": {
    "scrolled": true
   },
   "outputs": [
    {
     "name": "stdout",
     "output_type": "stream",
     "text": [
      " C 드라이브의 볼륨에는 이름이 없습니다.\n",
      " 볼륨 일련 번호: CC15-C0FD\n",
      "\n",
      " C:\\Users\\user\\fast 디렉터리\n",
      "\n",
      "2021-05-04  오전 11:00    <DIR>          .\n",
      "2021-05-04  오전 11:00    <DIR>          ..\n",
      "2021-05-04  오전 10:32    <DIR>          .ipynb_checkpoints\n",
      "2021-04-22  오후 03:23    <DIR>          03. 뉴욕(NYC) 택시수요 예측 Project\n",
      "2021-04-19  오전 09:50    <DIR>          08. Ensemble 기법의 종류와 원리\n",
      "2021-05-04  오전 08:50            35,204 Boston_house.csv\n",
      "2021-05-04  오전 10:32            28,106 day 1.ipynb\n",
      "2021-05-04  오전 11:00             5,233 day 2.ipynb\n",
      "2021-05-04  오전 08:50           102,995 Personal Loan.csv\n",
      "2021-05-04  오전 08:50           216,430 ToyotaCorolla.csv\n",
      "2021-05-04  오전 09:41            48,889 Untitled.ipynb\n",
      "2021-05-04  오전 10:57               583 Untitled1.ipynb\n",
      "2021-04-30  오후 03:46    <DIR>          week 1\n",
      "               7개 파일             437,440 바이트\n",
      "               6개 디렉터리  67,157,479,424 바이트 남음\n"
     ]
    }
   ],
   "source": [
    "!dir"
   ]
  },
  {
   "cell_type": "code",
   "execution_count": 78,
   "id": "interpreted-girlfriend",
   "metadata": {
    "scrolled": true
   },
   "outputs": [
    {
     "name": "stdout",
     "output_type": "stream",
     "text": [
      "Overwriting dss.py\n"
     ]
    }
   ],
   "source": [
    "%%writefile dss.py\n",
    "num = 1234\n",
    "\n",
    "def disp1(msg):\n",
    "    print('disp1', msg)\n",
    "    \n",
    "def disp2(mag):\n",
    "    print('disp2', msg)\n",
    "    \n",
    "class Calc:\n",
    "    def plus(self, *args):\n",
    "        return sum(args)"
   ]
  },
  {
   "cell_type": "code",
   "execution_count": 82,
   "id": "functional-banner",
   "metadata": {
    "scrolled": true
   },
   "outputs": [
    {
     "name": "stdout",
     "output_type": "stream",
     "text": [
      "Once deleted, variables cannot be recovered. Proceed (y/[n])? y\n"
     ]
    }
   ],
   "source": [
    "%reset"
   ]
  },
  {
   "cell_type": "code",
   "execution_count": 83,
   "id": "approximate-marketplace",
   "metadata": {},
   "outputs": [
    {
     "name": "stdout",
     "output_type": "stream",
     "text": [
      "Interactive namespace is empty.\n"
     ]
    }
   ],
   "source": [
    "%whos"
   ]
  },
  {
   "cell_type": "code",
   "execution_count": 84,
   "id": "returning-fairy",
   "metadata": {},
   "outputs": [],
   "source": [
    "# 모듈 호출 : import\n",
    "import dss"
   ]
  },
  {
   "cell_type": "code",
   "execution_count": 85,
   "id": "applicable-brown",
   "metadata": {},
   "outputs": [
    {
     "name": "stdout",
     "output_type": "stream",
     "text": [
      "Variable   Type      Data/Info\n",
      "------------------------------\n",
      "dss        module    <module 'dss' from 'C:\\\\U<...>ers\\\\user\\\\fast\\\\dss.py'>\n"
     ]
    }
   ],
   "source": [
    "%whos"
   ]
  },
  {
   "cell_type": "code",
   "execution_count": 86,
   "id": "attached-wilson",
   "metadata": {},
   "outputs": [
    {
     "data": {
      "text/plain": [
       "1234"
      ]
     },
     "execution_count": 86,
     "metadata": {},
     "output_type": "execute_result"
    }
   ],
   "source": [
    "dss.num"
   ]
  },
  {
   "cell_type": "code",
   "execution_count": 87,
   "id": "presidential-jefferson",
   "metadata": {},
   "outputs": [
    {
     "name": "stdout",
     "output_type": "stream",
     "text": [
      "disp1 python\n"
     ]
    }
   ],
   "source": [
    "dss.disp1('python')"
   ]
  },
  {
   "cell_type": "code",
   "execution_count": 88,
   "id": "outstanding-endorsement",
   "metadata": {},
   "outputs": [],
   "source": [
    "calc = dss.Calc()"
   ]
  },
  {
   "cell_type": "code",
   "execution_count": 89,
   "id": "based-cartoon",
   "metadata": {},
   "outputs": [
    {
     "ename": "TypeError",
     "evalue": "sum expected at most 2 arguments, got 4",
     "output_type": "error",
     "traceback": [
      "\u001b[1;31m---------------------------------------------------------------------------\u001b[0m",
      "\u001b[1;31mTypeError\u001b[0m                                 Traceback (most recent call last)",
      "\u001b[1;32m<ipython-input-89-f38508cc255c>\u001b[0m in \u001b[0;36m<module>\u001b[1;34m\u001b[0m\n\u001b[1;32m----> 1\u001b[1;33m \u001b[0mcalc\u001b[0m\u001b[1;33m.\u001b[0m\u001b[0mplus\u001b[0m\u001b[1;33m(\u001b[0m\u001b[1;36m1\u001b[0m\u001b[1;33m,\u001b[0m\u001b[1;36m2\u001b[0m\u001b[1;33m,\u001b[0m\u001b[1;36m3\u001b[0m\u001b[1;33m,\u001b[0m\u001b[1;36m4\u001b[0m\u001b[1;33m)\u001b[0m\u001b[1;33m\u001b[0m\u001b[1;33m\u001b[0m\u001b[0m\n\u001b[0m",
      "\u001b[1;32m~\\fast\\dss.py\u001b[0m in \u001b[0;36mplus\u001b[1;34m(self, *args)\u001b[0m\n\u001b[0;32m      9\u001b[0m \u001b[1;32mclass\u001b[0m \u001b[0mCalc\u001b[0m\u001b[1;33m:\u001b[0m\u001b[1;33m\u001b[0m\u001b[1;33m\u001b[0m\u001b[0m\n\u001b[0;32m     10\u001b[0m     \u001b[1;32mdef\u001b[0m \u001b[0mplus\u001b[0m\u001b[1;33m(\u001b[0m\u001b[0mself\u001b[0m\u001b[1;33m,\u001b[0m \u001b[1;33m*\u001b[0m\u001b[0margs\u001b[0m\u001b[1;33m)\u001b[0m\u001b[1;33m:\u001b[0m\u001b[1;33m\u001b[0m\u001b[1;33m\u001b[0m\u001b[0m\n\u001b[1;32m---> 11\u001b[1;33m         \u001b[1;32mreturn\u001b[0m \u001b[0msum\u001b[0m\u001b[1;33m(\u001b[0m\u001b[0margs\u001b[0m\u001b[1;33m)\u001b[0m\u001b[1;33m\u001b[0m\u001b[1;33m\u001b[0m\u001b[0m\n\u001b[0m",
      "\u001b[1;31mTypeError\u001b[0m: sum expected at most 2 arguments, got 4"
     ]
    }
   ],
   "source": [
    "calc.plus(1,2,3,4)"
   ]
  },
  {
   "cell_type": "code",
   "execution_count": 90,
   "id": "modular-teaching",
   "metadata": {},
   "outputs": [],
   "source": [
    "import random"
   ]
  },
  {
   "cell_type": "code",
   "execution_count": 101,
   "id": "female-spice",
   "metadata": {},
   "outputs": [
    {
     "data": {
      "text/plain": [
       "5"
      ]
     },
     "execution_count": 101,
     "metadata": {},
     "output_type": "execute_result"
    }
   ],
   "source": [
    "random.randint(1, 5)"
   ]
  },
  {
   "cell_type": "code",
   "execution_count": 102,
   "id": "disturbed-fortune",
   "metadata": {},
   "outputs": [],
   "source": [
    "# 모듈안에 특정 함수, 변수, 클래스 호출"
   ]
  },
  {
   "cell_type": "code",
   "execution_count": 103,
   "id": "objective-kansas",
   "metadata": {},
   "outputs": [],
   "source": [
    "# 장점 : dss.num 이렇게 안쓰고 바로 num으로 써도 됨\n",
    "from dss import num,disp2"
   ]
  },
  {
   "cell_type": "code",
   "execution_count": 104,
   "id": "nervous-summit",
   "metadata": {},
   "outputs": [
    {
     "name": "stdout",
     "output_type": "stream",
     "text": [
      "Variable   Type        Data/Info\n",
      "--------------------------------\n",
      "calc       Calc        <dss.Calc object at 0x00000287F3210688>\n",
      "disp2      function    <function disp2 at 0x00000287F33B6558>\n",
      "dss        module      <module 'dss' from 'C:\\\\U<...>ers\\\\user\\\\fast\\\\dss.py'>\n",
      "num        int         1234\n",
      "random     module      <module 'random' from 'C:<...>st_envs\\\\lib\\\\random.py'>\n"
     ]
    }
   ],
   "source": [
    "%whos"
   ]
  },
  {
   "cell_type": "code",
   "execution_count": 105,
   "id": "exposed-proportion",
   "metadata": {},
   "outputs": [
    {
     "data": {
      "text/plain": [
       "1234"
      ]
     },
     "execution_count": 105,
     "metadata": {},
     "output_type": "execute_result"
    }
   ],
   "source": [
    "num"
   ]
  },
  {
   "cell_type": "code",
   "execution_count": 109,
   "id": "noted-disclaimer",
   "metadata": {},
   "outputs": [
    {
     "name": "stdout",
     "output_type": "stream",
     "text": [
      "Once deleted, variables cannot be recovered. Proceed (y/[n])? y\n"
     ]
    }
   ],
   "source": [
    "%reset"
   ]
  },
  {
   "cell_type": "code",
   "execution_count": 110,
   "id": "encouraging-affiliation",
   "metadata": {},
   "outputs": [],
   "source": [
    "# 모듈의 모든 변수를 가져옴\n",
    "from dss import * "
   ]
  },
  {
   "cell_type": "code",
   "execution_count": 111,
   "id": "protective-museum",
   "metadata": {},
   "outputs": [
    {
     "name": "stdout",
     "output_type": "stream",
     "text": [
      "Variable   Type        Data/Info\n",
      "--------------------------------\n",
      "Calc       type        <class 'dss.Calc'>\n",
      "disp1      function    <function disp1 at 0x00000287F33B64C8>\n",
      "disp2      function    <function disp2 at 0x00000287F33B6558>\n",
      "num        int         1234\n"
     ]
    }
   ],
   "source": [
    "%whos"
   ]
  },
  {
   "cell_type": "code",
   "execution_count": null,
   "id": "transparent-virginia",
   "metadata": {},
   "outputs": [],
   "source": []
  },
  {
   "cell_type": "markdown",
   "id": "challenging-spiritual",
   "metadata": {},
   "source": [
    "### 2. Package\n",
    "- 패키지 생성\n",
    "- 패키지 호출\n",
    "- setup.py 패키지 설치 파일 만들기"
   ]
  },
  {
   "cell_type": "code",
   "execution_count": null,
   "id": "sophisticated-variable",
   "metadata": {},
   "outputs": [],
   "source": [
    "# 디렉토리 생성\n",
    "!mkdir -p school/dss"
   ]
  },
  {
   "cell_type": "code",
   "execution_count": null,
   "id": "confident-contributor",
   "metadata": {},
   "outputs": [],
   "source": [
    "# 디렉토리 생성\n",
    "!mkdir -p school/web"
   ]
  },
  {
   "cell_type": "code",
   "execution_count": 116,
   "id": "macro-yellow",
   "metadata": {},
   "outputs": [
    {
     "data": {
      "text/plain": [
       "'C:\\\\Users\\\\user\\\\fast'"
      ]
     },
     "execution_count": 116,
     "metadata": {},
     "output_type": "execute_result"
    }
   ],
   "source": [
    "- tree 설치 mac\n",
    "    - hombrew 설치\n",
    "    - brew install tree"
   ]
  },
  {
   "cell_type": "code",
   "execution_count": null,
   "id": "accompanied-pizza",
   "metadata": {},
   "outputs": [],
   "source": [
    "!tree school"
   ]
  },
  {
   "cell_type": "code",
   "execution_count": null,
   "id": "partial-restoration",
   "metadata": {},
   "outputs": [],
   "source": [
    "# 패키지 사용시 디렉토리에 __init__.py 파일을 추가\n",
    "# python 3.3버전 이상에서는 필요 없음"
   ]
  },
  {
   "cell_type": "code",
   "execution_count": null,
   "id": "higher-twelve",
   "metadata": {},
   "outputs": [],
   "source": [
    "!touch school/dss/__init__.py\n",
    "!touch school/web/__init__.py"
   ]
  },
  {
   "cell_type": "code",
   "execution_count": null,
   "id": "registered-justice",
   "metadata": {},
   "outputs": [],
   "source": [
    "!tree school"
   ]
  },
  {
   "cell_type": "code",
   "execution_count": null,
   "id": "statutory-stephen",
   "metadata": {},
   "outputs": [],
   "source": [
    "%%writefile school/dss/data1.py\n",
    "\n",
    "def plus2(*args):\n",
    "    print('data2')\n",
    "    return sum(args)"
   ]
  },
  {
   "cell_type": "code",
   "execution_count": null,
   "id": "agreed-snapshot",
   "metadata": {},
   "outputs": [],
   "source": [
    "%%writefile school/web/url.py\n",
    "\n",
    "def make(url):\n",
    "    return url if url[:7] == 'http://' else 'http://' + url"
   ]
  },
  {
   "cell_type": "code",
   "execution_count": null,
   "id": "legislative-thinking",
   "metadata": {},
   "outputs": [],
   "source": [
    "!tree school/"
   ]
  },
  {
   "cell_type": "code",
   "execution_count": 1,
   "id": "earlier-clock",
   "metadata": {},
   "outputs": [
    {
     "name": "stdout",
     "output_type": "stream",
     "text": [
      "Once deleted, variables cannot be recovered. Proceed (y/[n])? y\n"
     ]
    }
   ],
   "source": [
    "%reset"
   ]
  },
  {
   "cell_type": "code",
   "execution_count": null,
   "id": "alleged-genetics",
   "metadata": {},
   "outputs": [],
   "source": [
    "import school.dss.data1"
   ]
  },
  {
   "cell_type": "code",
   "execution_count": null,
   "id": "ahead-worship",
   "metadata": {},
   "outputs": [],
   "source": [
    "whos"
   ]
  },
  {
   "cell_type": "code",
   "execution_count": null,
   "id": "acceptable-motel",
   "metadata": {},
   "outputs": [],
   "source": [
    "school.dss.data1.plus(1,2,3)"
   ]
  },
  {
   "cell_type": "code",
   "execution_count": null,
   "id": "eight-comment",
   "metadata": {},
   "outputs": [],
   "source": [
    "import school.dss.data1 as dss\n",
    "#import numpy as np"
   ]
  },
  {
   "cell_type": "code",
   "execution_count": null,
   "id": "advanced-protein",
   "metadata": {},
   "outputs": [],
   "source": [
    "dss.plus(1,2)"
   ]
  },
  {
   "cell_type": "code",
   "execution_count": null,
   "id": "aggregate-kingston",
   "metadata": {},
   "outputs": [],
   "source": [
    "#  school.web : 디렉토리\n",
    "# url : 모듈\n",
    "from school.web import url"
   ]
  },
  {
   "cell_type": "code",
   "execution_count": null,
   "id": "level-greeting",
   "metadata": {},
   "outputs": [],
   "source": [
    "url.make('google.com')"
   ]
  },
  {
   "cell_type": "code",
   "execution_count": null,
   "id": "comic-visitor",
   "metadata": {},
   "outputs": [],
   "source": [
    "url.make('http://naver.com')"
   ]
  },
  {
   "cell_type": "code",
   "execution_count": null,
   "id": "minute-minnesota",
   "metadata": {},
   "outputs": [],
   "source": []
  },
  {
   "cell_type": "code",
   "execution_count": 3,
   "id": "conceptual-reply",
   "metadata": {},
   "outputs": [],
   "source": [
    "# 패키지의 위치 : 특정 디렉토리에 있는 패키지는 어디에서나 import 가능"
   ]
  },
  {
   "cell_type": "code",
   "execution_count": 4,
   "id": "flying-commodity",
   "metadata": {},
   "outputs": [],
   "source": [
    "import random"
   ]
  },
  {
   "cell_type": "code",
   "execution_count": 6,
   "id": "reliable-panic",
   "metadata": {},
   "outputs": [
    {
     "name": "stdout",
     "output_type": "stream",
     "text": [
      " C 드라이브의 볼륨에는 이름이 없습니다.\n",
      " 볼륨 일련 번호: CC15-C0FD\n",
      "\n",
      " C:\\Users\\user\\fast 디렉터리\n",
      "\n",
      "2021-05-06  오후 04:12    <DIR>          .\n",
      "2021-05-06  오후 04:12    <DIR>          ..\n",
      "2021-05-04  오후 01:39    <DIR>          .ipynb_checkpoints\n",
      "2021-04-22  오후 03:23    <DIR>          03. 뉴욕(NYC) 택시수요 예측 Project\n",
      "2021-04-19  오전 09:50    <DIR>          08. Ensemble 기법의 종류와 원리\n",
      "2021-05-04  오전 08:50            35,204 Boston_house.csv\n",
      "2021-05-04  오전 10:32            28,106 day 1.ipynb\n",
      "2021-05-06  오후 04:12            21,210 day2.ipynb\n",
      "2021-05-04  오전 11:22               177 dss.py\n",
      "2021-05-04  오전 08:50           102,995 Personal Loan.csv\n",
      "2021-05-04  오전 08:50           216,430 ToyotaCorolla.csv\n",
      "2021-05-04  오전 09:41            48,889 Untitled.ipynb\n",
      "2021-05-05  오후 10:13            19,286 Untitled1.ipynb\n",
      "2021-04-30  오후 03:46    <DIR>          week 1\n",
      "2021-05-04  오전 11:18    <DIR>          __pycache__\n",
      "               8개 파일             472,297 바이트\n",
      "               7개 디렉터리  64,978,468,864 바이트 남음\n"
     ]
    }
   ],
   "source": [
    "!dir"
   ]
  },
  {
   "cell_type": "code",
   "execution_count": 7,
   "id": "minute-conclusion",
   "metadata": {},
   "outputs": [
    {
     "name": "stdout",
     "output_type": "stream",
     "text": [
      "C:\\Users\\user\\fast\n",
      "C:\\Users\\user\\.conda\\envs\\test_envs\\python37.zip\n",
      "C:\\Users\\user\\.conda\\envs\\test_envs\\DLLs\n",
      "C:\\Users\\user\\.conda\\envs\\test_envs\\lib\n",
      "C:\\Users\\user\\.conda\\envs\\test_envs\n",
      "\n",
      "C:\\Users\\user\\.conda\\envs\\test_envs\\lib\\site-packages\n",
      "C:\\Users\\user\\.conda\\envs\\test_envs\\lib\\site-packages\\win32\n",
      "C:\\Users\\user\\.conda\\envs\\test_envs\\lib\\site-packages\\win32\\lib\n",
      "C:\\Users\\user\\.conda\\envs\\test_envs\\lib\\site-packages\\Pythonwin\n",
      "C:\\Users\\user\\.conda\\envs\\test_envs\\lib\\site-packages\\IPython\\extensions\n",
      "C:\\Users\\user\\.ipython\n"
     ]
    }
   ],
   "source": [
    "import sys\n",
    "for path in sys.path:\n",
    "    print(path)"
   ]
  },
  {
   "cell_type": "code",
   "execution_count": 9,
   "id": "approximate-supply",
   "metadata": {},
   "outputs": [
    {
     "name": "stdout",
     "output_type": "stream",
     "text": [
      " C 드라이브의 볼륨에는 이름이 없습니다.\n",
      " 볼륨 일련 번호: CC15-C0FD\n",
      "\n",
      " C:\\Users\\user\\.conda\\envs\\test_envs\\lib 디렉터리\n",
      "\n",
      "2021-03-04  오전 09:48    <DIR>          .\n",
      "2021-03-04  오전 09:48    <DIR>          ..\n",
      "2021-02-16  오전 10:29             5,580 abc.py\n",
      "2021-02-16  오전 10:29            32,814 aifc.py\n",
      "2021-02-16  오전 10:29               477 antigravity.py\n",
      "2021-02-16  오전 10:29            95,372 argparse.py\n",
      "2021-02-16  오전 10:29            12,842 ast.py\n",
      "2021-02-16  오전 10:29            11,328 asynchat.py\n",
      "2021-03-04  오전 09:48    <DIR>          asyncio\n",
      "2021-02-16  오전 10:29            20,118 asyncore.py\n",
      "2021-02-16  오전 10:29            20,382 base64.py\n",
      "2021-02-16  오전 10:29            31,730 bdb.py\n",
      "2021-02-16  오전 10:29            13,954 binhex.py\n",
      "2021-02-16  오전 10:29             2,557 bisect.py\n",
      "2021-02-16  오전 10:29            12,410 bz2.py\n",
      "2021-02-16  오전 10:29            24,826 calendar.py\n",
      "2021-02-16  오전 10:29            35,040 cgi.py\n",
      "2021-02-16  오전 10:29            12,018 cgitb.py\n",
      "2021-02-16  오전 10:29             5,435 chunk.py\n",
      "2021-02-16  오전 10:29            14,860 cmd.py\n",
      "2021-02-16  오전 10:29            10,622 code.py\n",
      "2021-02-16  오전 10:29            36,615 codecs.py\n",
      "2021-02-16  오전 10:29             6,275 codeop.py\n",
      "2021-03-04  오전 09:48    <DIR>          collections\n",
      "2021-02-16  오전 10:29             4,064 colorsys.py\n",
      "2021-02-16  오전 10:29            13,788 compileall.py\n",
      "2021-03-04  오전 09:48    <DIR>          concurrent\n",
      "2021-02-16  오전 10:29            54,283 configparser.py\n",
      "2021-02-16  오전 10:29            24,763 contextlib.py\n",
      "2021-02-16  오전 10:29               129 contextvars.py\n",
      "2021-02-16  오전 10:29             8,856 copy.py\n",
      "2021-02-16  오전 10:29             7,017 copyreg.py\n",
      "2021-02-16  오전 10:29             6,242 cProfile.py\n",
      "2021-02-16  오전 10:29             3,346 crypt.py\n",
      "2021-02-16  오전 10:29            16,180 csv.py\n",
      "2021-03-04  오전 09:48    <DIR>          ctypes\n",
      "2021-03-04  오전 09:48    <DIR>          curses\n",
      "2021-02-16  오전 10:29            49,520 dataclasses.py\n",
      "2021-02-16  오전 10:29            86,544 datetime.py\n",
      "2021-03-04  오전 09:48    <DIR>          dbm\n",
      "2021-02-16  오전 10:29               320 decimal.py\n",
      "2021-02-16  오전 10:29            84,393 difflib.py\n",
      "2021-02-16  오전 10:29            19,888 dis.py\n",
      "2021-03-04  오전 09:48    <DIR>          distutils\n",
      "2021-02-16  오전 10:29           104,560 doctest.py\n",
      "2021-02-16  오전 10:29             2,815 dummy_threading.py\n",
      "2021-03-04  오전 09:48    <DIR>          email\n",
      "2021-03-04  오전 09:48    <DIR>          encodings\n",
      "2021-03-04  오전 09:48    <DIR>          ensurepip\n",
      "2021-02-16  오전 10:29            35,043 enum.py\n",
      "2021-02-16  오전 10:29             9,830 filecmp.py\n",
      "2021-02-16  오전 10:29            14,625 fileinput.py\n",
      "2021-02-16  오전 10:29             4,056 fnmatch.py\n",
      "2021-02-16  오전 10:29            15,143 formatter.py\n",
      "2021-02-16  오전 10:29            23,752 fractions.py\n",
      "2021-02-16  오전 10:29            35,257 ftplib.py\n",
      "2021-02-16  오전 10:29            32,932 functools.py\n",
      "2021-02-16  오전 10:29             4,912 genericpath.py\n",
      "2021-02-16  오전 10:29             7,489 getopt.py\n",
      "2021-02-16  오전 10:29             5,994 getpass.py\n",
      "2021-02-16  오전 10:29            21,967 gettext.py\n",
      "2021-02-16  오전 10:29             5,638 glob.py\n",
      "2021-02-16  오전 10:29            20,637 gzip.py\n",
      "2021-02-16  오전 10:29             9,534 hashlib.py\n",
      "2021-02-16  오전 10:29            23,017 heapq.py\n",
      "2021-02-16  오전 10:29             6,517 hmac.py\n",
      "2021-03-04  오전 09:48    <DIR>          html\n",
      "2021-03-04  오전 09:48    <DIR>          http\n",
      "2021-03-04  오전 09:48    <DIR>          idlelib\n",
      "2021-02-16  오전 10:29            53,292 imaplib.py\n",
      "2021-02-16  오전 10:29             3,795 imghdr.py\n",
      "2021-02-16  오전 10:29            10,536 imp.py\n",
      "2021-03-04  오전 09:48    <DIR>          importlib\n",
      "2021-02-16  오전 10:29           117,635 inspect.py\n",
      "2021-02-16  오전 10:29             3,517 io.py\n",
      "2021-02-16  오전 10:29            73,578 ipaddress.py\n",
      "2021-03-04  오전 09:48    <DIR>          json\n",
      "2021-02-16  오전 10:29             2,245 keyword.py\n",
      "2021-03-04  오전 09:48    <DIR>          lib2to3\n",
      "2021-02-16  오전 10:29             5,330 linecache.py\n",
      "2021-02-16  오전 10:29            78,191 locale.py\n",
      "2021-03-04  오전 09:48    <DIR>          logging\n",
      "2021-02-16  오전 10:29            12,983 lzma.py\n",
      "2021-02-16  오전 10:29             6,123 macpath.py\n",
      "2021-02-16  오전 10:29            78,654 mailbox.py\n",
      "2021-02-16  오전 10:29             8,104 mailcap.py\n",
      "2021-02-16  오전 10:29            21,496 mimetypes.py\n",
      "2021-02-16  오전 10:29            23,035 modulefinder.py\n",
      "2021-03-04  오전 09:48    <DIR>          msilib\n",
      "2021-03-04  오전 09:48    <DIR>          multiprocessing\n",
      "2021-02-16  오전 10:29             5,566 netrc.py\n",
      "2021-02-16  오전 10:29            43,087 nntplib.py\n",
      "2021-02-16  오전 10:29            22,340 ntpath.py\n",
      "2021-02-16  오전 10:29             2,584 nturl2path.py\n",
      "2021-02-16  오전 10:29            10,244 numbers.py\n",
      "2021-02-16  오전 10:29             5,824 opcode.py\n",
      "2021-02-16  오전 10:29            10,863 operator.py\n",
      "2021-02-16  오전 10:29            60,371 optparse.py\n",
      "2021-02-16  오전 10:29            37,901 os.py\n",
      "2021-02-16  오전 10:29            50,329 pathlib.py\n",
      "2021-02-16  오전 10:29            62,494 pdb.py\n",
      "2021-02-16  오전 10:29            57,994 pickle.py\n",
      "2021-02-16  오전 10:29            91,220 pickletools.py\n",
      "2021-02-16  오전 10:29             8,916 pipes.py\n",
      "2021-02-16  오전 10:29            21,461 pkgutil.py\n",
      "2021-02-27  오전 03:00            47,023 platform.py\n",
      "2021-02-16  오전 10:29            30,709 plistlib.py\n",
      "2021-02-16  오전 10:29            14,964 poplib.py\n",
      "2021-02-16  오전 10:29            15,771 posixpath.py\n",
      "2021-02-16  오전 10:29            20,884 pprint.py\n",
      "2021-02-16  오전 10:29            22,483 profile.py\n",
      "2021-02-16  오전 10:29            27,315 pstats.py\n",
      "2021-02-16  오전 10:29             4,763 pty.py\n",
      "2021-02-16  오전 10:29            15,137 pyclbr.py\n",
      "2021-02-16  오전 10:29           106,639 pydoc.py\n",
      "2021-03-04  오전 09:48    <DIR>          pydoc_data\n",
      "2021-02-16  오전 10:29             8,001 py_compile.py\n",
      "2021-02-16  오전 10:29            11,359 queue.py\n",
      "2021-02-16  오전 10:29             7,254 quopri.py\n",
      "2021-02-16  오전 10:29            27,557 random.py\n",
      "2021-02-16  오전 10:29            15,306 re.py\n",
      "2021-02-16  오전 10:29             5,267 reprlib.py\n",
      "2021-02-16  오전 10:29             7,097 rlcompleter.py\n",
      "2021-02-16  오전 10:29            11,959 runpy.py\n",
      "2021-02-16  오전 10:29             6,442 sched.py\n",
      "2021-02-16  오전 10:29             2,038 secrets.py\n",
      "2021-02-16  오전 10:29            18,561 selectors.py\n",
      "2021-02-16  오전 10:29             8,527 shelve.py\n",
      "2021-02-16  오전 10:29            13,100 shlex.py\n",
      "2021-02-16  오전 10:29            41,950 shutil.py\n",
      "2021-02-16  오전 10:29             2,123 signal.py\n",
      "2021-04-22  오전 10:27    <DIR>          site-packages\n",
      "2021-02-16  오전 10:29            21,307 site.py\n",
      "2021-02-16  오전 10:29            34,711 smtpd.py\n",
      "2021-02-16  오전 10:29            44,235 smtplib.py\n",
      "2021-02-16  오전 10:29             7,086 sndhdr.py\n",
      "2021-02-16  오전 10:29            27,469 socket.py\n",
      "2021-02-16  오전 10:29            26,923 socketserver.py\n",
      "2021-03-04  오전 09:48    <DIR>          sqlite3\n",
      "2021-02-16  오전 10:29            26,872 sre_compile.py\n",
      "2021-02-16  오전 10:29             7,177 sre_constants.py\n",
      "2021-02-16  오전 10:29            39,156 sre_parse.py\n",
      "2021-02-16  오전 10:29            45,495 ssl.py\n",
      "2021-02-16  오전 10:29             5,391 stat.py\n",
      "2021-02-16  오전 10:29            20,651 statistics.py\n",
      "2021-02-16  오전 10:29            11,564 string.py\n",
      "2021-02-16  오전 10:29            12,917 stringprep.py\n",
      "2021-02-16  오전 10:29               257 struct.py\n",
      "2021-02-16  오전 10:29            71,729 subprocess.py\n",
      "2021-02-16  오전 10:29            18,375 sunau.py\n",
      "2021-02-16  오전 10:29             2,131 symbol.py\n",
      "2021-02-16  오전 10:29             7,279 symtable.py\n",
      "2021-02-27  오전 03:00            24,649 sysconfig.py\n",
      "2021-02-16  오전 10:29            11,408 tabnanny.py\n",
      "2021-02-16  오전 10:29            92,663 tarfile.py\n",
      "2021-02-16  오전 10:29            23,135 telnetlib.py\n",
      "2021-02-16  오전 10:29            26,730 tempfile.py\n",
      "2021-03-04  오전 09:48    <DIR>          test\n",
      "2021-02-16  오전 10:29            19,407 textwrap.py\n",
      "2021-02-16  오전 10:29             1,003 this.py\n",
      "2021-02-16  오전 10:29            49,284 threading.py\n",
      "2021-02-16  오전 10:29            13,482 timeit.py\n",
      "2021-03-04  오전 09:48    <DIR>          tkinter\n",
      "2021-02-16  오전 10:29             3,763 token.py\n",
      "2021-02-16  오전 10:29            27,031 tokenize.py\n",
      "2021-02-16  오전 10:29            28,891 trace.py\n",
      "2021-02-16  오전 10:29            23,437 traceback.py\n",
      "2021-02-16  오전 10:29            17,076 tracemalloc.py\n",
      "2021-02-16  오전 10:29               879 tty.py\n",
      "2021-02-16  오전 10:29           143,602 turtle.py\n",
      "2021-03-04  오전 09:48    <DIR>          turtledemo\n",
      "2021-02-16  오전 10:29             9,897 types.py\n",
      "2021-02-16  오전 10:29            56,438 typing.py\n",
      "2021-03-04  오전 09:48    <DIR>          unittest\n",
      "2021-03-04  오전 09:48    <DIR>          urllib\n",
      "2021-02-16  오전 10:29             6,959 uu.py\n",
      "2021-02-16  오전 10:29            29,518 uuid.py\n",
      "2021-03-04  오전 09:48    <DIR>          venv\n",
      "2021-02-16  오전 10:29            20,080 warnings.py\n",
      "2021-02-16  오전 10:29            18,230 wave.py\n",
      "2021-02-16  오전 10:29            21,508 weakref.py\n",
      "2021-02-16  오전 10:29            23,704 webbrowser.py\n",
      "2021-03-04  오전 09:48    <DIR>          wsgiref\n",
      "2021-02-16  오전 10:29             5,913 xdrlib.py\n",
      "2021-03-04  오전 09:48    <DIR>          xml\n",
      "2021-03-04  오전 09:48    <DIR>          xmlrpc\n",
      "2021-02-16  오전 10:29             7,535 zipapp.py\n",
      "2021-02-16  오전 10:29            81,094 zipfile.py\n",
      "2021-02-16  오전 10:29             1,801 _bootlocale.py\n",
      "2021-02-16  오전 10:29            26,424 _collections_abc.py\n",
      "2021-02-16  오전 10:29             8,749 _compat_pickle.py\n",
      "2021-02-16  오전 10:29             5,340 _compression.py\n",
      "2021-02-16  오전 10:29             6,027 _dummy_thread.py\n",
      "2021-02-16  오전 10:29            14,598 _markupbase.py\n",
      "2021-02-16  오전 10:29            19,600 _osx_support.py\n",
      "2021-02-16  오전 10:29           228,690 _pydecimal.py\n",
      "2021-02-16  오전 10:29            91,616 _pyio.py\n",
      "2021-02-16  오전 10:29             6,186 _py_abc.py\n",
      "2021-02-16  오전 10:29             3,115 _sitebuiltins.py\n",
      "2021-02-16  오전 10:29            25,504 _strptime.py\n",
      "2021-02-16  오전 10:29             7,214 _threading_local.py\n",
      "2021-02-16  오전 10:29             5,679 _weakrefset.py\n",
      "2021-02-16  오전 10:29             5,101 __future__.py\n",
      "2021-02-16  오전 10:29                64 __phello__.foo.py\n",
      "2021-03-04  오전 09:48    <DIR>          __pycache__\n",
      "             171개 파일           4,323,992 바이트\n",
      "              34개 디렉터리  64,976,793,600 바이트 남음\n"
     ]
    }
   ],
   "source": [
    "!dir C:\\Users\\user\\.conda\\envs\\test_envs\\lib"
   ]
  },
  {
   "cell_type": "code",
   "execution_count": 12,
   "id": "occupied-conservation",
   "metadata": {},
   "outputs": [
    {
     "data": {
      "text/plain": [
       "212"
      ]
     },
     "execution_count": 12,
     "metadata": {},
     "output_type": "execute_result"
    }
   ],
   "source": [
    "packages = !dir C:\\Users\\user\\.conda\\envs\\test_envs\\lib\n",
    "len(packages)"
   ]
  },
  {
   "cell_type": "code",
   "execution_count": null,
   "id": "located-correction",
   "metadata": {},
   "outputs": [],
   "source": []
  },
  {
   "cell_type": "markdown",
   "id": "classical-tiger",
   "metadata": {},
   "source": [
    "### 예외처리\n",
    "- 코드를 실행중에 에러가 발생한 경우 에러를 처리하는 방법\n",
    "- try, except, finally, raise"
   ]
  },
  {
   "cell_type": "code",
   "execution_count": 16,
   "id": "faced-sample",
   "metadata": {},
   "outputs": [],
   "source": [
    "# try, except : 에러가 발생해도 코드의 실행을 계속하고 싶을때\n",
    "ls = [1,2,3]"
   ]
  },
  {
   "cell_type": "code",
   "execution_count": 17,
   "id": "emotional-federation",
   "metadata": {},
   "outputs": [
    {
     "ename": "IndexError",
     "evalue": "list index out of range",
     "output_type": "error",
     "traceback": [
      "\u001b[1;31m---------------------------------------------------------------------------\u001b[0m",
      "\u001b[1;31mIndexError\u001b[0m                                Traceback (most recent call last)",
      "\u001b[1;32m<ipython-input-17-c90542294de3>\u001b[0m in \u001b[0;36m<module>\u001b[1;34m\u001b[0m\n\u001b[1;32m----> 1\u001b[1;33m \u001b[0mprint\u001b[0m\u001b[1;33m(\u001b[0m\u001b[0mls\u001b[0m\u001b[1;33m[\u001b[0m\u001b[1;36m3\u001b[0m\u001b[1;33m]\u001b[0m\u001b[1;33m)\u001b[0m\u001b[1;33m\u001b[0m\u001b[1;33m\u001b[0m\u001b[0m\n\u001b[0m\u001b[0;32m      2\u001b[0m \u001b[0mprint\u001b[0m\u001b[1;33m(\u001b[0m\u001b[1;34m'done!'\u001b[0m\u001b[1;33m)\u001b[0m\u001b[1;33m\u001b[0m\u001b[1;33m\u001b[0m\u001b[0m\n",
      "\u001b[1;31mIndexError\u001b[0m: list index out of range"
     ]
    }
   ],
   "source": [
    "print(ls[3])\n",
    "print('done!')"
   ]
  },
  {
   "cell_type": "code",
   "execution_count": 18,
   "id": "impressed-scottish",
   "metadata": {},
   "outputs": [
    {
     "name": "stdout",
     "output_type": "stream",
     "text": [
      "error\n",
      "list index out of range\n",
      "Done\n"
     ]
    }
   ],
   "source": [
    "try:\n",
    "    print(ls[3])\n",
    "except Exception as e:\n",
    "    print('error')\n",
    "    print(e)\n",
    "print('Done')"
   ]
  },
  {
   "cell_type": "code",
   "execution_count": 21,
   "id": "accredited-nirvana",
   "metadata": {},
   "outputs": [
    {
     "name": "stdout",
     "output_type": "stream",
     "text": [
      "error\n",
      "Done!\n"
     ]
    }
   ],
   "source": [
    "#finally : try, except 구문 실행된 후 finally 구문이 실행\n",
    "try:\n",
    "    1/0\n",
    "except:\n",
    "    print('error')\n",
    "finally:              # 에러가 발생해도 실행 에러가 발생하지 않아도 실행\n",
    "    print('Done!')"
   ]
  },
  {
   "cell_type": "code",
   "execution_count": 22,
   "id": "sound-myanmar",
   "metadata": {},
   "outputs": [
    {
     "name": "stdout",
     "output_type": "stream",
     "text": [
      "error\n"
     ]
    },
    {
     "ename": "ZeroDivisionError",
     "evalue": "division by zero",
     "output_type": "error",
     "traceback": [
      "\u001b[1;31m---------------------------------------------------------------------------\u001b[0m",
      "\u001b[1;31mZeroDivisionError\u001b[0m                         Traceback (most recent call last)",
      "\u001b[1;32m<ipython-input-22-b5e4987a3538>\u001b[0m in \u001b[0;36m<module>\u001b[1;34m\u001b[0m\n\u001b[0;32m      4\u001b[0m \u001b[1;32mexcept\u001b[0m \u001b[0mException\u001b[0m \u001b[1;32mas\u001b[0m \u001b[0me\u001b[0m\u001b[1;33m:\u001b[0m\u001b[1;33m\u001b[0m\u001b[1;33m\u001b[0m\u001b[0m\n\u001b[0;32m      5\u001b[0m     \u001b[0mprint\u001b[0m\u001b[1;33m(\u001b[0m\u001b[1;34m'error'\u001b[0m\u001b[1;33m)\u001b[0m\u001b[1;33m\u001b[0m\u001b[1;33m\u001b[0m\u001b[0m\n\u001b[1;32m----> 6\u001b[1;33m     \u001b[1;32mraise\u001b[0m\u001b[1;33m(\u001b[0m\u001b[0me\u001b[0m\u001b[1;33m)\u001b[0m\u001b[1;33m\u001b[0m\u001b[1;33m\u001b[0m\u001b[0m\n\u001b[0m\u001b[0;32m      7\u001b[0m \u001b[0mprint\u001b[0m\u001b[1;33m(\u001b[0m\u001b[1;34m'Done!'\u001b[0m\u001b[1;33m)\u001b[0m\u001b[1;33m\u001b[0m\u001b[1;33m\u001b[0m\u001b[0m\n",
      "\u001b[1;32m<ipython-input-22-b5e4987a3538>\u001b[0m in \u001b[0;36m<module>\u001b[1;34m\u001b[0m\n\u001b[0;32m      1\u001b[0m \u001b[1;31m# raise : 강제로 에러를 발생시키는 명령\u001b[0m\u001b[1;33m\u001b[0m\u001b[1;33m\u001b[0m\u001b[1;33m\u001b[0m\u001b[0m\n\u001b[0;32m      2\u001b[0m \u001b[1;32mtry\u001b[0m\u001b[1;33m:\u001b[0m\u001b[1;33m\u001b[0m\u001b[1;33m\u001b[0m\u001b[0m\n\u001b[1;32m----> 3\u001b[1;33m     \u001b[1;36m1\u001b[0m\u001b[1;33m/\u001b[0m\u001b[1;36m0\u001b[0m\u001b[1;33m\u001b[0m\u001b[1;33m\u001b[0m\u001b[0m\n\u001b[0m\u001b[0;32m      4\u001b[0m \u001b[1;32mexcept\u001b[0m \u001b[0mException\u001b[0m \u001b[1;32mas\u001b[0m \u001b[0me\u001b[0m\u001b[1;33m:\u001b[0m\u001b[1;33m\u001b[0m\u001b[1;33m\u001b[0m\u001b[0m\n\u001b[0;32m      5\u001b[0m     \u001b[0mprint\u001b[0m\u001b[1;33m(\u001b[0m\u001b[1;34m'error'\u001b[0m\u001b[1;33m)\u001b[0m\u001b[1;33m\u001b[0m\u001b[1;33m\u001b[0m\u001b[0m\n",
      "\u001b[1;31mZeroDivisionError\u001b[0m: division by zero"
     ]
    }
   ],
   "source": [
    "# raise : 강제로 에러를 발생시키는 명령\n",
    "try:\n",
    "    1/0\n",
    "except Exception as e:\n",
    "    print('error')\n",
    "    raise(e)\n",
    "print('Done!')"
   ]
  },
  {
   "cell_type": "code",
   "execution_count": null,
   "id": "inclusive-collect",
   "metadata": {},
   "outputs": [],
   "source": [
    "# 에러 생성 : 10이상의 숫자가 입력되도록 하는 에러\n",
    "# 10이하가 입력되면 에러\n",
    "# LowNumber"
   ]
  },
  {
   "cell_type": "code",
   "execution_count": 23,
   "id": "under-opera",
   "metadata": {},
   "outputs": [],
   "source": [
    "class LowNumber(Exception):\n",
    "    def __str__(self):\n",
    "        return 'Number grater than 10'\n",
    "    "
   ]
  },
  {
   "cell_type": "code",
   "execution_count": 24,
   "id": "alternate-breach",
   "metadata": {},
   "outputs": [],
   "source": [
    "def input_number(num):\n",
    "    if num <= 10:\n",
    "        raise LowNumber()\n",
    "    print(num)"
   ]
  },
  {
   "cell_type": "code",
   "execution_count": 27,
   "id": "diverse-marketplace",
   "metadata": {},
   "outputs": [
    {
     "name": "stdout",
     "output_type": "stream",
     "text": [
      "12\n"
     ]
    }
   ],
   "source": [
    "input_number(12)"
   ]
  },
  {
   "cell_type": "code",
   "execution_count": 26,
   "id": "invalid-edward",
   "metadata": {
    "scrolled": true
   },
   "outputs": [
    {
     "ename": "LowNumber",
     "evalue": "Number grater than 10",
     "output_type": "error",
     "traceback": [
      "\u001b[1;31m---------------------------------------------------------------------------\u001b[0m",
      "\u001b[1;31mLowNumber\u001b[0m                                 Traceback (most recent call last)",
      "\u001b[1;32m<ipython-input-26-8684a0e33c0b>\u001b[0m in \u001b[0;36m<module>\u001b[1;34m\u001b[0m\n\u001b[1;32m----> 1\u001b[1;33m \u001b[0minput_number\u001b[0m\u001b[1;33m(\u001b[0m\u001b[1;36m8\u001b[0m\u001b[1;33m)\u001b[0m\u001b[1;33m\u001b[0m\u001b[1;33m\u001b[0m\u001b[0m\n\u001b[0m",
      "\u001b[1;32m<ipython-input-24-2dcc4faaa999>\u001b[0m in \u001b[0;36minput_number\u001b[1;34m(num)\u001b[0m\n\u001b[0;32m      1\u001b[0m \u001b[1;32mdef\u001b[0m \u001b[0minput_number\u001b[0m\u001b[1;33m(\u001b[0m\u001b[0mnum\u001b[0m\u001b[1;33m)\u001b[0m\u001b[1;33m:\u001b[0m\u001b[1;33m\u001b[0m\u001b[1;33m\u001b[0m\u001b[0m\n\u001b[0;32m      2\u001b[0m     \u001b[1;32mif\u001b[0m \u001b[0mnum\u001b[0m \u001b[1;33m<=\u001b[0m \u001b[1;36m10\u001b[0m\u001b[1;33m:\u001b[0m\u001b[1;33m\u001b[0m\u001b[1;33m\u001b[0m\u001b[0m\n\u001b[1;32m----> 3\u001b[1;33m         \u001b[1;32mraise\u001b[0m \u001b[0mLowNumber\u001b[0m\u001b[1;33m(\u001b[0m\u001b[1;33m)\u001b[0m\u001b[1;33m\u001b[0m\u001b[1;33m\u001b[0m\u001b[0m\n\u001b[0m\u001b[0;32m      4\u001b[0m     \u001b[0mprint\u001b[0m\u001b[1;33m(\u001b[0m\u001b[0mnum\u001b[0m\u001b[1;33m)\u001b[0m\u001b[1;33m\u001b[0m\u001b[1;33m\u001b[0m\u001b[0m\n",
      "\u001b[1;31mLowNumber\u001b[0m: Number grater than 10"
     ]
    }
   ],
   "source": [
    "input_number(8)"
   ]
  },
  {
   "cell_type": "code",
   "execution_count": null,
   "id": "hawaiian-conditions",
   "metadata": {},
   "outputs": [],
   "source": []
  },
  {
   "cell_type": "markdown",
   "id": "binding-ethernet",
   "metadata": {},
   "source": [
    "### Numpy\n",
    "- 데이터는 행렬로 표현\n",
    "- 행렬 데이터 빠르게 계산을 해야 합니다.\n",
    "- 행렬 데이터 생성, 수정, 계싼등을 빠르게 처리해주는 패키지\n",
    "- 특징\n",
    "    - C, C++, 포트란으로 작성\n",
    "    - 선형대수학을 빠르게 연산\n",
    "        - 스칼라, 벡터, 메트릭스"
   ]
  },
  {
   "cell_type": "code",
   "execution_count": 28,
   "id": "working-discovery",
   "metadata": {},
   "outputs": [],
   "source": [
    "import numpy as np"
   ]
  },
  {
   "cell_type": "code",
   "execution_count": 36,
   "id": "urban-stone",
   "metadata": {},
   "outputs": [
    {
     "name": "stdout",
     "output_type": "stream",
     "text": [
      "<class 'numpy.ndarray'>\n",
      "[1 2 3]\n"
     ]
    }
   ],
   "source": [
    "# 행렬데이터 생성\n",
    "# ndarray : 한가지 데이터 타입만 값으로 사용이 가능\n",
    "array = np.array([1,2,3])\n",
    "print(type(array))\n",
    "print(array)"
   ]
  },
  {
   "cell_type": "code",
   "execution_count": 37,
   "id": "authorized-quick",
   "metadata": {},
   "outputs": [
    {
     "name": "stdout",
     "output_type": "stream",
     "text": [
      "[[1 2 3]\n",
      " [4 5 6]]\n",
      "2\n",
      "(2, 3)\n"
     ]
    }
   ],
   "source": [
    "array2 = np.array(\n",
    "    [[1,2,3],\n",
    "    [4,5,6,]])\n",
    "print(array2)\n",
    "print(array2.ndim) # 2차원 행렬\n",
    "print(array2.shape) # 행, 열"
   ]
  },
  {
   "cell_type": "code",
   "execution_count": null,
   "id": "japanese-attendance",
   "metadata": {},
   "outputs": [],
   "source": []
  },
  {
   "cell_type": "code",
   "execution_count": 40,
   "id": "enabling-riverside",
   "metadata": {},
   "outputs": [
    {
     "name": "stdout",
     "output_type": "stream",
     "text": [
      "[[1 2]\n",
      " [3 4]\n",
      " [5 6]]\n"
     ]
    }
   ],
   "source": [
    "# 행렬의 모양(shape) 변경하기\n",
    "print(array2.reshape(3,2))"
   ]
  },
  {
   "cell_type": "code",
   "execution_count": 41,
   "id": "united-belly",
   "metadata": {},
   "outputs": [
    {
     "data": {
      "text/plain": [
       "array([[[1],\n",
       "        [2]],\n",
       "\n",
       "       [[3],\n",
       "        [4]],\n",
       "\n",
       "       [[5],\n",
       "        [6]]])"
      ]
     },
     "execution_count": 41,
     "metadata": {},
     "output_type": "execute_result"
    }
   ],
   "source": [
    "# 3차원\n",
    "array2.reshape(3,2,1)"
   ]
  },
  {
   "cell_type": "code",
   "execution_count": 47,
   "id": "varied-bearing",
   "metadata": {},
   "outputs": [
    {
     "data": {
      "text/plain": [
       "array([4, 5, 6])"
      ]
     },
     "execution_count": 47,
     "metadata": {},
     "output_type": "execute_result"
    }
   ],
   "source": [
    "# 행렬 데이터의 선택 : offset index : masking\n",
    "array2[1]"
   ]
  },
  {
   "cell_type": "code",
   "execution_count": 48,
   "id": "czech-buddy",
   "metadata": {},
   "outputs": [
    {
     "data": {
      "text/plain": [
       "6"
      ]
     },
     "execution_count": 48,
     "metadata": {},
     "output_type": "execute_result"
    }
   ],
   "source": [
    "array2[1][2]"
   ]
  },
  {
   "cell_type": "code",
   "execution_count": 50,
   "id": "composite-thomson",
   "metadata": {},
   "outputs": [
    {
     "data": {
      "text/plain": [
       "6"
      ]
     },
     "execution_count": 50,
     "metadata": {},
     "output_type": "execute_result"
    }
   ],
   "source": [
    "array2[1,2] # array2[1][2]"
   ]
  },
  {
   "cell_type": "code",
   "execution_count": null,
   "id": "hearing-bacon",
   "metadata": {},
   "outputs": [],
   "source": []
  },
  {
   "cell_type": "code",
   "execution_count": 51,
   "id": "running-district",
   "metadata": {},
   "outputs": [],
   "source": [
    "# 데이터 수정"
   ]
  },
  {
   "cell_type": "code",
   "execution_count": 55,
   "id": "south-jerusalem",
   "metadata": {},
   "outputs": [
    {
     "data": {
      "text/plain": [
       "[1, 5, 3]"
      ]
     },
     "execution_count": 55,
     "metadata": {},
     "output_type": "execute_result"
    }
   ],
   "source": [
    "ls = [1,2,3]\n",
    "ls[1] = 5\n",
    "ls"
   ]
  },
  {
   "cell_type": "code",
   "execution_count": 53,
   "id": "strange-illinois",
   "metadata": {
    "scrolled": true
   },
   "outputs": [
    {
     "data": {
      "text/plain": [
       "array([[1, 2, 3],\n",
       "       [4, 5, 6]])"
      ]
     },
     "execution_count": 53,
     "metadata": {},
     "output_type": "execute_result"
    }
   ],
   "source": [
    "array2"
   ]
  },
  {
   "cell_type": "code",
   "execution_count": 58,
   "id": "configured-surgeon",
   "metadata": {
    "scrolled": true
   },
   "outputs": [
    {
     "data": {
      "text/plain": [
       "array([[ 1,  2,  3],\n",
       "       [ 4,  5, 10]])"
      ]
     },
     "execution_count": 58,
     "metadata": {},
     "output_type": "execute_result"
    }
   ],
   "source": [
    "array2[1][2] = 10\n",
    "array2"
   ]
  },
  {
   "cell_type": "code",
   "execution_count": 59,
   "id": "solar-strength",
   "metadata": {},
   "outputs": [],
   "source": [
    "# 브로드 캐스팅\n",
    "array2[0] = 0\n",
    "array2"
   ]
  },
  {
   "cell_type": "code",
   "execution_count": 61,
   "id": "caroline-landscape",
   "metadata": {},
   "outputs": [
    {
     "data": {
      "text/plain": [
       "array([[ 7,  8,  9],\n",
       "       [ 4,  5, 10]])"
      ]
     },
     "execution_count": 61,
     "metadata": {},
     "output_type": "execute_result"
    }
   ],
   "source": [
    "array2[0] = [7,8,9]\n",
    "array2"
   ]
  },
  {
   "cell_type": "code",
   "execution_count": 65,
   "id": "choice-raise",
   "metadata": {},
   "outputs": [
    {
     "data": {
      "text/plain": [
       "array([[False,  True,  True],\n",
       "       [False, False,  True]])"
      ]
     },
     "execution_count": 65,
     "metadata": {},
     "output_type": "execute_result"
    }
   ],
   "source": [
    "# 조건으로 선택\n",
    "array2 > 7"
   ]
  },
  {
   "cell_type": "code",
   "execution_count": 66,
   "id": "historic-planet",
   "metadata": {},
   "outputs": [
    {
     "data": {
      "text/plain": [
       "array([ 8,  9, 10])"
      ]
     },
     "execution_count": 66,
     "metadata": {},
     "output_type": "execute_result"
    }
   ],
   "source": [
    "idx = array2 > 7\n",
    "array2[idx]"
   ]
  },
  {
   "cell_type": "code",
   "execution_count": 67,
   "id": "convertible-dragon",
   "metadata": {},
   "outputs": [
    {
     "data": {
      "text/plain": [
       "array([[  7, 100, 100],\n",
       "       [  4,   5, 100]])"
      ]
     },
     "execution_count": 67,
     "metadata": {},
     "output_type": "execute_result"
    }
   ],
   "source": [
    "array2[idx] = 100\n",
    "array2"
   ]
  },
  {
   "cell_type": "code",
   "execution_count": 68,
   "id": "general-american",
   "metadata": {},
   "outputs": [],
   "source": [
    "# 행렬 데이터의 생성 2"
   ]
  },
  {
   "cell_type": "code",
   "execution_count": 69,
   "id": "important-guatemala",
   "metadata": {},
   "outputs": [
    {
     "data": {
      "text/plain": [
       "array([[0., 0., 0.],\n",
       "       [0., 0., 0.]])"
      ]
     },
     "execution_count": 69,
     "metadata": {},
     "output_type": "execute_result"
    }
   ],
   "source": [
    "data = np.zeros((2,3))\n",
    "data"
   ]
  },
  {
   "cell_type": "code",
   "execution_count": 70,
   "id": "destroyed-example",
   "metadata": {},
   "outputs": [
    {
     "data": {
      "text/plain": [
       "dtype('float64')"
      ]
     },
     "execution_count": 70,
     "metadata": {},
     "output_type": "execute_result"
    }
   ],
   "source": [
    "data.dtype"
   ]
  },
  {
   "cell_type": "code",
   "execution_count": 72,
   "id": "selected-delta",
   "metadata": {},
   "outputs": [
    {
     "data": {
      "text/plain": [
       "dtype('int32')"
      ]
     },
     "execution_count": 72,
     "metadata": {},
     "output_type": "execute_result"
    }
   ],
   "source": [
    "data2 = data.astype('int')\n",
    "data2.dtype"
   ]
  },
  {
   "cell_type": "code",
   "execution_count": 77,
   "id": "steady-backing",
   "metadata": {},
   "outputs": [
    {
     "data": {
      "text/plain": [
       "array([[1., 1., 1.],\n",
       "       [1., 1., 1.]])"
      ]
     },
     "execution_count": 77,
     "metadata": {},
     "output_type": "execute_result"
    }
   ],
   "source": [
    "data3 = np.ones((2,3))\n",
    "data3"
   ]
  },
  {
   "cell_type": "code",
   "execution_count": 78,
   "id": "tribal-badge",
   "metadata": {},
   "outputs": [
    {
     "data": {
      "text/plain": [
       "array([0, 1, 2, 3, 4])"
      ]
     },
     "execution_count": 78,
     "metadata": {},
     "output_type": "execute_result"
    }
   ],
   "source": [
    "# arange\n",
    "np.arange(5)"
   ]
  },
  {
   "cell_type": "code",
   "execution_count": 79,
   "id": "outdoor-field",
   "metadata": {},
   "outputs": [
    {
     "data": {
      "text/plain": [
       "array([5, 6, 7, 8, 9])"
      ]
     },
     "execution_count": 79,
     "metadata": {},
     "output_type": "execute_result"
    }
   ],
   "source": [
    "np.arange(5,10)"
   ]
  },
  {
   "cell_type": "code",
   "execution_count": 80,
   "id": "mathematical-evidence",
   "metadata": {},
   "outputs": [
    {
     "data": {
      "text/plain": [
       "array([5, 7, 9])"
      ]
     },
     "execution_count": 80,
     "metadata": {},
     "output_type": "execute_result"
    }
   ],
   "source": [
    "np.arange(5,10,2)"
   ]
  },
  {
   "cell_type": "code",
   "execution_count": null,
   "id": "alternative-australian",
   "metadata": {},
   "outputs": [],
   "source": []
  }
 ],
 "metadata": {
  "kernelspec": {
   "display_name": "Python 3",
   "language": "python",
   "name": "python3"
  },
  "language_info": {
   "codemirror_mode": {
    "name": "ipython",
    "version": 3
   },
   "file_extension": ".py",
   "mimetype": "text/x-python",
   "name": "python",
   "nbconvert_exporter": "python",
   "pygments_lexer": "ipython3",
   "version": "3.7.10"
  }
 },
 "nbformat": 4,
 "nbformat_minor": 5
}
