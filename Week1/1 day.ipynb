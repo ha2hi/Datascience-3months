{
 "cells": [
  {
   "cell_type": "markdown",
   "id": "noticed-mainstream",
   "metadata": {},
   "source": [
    "## Jupyter notebook\n",
    "- mode\n",
    "    - 명령모드(esc) : 셀을 수정할때 사용\n",
    "    - 편집모드(enter) : 셀안의 내용을 수정할때 사용\n",
    "-style\n",
    "    - markdown(명령모드 + m) : 셀안에 설명을 작성할때 사용\n",
    "    - code(명령모드 + y) : 파이썬 코드를 작성할때 사용\n",
    "        \n",
    "- 단축기\n",
    "    - 셀 실행 : shift + enter\n",
    "    - 셀 삭제 : 명령모드 + x\n",
    "    - 되돌리기 : 명령모드 + z\n",
    "    - 셀 생성 : 명령모드 + a(위), b(아래)"
   ]
  },
  {
   "cell_type": "code",
   "execution_count": 2,
   "id": "graphic-vermont",
   "metadata": {},
   "outputs": [
    {
     "data": {
      "text/plain": [
       "5"
      ]
     },
     "execution_count": 2,
     "metadata": {},
     "output_type": "execute_result"
    }
   ],
   "source": [
    "2+3"
   ]
  },
  {
   "cell_type": "code",
   "execution_count": null,
   "id": "stainless-virgin",
   "metadata": {},
   "outputs": [],
   "source": []
  },
  {
   "cell_type": "markdown",
   "id": "unsigned-transsexual",
   "metadata": {},
   "source": [
    "### Magic Command\n",
    "- 셀 내부에서 특별하게 동작하는 커맨드\n",
    "- % : 한 줄의 magic command를 동작\n",
    "- %% : 셀 단위의 mgic command를 동작\n",
    "- 주요 magic command \n",
    "    - pwd : 현재 주피터 노트북 파일의 경로\n",
    "    - ls : 현재 디렉토리의 파일 리스트\n",
    "    - whos : 현재 선언된 변수 출력\n",
    "    - reset : 현재 선언된 모든 변수 삭제"
   ]
  },
  {
   "cell_type": "code",
   "execution_count": 11,
   "id": "computational-minute",
   "metadata": {},
   "outputs": [
    {
     "data": {
      "text/plain": [
       "'C:\\\\Users\\\\user\\\\fast'"
      ]
     },
     "execution_count": 11,
     "metadata": {},
     "output_type": "execute_result"
    }
   ],
   "source": [
    "%pwd"
   ]
  },
  {
   "cell_type": "code",
   "execution_count": 12,
   "id": "practical-mongolia",
   "metadata": {},
   "outputs": [],
   "source": [
    "a = 1"
   ]
  },
  {
   "cell_type": "code",
   "execution_count": 13,
   "id": "biological-glory",
   "metadata": {},
   "outputs": [
    {
     "name": "stdout",
     "output_type": "stream",
     "text": [
      "Variable   Type    Data/Info\n",
      "----------------------------\n",
      "a          int     1\n"
     ]
    }
   ],
   "source": [
    "%whos"
   ]
  },
  {
   "cell_type": "code",
   "execution_count": 14,
   "id": "educational-backup",
   "metadata": {},
   "outputs": [
    {
     "name": "stdout",
     "output_type": "stream",
     "text": [
      "Once deleted, variables cannot be recovered. Proceed (y/[n])? y\n"
     ]
    }
   ],
   "source": [
    "%reset"
   ]
  },
  {
   "cell_type": "code",
   "execution_count": 15,
   "id": "boxed-surveillance",
   "metadata": {},
   "outputs": [
    {
     "name": "stdout",
     "output_type": "stream",
     "text": [
      "Interactive namespace is empty.\n"
     ]
    }
   ],
   "source": [
    "%whos"
   ]
  },
  {
   "cell_type": "code",
   "execution_count": null,
   "id": "current-jaguar",
   "metadata": {},
   "outputs": [],
   "source": []
  },
  {
   "cell_type": "markdown",
   "id": "limited-thursday",
   "metadata": {},
   "source": [
    "### Shell command\n",
    "- 주피터 노트북을 실행 쉘 환경의 명령을 사용\n",
    "- 명령어 앞에 !을 붙여 실행\n",
    "- 주요 명령어\n",
    "    - ls, cat, echo..."
   ]
  },
  {
   "cell_type": "code",
   "execution_count": 8,
   "id": "commercial-control",
   "metadata": {},
   "outputs": [
    {
     "name": "stdout",
     "output_type": "stream",
     "text": [
      "python\n"
     ]
    }
   ],
   "source": [
    "!echo python"
   ]
  },
  {
   "cell_type": "code",
   "execution_count": 10,
   "id": "medieval-therapist",
   "metadata": {},
   "outputs": [
    {
     "name": "stdout",
     "output_type": "stream",
     "text": [
      " C 드라이브의 볼륨에는 이름이 없습니다.\n",
      " 볼륨 일련 번호: CC15-C0FD\n",
      "\n",
      " C:\\Users\\user\\fast 디렉터리\n",
      "\n",
      "2021-04-28  오후 05:26    <DIR>          .\n",
      "2021-04-28  오후 05:26    <DIR>          ..\n",
      "2021-04-28  오후 05:20    <DIR>          .ipynb_checkpoints\n",
      "2021-04-22  오후 03:23    <DIR>          03. 뉴욕(NYC) 택시수요 예측 Project\n",
      "2021-04-19  오전 09:50    <DIR>          08. Ensemble 기법의 종류와 원리\n",
      "2021-04-26  오후 01:15            27,295 3 day.ipynb\n",
      "2021-04-27  오후 06:29            29,207 4 day.ipynb\n",
      "2021-04-28  오후 05:03            25,515 5 day.ipynb\n",
      "2021-04-28  오후 05:26             9,558 Untitled.ipynb\n",
      "               4개 파일              91,575 바이트\n",
      "               5개 디렉터리  71,836,921,856 바이트 남음\n"
     ]
    }
   ],
   "source": [
    "!dir"
   ]
  },
  {
   "cell_type": "code",
   "execution_count": null,
   "id": "unique-murray",
   "metadata": {},
   "outputs": [],
   "source": []
  },
  {
   "cell_type": "markdown",
   "id": "boxed-priority",
   "metadata": {},
   "source": [
    "### 파이썬의 기본 문법\n",
    "- 변수 선언, 식별자, 자료형, 형 변환, 연산자 학습"
   ]
  },
  {
   "cell_type": "markdown",
   "id": "united-gather",
   "metadata": {},
   "source": [
    "### 1. 주석(command)와 출력(print)"
   ]
  },
  {
   "cell_type": "code",
   "execution_count": 17,
   "id": "proud-philippines",
   "metadata": {},
   "outputs": [
    {
     "name": "stdout",
     "output_type": "stream",
     "text": [
      "1\n",
      "2\n",
      "3\n"
     ]
    }
   ],
   "source": [
    "# 주석 : 앞에 #를 붙이면 코드로 실행이 안됩니다.\n",
    "# 코드에 대한 설명이나 중간에 코드를 실행시키고 싶지 않을때 사용\n",
    "# 단축키 : ctrl(cmd) + /\n",
    "# 블록설정 : shift + 방향키\n",
    "\n",
    "# 1, 2, 3을 출력하는 코드\n",
    "print(1)\n",
    "print(2)\n",
    "print(3)"
   ]
  },
  {
   "cell_type": "code",
   "execution_count": 19,
   "id": "pleasant-montana",
   "metadata": {},
   "outputs": [],
   "source": [
    "# 출력 : print 함수\n",
    "# 코드 중간에 변수에 들어있는 값을 확인하고 싶을때 사용"
   ]
  },
  {
   "cell_type": "code",
   "execution_count": 21,
   "id": "straight-portugal",
   "metadata": {},
   "outputs": [
    {
     "name": "stdout",
     "output_type": "stream",
     "text": [
      "2\n",
      "4\n"
     ]
    }
   ],
   "source": [
    "a = 1\n",
    "b = 2\n",
    "print(b)\n",
    "c = 3\n",
    "d = 4\n",
    "print(d)"
   ]
  },
  {
   "cell_type": "code",
   "execution_count": 23,
   "id": "trained-employer",
   "metadata": {},
   "outputs": [
    {
     "name": "stdout",
     "output_type": "stream",
     "text": [
      "1-2\t3\n"
     ]
    }
   ],
   "source": [
    "# print 함수의 옵션\n",
    "# docstring : 함수에 대한 설명 : 단축키(shift + tab)\n",
    "# 자동완성 : tab\n",
    "\n",
    "print(1, 2, sep = '-', end = '\\t')\n",
    "print(3)"
   ]
  },
  {
   "cell_type": "code",
   "execution_count": null,
   "id": "lasting-phoenix",
   "metadata": {},
   "outputs": [],
   "source": []
  },
  {
   "cell_type": "markdown",
   "id": "vocal-fitting",
   "metadata": {},
   "source": [
    "### 2. 변수 선언\n",
    "- RAM 저장공간에 값을 할당한느 행위"
   ]
  },
  {
   "cell_type": "code",
   "execution_count": 25,
   "id": "burning-nancy",
   "metadata": {},
   "outputs": [
    {
     "data": {
      "text/plain": [
       "3"
      ]
     },
     "execution_count": 25,
     "metadata": {},
     "output_type": "execute_result"
    }
   ],
   "source": [
    "a = 1\n",
    "b = 2\n",
    "c = a + b\n",
    "c"
   ]
  },
  {
   "cell_type": "code",
   "execution_count": 26,
   "id": "close-hamilton",
   "metadata": {},
   "outputs": [],
   "source": [
    "d, e = 3, 4\n",
    "f = g = 5"
   ]
  },
  {
   "cell_type": "code",
   "execution_count": null,
   "id": "thousand-bolivia",
   "metadata": {},
   "outputs": [],
   "source": []
  },
  {
   "cell_type": "markdown",
   "id": "spectacular-consensus",
   "metadata": {},
   "source": [
    "### 3. 식별자\n",
    "- 변수, 함수, 클래스, 모듈등의 이름을 식별자라고 합니다.\n",
    "- 식별자 규칙\n",
    "    - 소문자, 대문자, 숫자, _을 사용합니다.\n",
    "    - 가장 앞에 숫자 사용 불가\n",
    "    - 예약어의 사용 불가 : def, class ...\n",
    "    - 컨벤션\n",
    "        - snake case : fast_campus : 변수, 함수\n",
    "        - camel case : FastCampus : 클래스"
   ]
  },
  {
   "cell_type": "code",
   "execution_count": null,
   "id": "numerous-knowing",
   "metadata": {},
   "outputs": [],
   "source": []
  },
  {
   "cell_type": "markdown",
   "id": "super-blend",
   "metadata": {},
   "source": [
    "### 4. 데이터 타입\n",
    "- RAM 저장공간을 효율적으로 사용하기 위해서 저장공간의 타입을 설정\n",
    "- 동적타이핑\n",
    "    - 변수 선언시 저장되는 값에 따라서 자동으로 데이터 타입이 설정\n",
    "- 기본 데이터 타입 : int, float, bool, str\n",
    "- 컬렉션 데이터 타입 : list, tuple, dict"
   ]
  },
  {
   "cell_type": "code",
   "execution_count": 27,
   "id": "fantastic-gibson",
   "metadata": {},
   "outputs": [
    {
     "data": {
      "text/plain": [
       "(int, str)"
      ]
     },
     "execution_count": 27,
     "metadata": {},
     "output_type": "execute_result"
    }
   ],
   "source": [
    "a = 1\n",
    "b = 'python'\n",
    "type(a), type(b)"
   ]
  },
  {
   "cell_type": "code",
   "execution_count": 28,
   "id": "direct-ontario",
   "metadata": {},
   "outputs": [
    {
     "data": {
      "text/plain": [
       "(int, float, bool, str)"
      ]
     },
     "execution_count": 28,
     "metadata": {},
     "output_type": "execute_result"
    }
   ],
   "source": [
    "# 기본 데이터 타입 : int, float, bool, str\n",
    "a = 1\n",
    "b = 1.2\n",
    "c = True\n",
    "d = 'data'\n",
    "type(a), type(b), type(c), type(d)"
   ]
  },
  {
   "cell_type": "code",
   "execution_count": 29,
   "id": "lovely-plane",
   "metadata": {},
   "outputs": [
    {
     "data": {
      "text/plain": [
       "2.2"
      ]
     },
     "execution_count": 29,
     "metadata": {},
     "output_type": "execute_result"
    }
   ],
   "source": [
    "a + b"
   ]
  },
  {
   "cell_type": "code",
   "execution_count": 30,
   "id": "choice-regard",
   "metadata": {},
   "outputs": [
    {
     "ename": "TypeError",
     "evalue": "unsupported operand type(s) for +: 'int' and 'str'",
     "output_type": "error",
     "traceback": [
      "\u001b[1;31m---------------------------------------------------------------------------\u001b[0m",
      "\u001b[1;31mTypeError\u001b[0m                                 Traceback (most recent call last)",
      "\u001b[1;32m<ipython-input-30-4fbab87c839c>\u001b[0m in \u001b[0;36m<module>\u001b[1;34m\u001b[0m\n\u001b[1;32m----> 1\u001b[1;33m \u001b[0ma\u001b[0m \u001b[1;33m+\u001b[0m \u001b[0md\u001b[0m\u001b[1;33m\u001b[0m\u001b[1;33m\u001b[0m\u001b[0m\n\u001b[0m",
      "\u001b[1;31mTypeError\u001b[0m: unsupported operand type(s) for +: 'int' and 'str'"
     ]
    }
   ],
   "source": [
    "a + d # Type 에러"
   ]
  },
  {
   "cell_type": "code",
   "execution_count": 33,
   "id": "metallic-formation",
   "metadata": {},
   "outputs": [
    {
     "data": {
      "text/plain": [
       "('data', 'DATA')"
      ]
     },
     "execution_count": 33,
     "metadata": {},
     "output_type": "execute_result"
    }
   ],
   "source": [
    "e = d.upper()\n",
    "d, e"
   ]
  },
  {
   "cell_type": "code",
   "execution_count": 37,
   "id": "relevant-revelation",
   "metadata": {},
   "outputs": [],
   "source": [
    "f = ' Fast campus '"
   ]
  },
  {
   "cell_type": "code",
   "execution_count": 38,
   "id": "continent-midwest",
   "metadata": {},
   "outputs": [
    {
     "data": {
      "text/plain": [
       "' fast campus '"
      ]
     },
     "execution_count": 38,
     "metadata": {},
     "output_type": "execute_result"
    }
   ],
   "source": [
    "# lower : 소문자로 변환\n",
    "f.lower()"
   ]
  },
  {
   "cell_type": "code",
   "execution_count": 39,
   "id": "lesser-director",
   "metadata": {},
   "outputs": [
    {
     "data": {
      "text/plain": [
       "'Fast campus'"
      ]
     },
     "execution_count": 39,
     "metadata": {},
     "output_type": "execute_result"
    }
   ],
   "source": [
    "# strip : 앞, 뒤 공백제거\n",
    "f.strip()"
   ]
  },
  {
   "cell_type": "code",
   "execution_count": 41,
   "id": "stock-album",
   "metadata": {},
   "outputs": [
    {
     "data": {
      "text/plain": [
       "' Slow campus '"
      ]
     },
     "execution_count": 41,
     "metadata": {},
     "output_type": "execute_result"
    }
   ],
   "source": [
    "# replace : 특정 문자열 치열\n",
    "f.replace('Fast', 'Slow')"
   ]
  },
  {
   "cell_type": "code",
   "execution_count": 42,
   "id": "cross-intranet",
   "metadata": {},
   "outputs": [
    {
     "data": {
      "text/plain": [
       "['__add__',\n",
       " '__class__',\n",
       " '__contains__',\n",
       " '__delattr__',\n",
       " '__dir__',\n",
       " '__doc__',\n",
       " '__eq__',\n",
       " '__format__',\n",
       " '__ge__',\n",
       " '__getattribute__',\n",
       " '__getitem__',\n",
       " '__getnewargs__',\n",
       " '__gt__',\n",
       " '__hash__',\n",
       " '__init__',\n",
       " '__init_subclass__',\n",
       " '__iter__',\n",
       " '__le__',\n",
       " '__len__',\n",
       " '__lt__',\n",
       " '__mod__',\n",
       " '__mul__',\n",
       " '__ne__',\n",
       " '__new__',\n",
       " '__reduce__',\n",
       " '__reduce_ex__',\n",
       " '__repr__',\n",
       " '__rmod__',\n",
       " '__rmul__',\n",
       " '__setattr__',\n",
       " '__sizeof__',\n",
       " '__str__',\n",
       " '__subclasshook__',\n",
       " 'capitalize',\n",
       " 'casefold',\n",
       " 'center',\n",
       " 'count',\n",
       " 'encode',\n",
       " 'endswith',\n",
       " 'expandtabs',\n",
       " 'find',\n",
       " 'format',\n",
       " 'format_map',\n",
       " 'index',\n",
       " 'isalnum',\n",
       " 'isalpha',\n",
       " 'isascii',\n",
       " 'isdecimal',\n",
       " 'isdigit',\n",
       " 'isidentifier',\n",
       " 'islower',\n",
       " 'isnumeric',\n",
       " 'isprintable',\n",
       " 'isspace',\n",
       " 'istitle',\n",
       " 'isupper',\n",
       " 'join',\n",
       " 'ljust',\n",
       " 'lower',\n",
       " 'lstrip',\n",
       " 'maketrans',\n",
       " 'partition',\n",
       " 'replace',\n",
       " 'rfind',\n",
       " 'rindex',\n",
       " 'rjust',\n",
       " 'rpartition',\n",
       " 'rsplit',\n",
       " 'rstrip',\n",
       " 'split',\n",
       " 'splitlines',\n",
       " 'startswith',\n",
       " 'strip',\n",
       " 'swapcase',\n",
       " 'title',\n",
       " 'translate',\n",
       " 'upper',\n",
       " 'zfill']"
      ]
     },
     "execution_count": 42,
     "metadata": {},
     "output_type": "execute_result"
    }
   ],
   "source": [
    "# 함수 확인\n",
    "dir(f)"
   ]
  },
  {
   "cell_type": "code",
   "execution_count": null,
   "id": "threaded-tourism",
   "metadata": {},
   "outputs": [],
   "source": []
  },
  {
   "cell_type": "code",
   "execution_count": 43,
   "id": "biological-issue",
   "metadata": {},
   "outputs": [],
   "source": [
    "# 오프셋 인덱스 : 마스크, 마스킹 : []\n",
    "# 문자열은 순서가 있는 문자들의 집합"
   ]
  },
  {
   "cell_type": "code",
   "execution_count": 44,
   "id": "unlimited-forward",
   "metadata": {},
   "outputs": [
    {
     "data": {
      "text/plain": [
       "('c', 'f', 'cde', 'ab', 'defg', 'aceg')"
      ]
     },
     "execution_count": 44,
     "metadata": {},
     "output_type": "execute_result"
    }
   ],
   "source": [
    "g = 'abcdefg'\n",
    "g[2], g[-2], g[2:5], g[:2], g[3:], g[::2]"
   ]
  },
  {
   "cell_type": "code",
   "execution_count": 48,
   "id": "impossible-thirty",
   "metadata": {},
   "outputs": [
    {
     "data": {
      "text/plain": [
       "'97531'"
      ]
     },
     "execution_count": 48,
     "metadata": {},
     "output_type": "execute_result"
    }
   ],
   "source": [
    "number = '123456789' # 97531 출력\n",
    "number[::-2]"
   ]
  },
  {
   "cell_type": "code",
   "execution_count": null,
   "id": "contained-composition",
   "metadata": {},
   "outputs": [],
   "source": []
  },
  {
   "cell_type": "markdown",
   "id": "hollywood-citation",
   "metadata": {},
   "source": [
    "### 컬렉션 데이터 타입 : list, tuple\n",
    "- list : 순서가 있는 수정이 가능한 타입\n",
    "- tuple : 순서가 있는 수정이 불가능한 타입\n",
    "- dict : 순서가 없고 key:value로 구성"
   ]
  },
  {
   "cell_type": "code",
   "execution_count": 52,
   "id": "defensive-milton",
   "metadata": {},
   "outputs": [
    {
     "name": "stdout",
     "output_type": "stream",
     "text": [
      "<class 'list'>\n",
      "[1, 2, 3, 'four', [5, 6], True, 1.2]\n"
     ]
    }
   ],
   "source": [
    "#list\n",
    "ls = [1, 2, 3, 'four', [5,6], True, 1.2]\n",
    "print(type(ls))\n",
    "print(ls)"
   ]
  },
  {
   "cell_type": "code",
   "execution_count": 53,
   "id": "public-replication",
   "metadata": {},
   "outputs": [
    {
     "data": {
      "text/plain": [
       "('four', [2, 3], [1.2, True, [5, 6], 'four', 3, 2, 1])"
      ]
     },
     "execution_count": 53,
     "metadata": {},
     "output_type": "execute_result"
    }
   ],
   "source": [
    "# offset index 사용이 가능\n",
    "ls[3], ls[1:3], ls[::-1]"
   ]
  },
  {
   "cell_type": "code",
   "execution_count": 54,
   "id": "biblical-stability",
   "metadata": {},
   "outputs": [],
   "source": [
    "ls = [1, 5, 2, 4]"
   ]
  },
  {
   "cell_type": "code",
   "execution_count": 62,
   "id": "operating-return",
   "metadata": {},
   "outputs": [
    {
     "data": {
      "text/plain": [
       "[1, 5, 2, 4, 3]"
      ]
     },
     "execution_count": 62,
     "metadata": {},
     "output_type": "execute_result"
    }
   ],
   "source": [
    "# append : 가장 뒤에 값을 추가\n",
    "ls.append(3)\n",
    "ls"
   ]
  },
  {
   "cell_type": "code",
   "execution_count": 65,
   "id": "velvet-equality",
   "metadata": {},
   "outputs": [
    {
     "name": "stdout",
     "output_type": "stream",
     "text": [
      "[5, 4, 3, 2, 1]\n"
     ]
    }
   ],
   "source": [
    "# sort : 오름차순으로 정렬\n",
    "print(ls[::-1]) #내림차순으로 정렬"
   ]
  },
  {
   "cell_type": "code",
   "execution_count": 71,
   "id": "crucial-clock",
   "metadata": {},
   "outputs": [
    {
     "name": "stdout",
     "output_type": "stream",
     "text": [
      "5\n",
      "[1, 2, 3, 4]\n"
     ]
    }
   ],
   "source": [
    "# pop : 가장 마지막 데이터를 출력하고 출력한 데이터를 삭제\n",
    "num = ls.pop()\n",
    "print(num)\n",
    "print(ls)"
   ]
  },
  {
   "cell_type": "code",
   "execution_count": null,
   "id": "expensive-hometown",
   "metadata": {},
   "outputs": [],
   "source": []
  },
  {
   "cell_type": "code",
   "execution_count": 72,
   "id": "spatial-massage",
   "metadata": {},
   "outputs": [
    {
     "data": {
      "text/plain": [
       "([1, 2, 3], [1, 2, 3])"
      ]
     },
     "execution_count": 72,
     "metadata": {},
     "output_type": "execute_result"
    }
   ],
   "source": [
    "# 리스트의 복사\n",
    "ls1 = [1, 2, 3]\n",
    "ls2 = ls1 # 얕은 복사 : 주소값 복사\n",
    "ls1, ls2"
   ]
  },
  {
   "cell_type": "code",
   "execution_count": 73,
   "id": "amazing-claim",
   "metadata": {},
   "outputs": [],
   "source": [
    "ls1[2] = 5"
   ]
  },
  {
   "cell_type": "code",
   "execution_count": 75,
   "id": "practical-exemption",
   "metadata": {},
   "outputs": [
    {
     "data": {
      "text/plain": [
       "([1, 2, 5], [1, 2, 5])"
      ]
     },
     "execution_count": 75,
     "metadata": {},
     "output_type": "execute_result"
    }
   ],
   "source": [
    "# 주소값 복사에 의해 비슷하다\n",
    "ls1, ls2"
   ]
  },
  {
   "cell_type": "code",
   "execution_count": 77,
   "id": "secret-permission",
   "metadata": {},
   "outputs": [],
   "source": [
    "ls3 = ls1.copy()"
   ]
  },
  {
   "cell_type": "code",
   "execution_count": 78,
   "id": "desperate-craps",
   "metadata": {},
   "outputs": [
    {
     "data": {
      "text/plain": [
       "([1, 2, 5], [1, 2, 5])"
      ]
     },
     "execution_count": 78,
     "metadata": {},
     "output_type": "execute_result"
    }
   ],
   "source": [
    "ls1, ls3"
   ]
  },
  {
   "cell_type": "code",
   "execution_count": 79,
   "id": "developing-adult",
   "metadata": {},
   "outputs": [
    {
     "data": {
      "text/plain": [
       "([1, 2, 10], [1, 2, 5])"
      ]
     },
     "execution_count": 79,
     "metadata": {},
     "output_type": "execute_result"
    }
   ],
   "source": [
    "ls1[2] = 10\n",
    "ls1, ls3"
   ]
  },
  {
   "cell_type": "code",
   "execution_count": null,
   "id": "blank-disposal",
   "metadata": {},
   "outputs": [],
   "source": []
  },
  {
   "cell_type": "markdown",
   "id": "dated-level",
   "metadata": {},
   "source": [
    "### Tuple : 리스트와 같지만 수정이 불가능한 데이터 타입\n",
    "- 튜플은 리스트보다 같은 데이터를 가졌을때 공간을 적게 사용한다."
   ]
  },
  {
   "cell_type": "code",
   "execution_count": 81,
   "id": "living-hunter",
   "metadata": {},
   "outputs": [
    {
     "data": {
      "text/plain": [
       "(tuple, tuple, (1, 2, 3), (4, 5, 6))"
      ]
     },
     "execution_count": 81,
     "metadata": {},
     "output_type": "execute_result"
    }
   ],
   "source": [
    "tp1 = 1,2,3\n",
    "tp2 = (4,5,6)\n",
    "type(tp1), type(tp2), tp1, tp2"
   ]
  },
  {
   "cell_type": "code",
   "execution_count": 82,
   "id": "fewer-miami",
   "metadata": {},
   "outputs": [
    {
     "name": "stdout",
     "output_type": "stream",
     "text": [
      "2\n",
      "(3, 2, 1)\n"
     ]
    }
   ],
   "source": [
    "# offset index 사용\n",
    "print(tp1[1])\n",
    "print(tp1[::-1])"
   ]
  },
  {
   "cell_type": "code",
   "execution_count": null,
   "id": "painful-ukraine",
   "metadata": {},
   "outputs": [],
   "source": []
  },
  {
   "cell_type": "markdown",
   "id": "further-beads",
   "metadata": {},
   "source": [
    "### dict : {}\n",
    "- 순서가 없고 {키 : 값}으로 구성되어 있는 데이터타입\n",
    "- 키는 정수, 문자열 데이터 타입만 사용이 가능\n",
    "- 인덱스 대신 키를 사용"
   ]
  },
  {
   "cell_type": "code",
   "execution_count": 83,
   "id": "beautiful-marathon",
   "metadata": {},
   "outputs": [
    {
     "data": {
      "text/plain": [
       "(dict, {1: 'one', 'two': 2, 'three': [1, 2, 3]})"
      ]
     },
     "execution_count": 83,
     "metadata": {},
     "output_type": "execute_result"
    }
   ],
   "source": [
    "dic = {\n",
    "    1 : 'one',\n",
    "    'two' : 2,\n",
    "    'three' : [1,2,3]\n",
    "}\n",
    "type(dic) ,dic"
   ]
  },
  {
   "cell_type": "code",
   "execution_count": 84,
   "id": "architectural-reasoning",
   "metadata": {},
   "outputs": [
    {
     "name": "stdout",
     "output_type": "stream",
     "text": [
      "one\n",
      "[1, 2, 3]\n"
     ]
    }
   ],
   "source": [
    "print(dic[1])\n",
    "print(dic['three'])"
   ]
  },
  {
   "cell_type": "code",
   "execution_count": 86,
   "id": "aggregate-destruction",
   "metadata": {},
   "outputs": [
    {
     "data": {
      "text/plain": [
       "{1: 'one', 'two': 123, 'three': [1, 2, 3]}"
      ]
     },
     "execution_count": 86,
     "metadata": {},
     "output_type": "execute_result"
    }
   ],
   "source": [
    "dic['two'] = 123\n",
    "dic"
   ]
  },
  {
   "cell_type": "code",
   "execution_count": null,
   "id": "closing-inspection",
   "metadata": {},
   "outputs": [],
   "source": []
  },
  {
   "cell_type": "code",
   "execution_count": 87,
   "id": "legislative-sense",
   "metadata": {},
   "outputs": [],
   "source": [
    "# 아래의 데이터를 list -> dict 해보기\n",
    "# 도시 : seoul, busan, daegu\n",
    "# 인구 : 9,700,000, 3,400,000, 2,400,000"
   ]
  },
  {
   "cell_type": "code",
   "execution_count": 88,
   "id": "labeled-hydrogen",
   "metadata": {},
   "outputs": [],
   "source": [
    "city = ['seoul', 'busan', 'daegu']\n",
    "population = [9700000, 3400000, 2400000]"
   ]
  },
  {
   "cell_type": "code",
   "execution_count": 92,
   "id": "floral-question",
   "metadata": {},
   "outputs": [
    {
     "data": {
      "text/plain": [
       "{'seoul': 9700000, 'busan': 3400000, 'daegu': 2400000}"
      ]
     },
     "execution_count": 92,
     "metadata": {},
     "output_type": "execute_result"
    }
   ],
   "source": [
    "data = dict(zip(city, population))\n",
    "data"
   ]
  },
  {
   "cell_type": "code",
   "execution_count": 93,
   "id": "grave-blood",
   "metadata": {},
   "outputs": [
    {
     "data": {
      "text/plain": [
       "15500000"
      ]
     },
     "execution_count": 93,
     "metadata": {},
     "output_type": "execute_result"
    }
   ],
   "source": [
    "sum(population)"
   ]
  },
  {
   "cell_type": "code",
   "execution_count": 94,
   "id": "finite-spouse",
   "metadata": {},
   "outputs": [
    {
     "data": {
      "text/plain": [
       "dict_keys(['seoul', 'busan', 'daegu'])"
      ]
     },
     "execution_count": 94,
     "metadata": {},
     "output_type": "execute_result"
    }
   ],
   "source": [
    "data.keys()"
   ]
  },
  {
   "cell_type": "code",
   "execution_count": 95,
   "id": "conservative-album",
   "metadata": {},
   "outputs": [
    {
     "data": {
      "text/plain": [
       "dict_values([9700000, 3400000, 2400000])"
      ]
     },
     "execution_count": 95,
     "metadata": {},
     "output_type": "execute_result"
    }
   ],
   "source": [
    "data.values()"
   ]
  }
 ],
 "metadata": {
  "kernelspec": {
   "display_name": "Python 3",
   "language": "python",
   "name": "python3"
  },
  "language_info": {
   "codemirror_mode": {
    "name": "ipython",
    "version": 3
   },
   "file_extension": ".py",
   "mimetype": "text/x-python",
   "name": "python",
   "nbconvert_exporter": "python",
   "pygments_lexer": "ipython3",
   "version": "3.7.10"
  }
 },
 "nbformat": 4,
 "nbformat_minor": 5
}
