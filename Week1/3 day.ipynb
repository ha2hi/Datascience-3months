{
 "cells": [
  {
   "cell_type": "code",
   "execution_count": 2,
   "id": "accredited-constitution",
   "metadata": {},
   "outputs": [
    {
     "name": "stdout",
     "output_type": "stream",
     "text": [
      "2*1=2\t2*2=4\t2*3=6\t2*4=8\t2*5=10\t2*6=12\t2*7=14\t2*8=16\t2*9=18\t\n",
      "3*1=3\t3*2=6\t3*3=9\t3*4=12\t3*5=15\t3*6=18\t3*7=21\t3*8=24\t3*9=27\t\n",
      "4*1=4\t4*2=8\t4*3=12\t4*4=16\t4*5=20\t4*6=24\t4*7=28\t4*8=32\t4*9=36\t\n",
      "5*1=5\t5*2=10\t5*3=15\t5*4=20\t5*5=25\t5*6=30\t5*7=35\t5*8=40\t5*9=45\t\n",
      "6*1=6\t6*2=12\t6*3=18\t6*4=24\t6*5=30\t6*6=36\t6*7=42\t6*8=48\t6*9=54\t\n",
      "7*1=7\t7*2=14\t7*3=21\t7*4=28\t7*5=35\t7*6=42\t7*7=49\t7*8=56\t7*9=63\t\n",
      "8*1=8\t8*2=16\t8*3=24\t8*4=32\t8*5=40\t8*6=48\t8*7=56\t8*8=64\t8*9=72\t\n",
      "9*1=9\t9*2=18\t9*3=27\t9*4=36\t9*5=45\t9*6=54\t9*7=63\t9*8=72\t9*9=81\t\n"
     ]
    }
   ],
   "source": [
    "for i in range(2,10):\n",
    "    for j in range(1,10):\n",
    "        print(\"{}*{}={}\".format(i,j,i*j), end = '\\t')\n",
    "    print()"
   ]
  },
  {
   "cell_type": "code",
   "execution_count": null,
   "id": "funky-activity",
   "metadata": {},
   "outputs": [],
   "source": []
  },
  {
   "cell_type": "markdown",
   "id": "thermal-installation",
   "metadata": {},
   "source": [
    "### List Comprehention\n",
    "- 리스트 데이터를 만들어주는 방법\n",
    "- for문 보다 빠르게 동작합니다."
   ]
  },
  {
   "cell_type": "code",
   "execution_count": 4,
   "id": "likely-infrared",
   "metadata": {},
   "outputs": [
    {
     "data": {
      "text/plain": [
       "[0, 1, 4, 9]"
      ]
     },
     "execution_count": 4,
     "metadata": {},
     "output_type": "execute_result"
    }
   ],
   "source": [
    "#각각 값에 제곱한 결과 출력\n",
    "ls = [0,1,2,3]\n",
    "result = []\n",
    "for data in ls:\n",
    "    result.append(data**2)\n",
    "result"
   ]
  },
  {
   "cell_type": "code",
   "execution_count": 6,
   "id": "checked-retrieval",
   "metadata": {},
   "outputs": [
    {
     "data": {
      "text/plain": [
       "[0, 1, 4, 9]"
      ]
     },
     "execution_count": 6,
     "metadata": {},
     "output_type": "execute_result"
    }
   ],
   "source": [
    "result = [data ** 2 for data in ls]\n",
    "result"
   ]
  },
  {
   "cell_type": "code",
   "execution_count": 8,
   "id": "stone-sperm",
   "metadata": {},
   "outputs": [
    {
     "data": {
      "text/plain": [
       "['짝수', '홀수', '짝수', '홀수']"
      ]
     },
     "execution_count": 8,
     "metadata": {},
     "output_type": "execute_result"
    }
   ],
   "source": [
    "ls = [0,1,2,3]\n",
    "result = [\"짝수\", \"홀수\", \"짝수\",\"홀수\"]\n",
    "\n",
    "result = [\n",
    "    \"홀수\" if data % 2 else \"짝수\"\n",
    "    for data in ls \n",
    "]\n",
    "result"
   ]
  },
  {
   "cell_type": "code",
   "execution_count": 9,
   "id": "bizarre-italian",
   "metadata": {},
   "outputs": [
    {
     "data": {
      "text/plain": [
       "[1, 3, 5, 7, 9]"
      ]
     },
     "execution_count": 9,
     "metadata": {},
     "output_type": "execute_result"
    }
   ],
   "source": [
    "# 리스트 컴프리헨션 조건문\n",
    "ls = range(10)\n",
    "[data for data in ls if data%2]"
   ]
  },
  {
   "cell_type": "code",
   "execution_count": 14,
   "id": "serious-convention",
   "metadata": {},
   "outputs": [
    {
     "data": {
      "text/plain": [
       "['clear', 'copy', 'count']"
      ]
     },
     "execution_count": 14,
     "metadata": {},
     "output_type": "execute_result"
    }
   ],
   "source": [
    "ls = [1,2,3]\n",
    "[func for func in dir(ls) if func[:2] != \"__\" and func[0] == 'c']"
   ]
  },
  {
   "cell_type": "code",
   "execution_count": 15,
   "id": "forty-champion",
   "metadata": {},
   "outputs": [],
   "source": [
    "# for문과 list comprehention 성능 비교"
   ]
  },
  {
   "cell_type": "code",
   "execution_count": 22,
   "id": "opened-instrument",
   "metadata": {},
   "outputs": [
    {
     "name": "stdout",
     "output_type": "stream",
     "text": [
      "595 µs ± 15.2 µs per loop (mean ± std. dev. of 7 runs, 1000 loops each)\n"
     ]
    }
   ],
   "source": [
    "%%timeit\n",
    "ls = []\n",
    "for num in range(1,10001):\n",
    "    if num % 3 == 0:\n",
    "        ls.append(num)\n",
    "len(ls)"
   ]
  },
  {
   "cell_type": "code",
   "execution_count": 23,
   "id": "average-lawyer",
   "metadata": {},
   "outputs": [
    {
     "name": "stdout",
     "output_type": "stream",
     "text": [
      "526 µs ± 23.9 µs per loop (mean ± std. dev. of 7 runs, 1000 loops each)\n"
     ]
    }
   ],
   "source": [
    "%%timeit\n",
    "ls = [data for data in range(1,10001) if num % 3 == 0]\n",
    "len(ls)"
   ]
  },
  {
   "cell_type": "code",
   "execution_count": null,
   "id": "blond-omaha",
   "metadata": {},
   "outputs": [],
   "source": []
  },
  {
   "cell_type": "markdown",
   "id": "wireless-vancouver",
   "metadata": {},
   "source": [
    "### 함수\n",
    "- 반복되는 코드를 묶음으로 효율적인 코드를 작성하도록 해주는 기능\n",
    "- 기본 함수\n",
    "- 파라미터와 아규먼트\n",
    "- 리턴\n",
    "- `*args`, `**kwargs`\n",
    "- docstring\n",
    "- scope\n",
    "- inner function\n",
    "- lambda function\n",
    "- Map, Filter, Reduce\n",
    "- Decorlator"
   ]
  },
  {
   "cell_type": "markdown",
   "id": "different-parliament",
   "metadata": {},
   "source": [
    "### 1. 기본함수\n",
    "- 선언과 호출"
   ]
  },
  {
   "cell_type": "code",
   "execution_count": 1,
   "id": "spectacular-commercial",
   "metadata": {},
   "outputs": [
    {
     "name": "stdout",
     "output_type": "stream",
     "text": [
      "B\n"
     ]
    }
   ],
   "source": [
    "point = 80\n",
    "if point >= 90:\n",
    "    print('A')\n",
    "elif point >= 80:\n",
    "    print('B')\n",
    "else:\n",
    "    print('C')"
   ]
  },
  {
   "cell_type": "code",
   "execution_count": 5,
   "id": "romance-plaintiff",
   "metadata": {},
   "outputs": [
    {
     "name": "stdout",
     "output_type": "stream",
     "text": [
      "Once deleted, variables cannot be recovered. Proceed (y/[n])? y\n"
     ]
    }
   ],
   "source": [
    "%reset"
   ]
  },
  {
   "cell_type": "code",
   "execution_count": 6,
   "id": "fourth-stupid",
   "metadata": {},
   "outputs": [
    {
     "name": "stdout",
     "output_type": "stream",
     "text": [
      "Interactive namespace is empty.\n"
     ]
    }
   ],
   "source": [
    "%whos"
   ]
  },
  {
   "cell_type": "code",
   "execution_count": 7,
   "id": "loving-encyclopedia",
   "metadata": {},
   "outputs": [],
   "source": [
    "#함수선언\n",
    "def grade(point):\n",
    "    if point >= 90:\n",
    "        print('A')\n",
    "    elif point >= 80:\n",
    "        print('B')\n",
    "    else:\n",
    "        print('C')"
   ]
  },
  {
   "cell_type": "code",
   "execution_count": 9,
   "id": "fewer-ethernet",
   "metadata": {},
   "outputs": [],
   "source": [
    "a = 1\n",
    "b = [1,2,3]"
   ]
  },
  {
   "cell_type": "code",
   "execution_count": 10,
   "id": "guilty-gnome",
   "metadata": {},
   "outputs": [
    {
     "name": "stdout",
     "output_type": "stream",
     "text": [
      "Variable   Type        Data/Info\n",
      "--------------------------------\n",
      "a          int         1\n",
      "b          list        n=3\n",
      "grade      function    <function grade at 0x7fa697b27d30>\n"
     ]
    }
   ],
   "source": [
    "%whos"
   ]
  },
  {
   "cell_type": "code",
   "execution_count": 3,
   "id": "extreme-decision",
   "metadata": {},
   "outputs": [
    {
     "name": "stdout",
     "output_type": "stream",
     "text": [
      "B\n"
     ]
    }
   ],
   "source": [
    "#함수 호출\n",
    "grade(80)"
   ]
  },
  {
   "cell_type": "code",
   "execution_count": 4,
   "id": "threaded-bobby",
   "metadata": {},
   "outputs": [
    {
     "name": "stdout",
     "output_type": "stream",
     "text": [
      "C\n"
     ]
    }
   ],
   "source": [
    "#code....\n",
    "grade(70)"
   ]
  },
  {
   "cell_type": "markdown",
   "id": "divided-picture",
   "metadata": {},
   "source": [
    "### 2. 파라미터와 아규먼트\n",
    "- 파라미터 : 함수를 선언할떄 호출하는 부분에서 보내주는 데이터를 받는 변수\n",
    "- 아규먼트 : 함수를 호출할때 함수에 보내주는 데이터"
   ]
  },
  {
   "cell_type": "code",
   "execution_count": 21,
   "id": "pressing-morocco",
   "metadata": {},
   "outputs": [],
   "source": [
    "def plus(num1, num2 = 10, num3 = 20): #파라미터 : 디폴트 파라미터 \n",
    "    print(num1 + num2 - num3)"
   ]
  },
  {
   "cell_type": "code",
   "execution_count": 22,
   "id": "oriental-radical",
   "metadata": {},
   "outputs": [
    {
     "name": "stdout",
     "output_type": "stream",
     "text": [
      "-17\n"
     ]
    }
   ],
   "source": [
    "plus(1,2) #아규먼트"
   ]
  },
  {
   "cell_type": "code",
   "execution_count": 23,
   "id": "beautiful-address",
   "metadata": {},
   "outputs": [
    {
     "name": "stdout",
     "output_type": "stream",
     "text": [
      "-9\n"
     ]
    }
   ],
   "source": [
    "plus(1)"
   ]
  },
  {
   "cell_type": "code",
   "execution_count": 25,
   "id": "invisible-princess",
   "metadata": {},
   "outputs": [
    {
     "name": "stdout",
     "output_type": "stream",
     "text": [
      "-87\n"
     ]
    }
   ],
   "source": [
    "plus(3, num3= 100)"
   ]
  },
  {
   "cell_type": "code",
   "execution_count": 26,
   "id": "dated-wilderness",
   "metadata": {},
   "outputs": [
    {
     "name": "stdout",
     "output_type": "stream",
     "text": [
      "1 2-3\n"
     ]
    }
   ],
   "source": [
    "print(1,2, end = '-')\n",
    "print(3)"
   ]
  },
  {
   "cell_type": "code",
   "execution_count": null,
   "id": "concerned-jimmy",
   "metadata": {},
   "outputs": [],
   "source": []
  },
  {
   "cell_type": "markdown",
   "id": "utility-craft",
   "metadata": {},
   "source": [
    "### 3.리턴\n",
    "- 함수를 실행한 결과를 저장하고 싶을때 사용합니다.\n",
    "- return"
   ]
  },
  {
   "cell_type": "code",
   "execution_count": 34,
   "id": "regular-tsunami",
   "metadata": {},
   "outputs": [],
   "source": [
    "def plus(num1, num2):\n",
    "    print(num1 + num2)"
   ]
  },
  {
   "cell_type": "code",
   "execution_count": 35,
   "id": "upset-error",
   "metadata": {},
   "outputs": [
    {
     "name": "stdout",
     "output_type": "stream",
     "text": [
      "3\n",
      "None\n"
     ]
    }
   ],
   "source": [
    "result = plus(1,2)\n",
    "print(result)"
   ]
  },
  {
   "cell_type": "code",
   "execution_count": 36,
   "id": "initial-architect",
   "metadata": {},
   "outputs": [],
   "source": [
    "def plus1(num1, num2):\n",
    "    print(num1 + num2)\n",
    "    return num1 + num2"
   ]
  },
  {
   "cell_type": "code",
   "execution_count": 37,
   "id": "funded-lender",
   "metadata": {},
   "outputs": [
    {
     "name": "stdout",
     "output_type": "stream",
     "text": [
      "3\n",
      "3\n"
     ]
    }
   ],
   "source": [
    "result = plus1(1,2)\n",
    "print(result)"
   ]
  },
  {
   "cell_type": "code",
   "execution_count": 38,
   "id": "spoken-genre",
   "metadata": {},
   "outputs": [
    {
     "name": "stdout",
     "output_type": "stream",
     "text": [
      "PYTHON\n"
     ]
    }
   ],
   "source": [
    "data1 = 'python'\n",
    "result = data1.upper()\n",
    "print(result)"
   ]
  },
  {
   "cell_type": "code",
   "execution_count": 39,
   "id": "green-balloon",
   "metadata": {},
   "outputs": [
    {
     "name": "stdout",
     "output_type": "stream",
     "text": [
      "None\n"
     ]
    }
   ],
   "source": [
    "data2 = [3,1,2]\n",
    "result = data2.sort()\n",
    "print(result)"
   ]
  },
  {
   "cell_type": "code",
   "execution_count": 43,
   "id": "essential-principle",
   "metadata": {},
   "outputs": [],
   "source": [
    "#함수선언\n",
    "def grade(point):\n",
    "    if point >= 90:\n",
    "        result = 'A'\n",
    "    elif point >= 80:\n",
    "        result = 'B'\n",
    "    else:\n",
    "        result = 'C'\n",
    "    return result"
   ]
  },
  {
   "cell_type": "code",
   "execution_count": 48,
   "id": "actual-heavy",
   "metadata": {},
   "outputs": [],
   "source": [
    "# #함수선언\n",
    "# def grade(point):\n",
    "#     if point >= 90:\n",
    "#         return 'A'\n",
    "#     elif point >= 80:\n",
    "#         return 'B'\n",
    "#     else:\n",
    "#         return 'C'\n",
    "#     return result"
   ]
  },
  {
   "cell_type": "code",
   "execution_count": 46,
   "id": "moving-anatomy",
   "metadata": {},
   "outputs": [
    {
     "name": "stdout",
     "output_type": "stream",
     "text": [
      "A\n"
     ]
    }
   ],
   "source": [
    "point = 92\n",
    "result = grade(point)\n",
    "print(result)"
   ]
  },
  {
   "cell_type": "code",
   "execution_count": 47,
   "id": "owned-spare",
   "metadata": {},
   "outputs": [
    {
     "name": "stdout",
     "output_type": "stream",
     "text": [
      "pass\n"
     ]
    }
   ],
   "source": [
    "if result == 'A': #리턴이 없으면 이 코드를 활용 하기가 힘들다 \n",
    "    print('pass')\n",
    "else:\n",
    "    print('fail')"
   ]
  },
  {
   "cell_type": "code",
   "execution_count": 50,
   "id": "described-clark",
   "metadata": {},
   "outputs": [],
   "source": [
    "def echo(msg): #함수에서 return코드가 실행되면 무조건 함수의 코드 실행이 종료\n",
    "    if msg == 'quit':\n",
    "        return\n",
    "    print(msg)"
   ]
  },
  {
   "cell_type": "code",
   "execution_count": 51,
   "id": "phantom-culture",
   "metadata": {
    "scrolled": true
   },
   "outputs": [
    {
     "name": "stdout",
     "output_type": "stream",
     "text": [
      "python\n"
     ]
    }
   ],
   "source": [
    "echo('python')"
   ]
  },
  {
   "cell_type": "code",
   "execution_count": 52,
   "id": "contemporary-internet",
   "metadata": {},
   "outputs": [],
   "source": [
    "echo('quit')"
   ]
  },
  {
   "cell_type": "markdown",
   "id": "attractive-designation",
   "metadata": {},
   "source": [
    "### 4. `*args`, `**kwargs`\n",
    "- 함수를 호출할때 아규먼트와 키워드 아규먼트의 갯수를 특정지을 수 없을때 사용"
   ]
  },
  {
   "cell_type": "code",
   "execution_count": 53,
   "id": "attended-output",
   "metadata": {},
   "outputs": [],
   "source": [
    "def plus(num1,num2):\n",
    "    return num1 + num2"
   ]
  },
  {
   "cell_type": "code",
   "execution_count": 54,
   "id": "graduate-registration",
   "metadata": {},
   "outputs": [
    {
     "data": {
      "text/plain": [
       "3"
      ]
     },
     "execution_count": 54,
     "metadata": {},
     "output_type": "execute_result"
    }
   ],
   "source": [
    "plus(1,2)"
   ]
  },
  {
   "cell_type": "code",
   "execution_count": 55,
   "id": "direct-server",
   "metadata": {},
   "outputs": [],
   "source": [
    "#갯수에 상관없이 모든 아규먼트를 더하는 함수 \n",
    "def plus(*args):\n",
    "    print(type(args), args)\n",
    "    return sum(args)"
   ]
  },
  {
   "cell_type": "code",
   "execution_count": 56,
   "id": "modified-desert",
   "metadata": {},
   "outputs": [
    {
     "name": "stdout",
     "output_type": "stream",
     "text": [
      "<class 'tuple'> (1, 2, 3, 4, 5)\n"
     ]
    },
    {
     "data": {
      "text/plain": [
       "15"
      ]
     },
     "execution_count": 56,
     "metadata": {},
     "output_type": "execute_result"
    }
   ],
   "source": [
    "plus(1,2,3,4,5)"
   ]
  },
  {
   "cell_type": "code",
   "execution_count": 57,
   "id": "pressing-hygiene",
   "metadata": {
    "scrolled": true
   },
   "outputs": [
    {
     "ename": "TypeError",
     "evalue": "plus() got an unexpected keyword argument 'num1'",
     "output_type": "error",
     "traceback": [
      "\u001b[0;31m---------------------------------------------------------------------------\u001b[0m",
      "\u001b[0;31mTypeError\u001b[0m                                 Traceback (most recent call last)",
      "\u001b[0;32m<ipython-input-57-418ced073d9e>\u001b[0m in \u001b[0;36m<module>\u001b[0;34m\u001b[0m\n\u001b[0;32m----> 1\u001b[0;31m \u001b[0mplus\u001b[0m\u001b[0;34m(\u001b[0m\u001b[0;36m1\u001b[0m\u001b[0;34m,\u001b[0m\u001b[0;36m2\u001b[0m\u001b[0;34m,\u001b[0m\u001b[0;36m3\u001b[0m\u001b[0;34m,\u001b[0m\u001b[0;36m4\u001b[0m\u001b[0;34m,\u001b[0m\u001b[0;36m5\u001b[0m\u001b[0;34m,\u001b[0m\u001b[0mnum1\u001b[0m\u001b[0;34m=\u001b[0m\u001b[0;36m6\u001b[0m\u001b[0;34m,\u001b[0m\u001b[0mnum2\u001b[0m\u001b[0;34m=\u001b[0m\u001b[0;36m7\u001b[0m\u001b[0;34m)\u001b[0m\u001b[0;34m\u001b[0m\u001b[0;34m\u001b[0m\u001b[0m\n\u001b[0m",
      "\u001b[0;31mTypeError\u001b[0m: plus() got an unexpected keyword argument 'num1'"
     ]
    }
   ],
   "source": [
    "plus(1,2,3,4,5,num1=6,num2=7)"
   ]
  },
  {
   "cell_type": "code",
   "execution_count": 66,
   "id": "detailed-horizon",
   "metadata": {},
   "outputs": [],
   "source": [
    "#키워드가 있는 아규먼트\n",
    "def plus(*args, **kwargs):\n",
    "    print(type(args), args)\n",
    "    print(type(kwargs), kwargs)\n",
    "    return sum(args) + sum(list(kwargs.values()))"
   ]
  },
  {
   "cell_type": "code",
   "execution_count": 67,
   "id": "english-organic",
   "metadata": {
    "scrolled": true
   },
   "outputs": [
    {
     "name": "stdout",
     "output_type": "stream",
     "text": [
      "<class 'tuple'> (1, 2, 3, 4, 5)\n",
      "<class 'dict'> {'num1': 6, 'num2': 7}\n"
     ]
    },
    {
     "data": {
      "text/plain": [
       "28"
      ]
     },
     "execution_count": 67,
     "metadata": {},
     "output_type": "execute_result"
    }
   ],
   "source": [
    "plus(1,2,3,4,5,num1=6,num2=7)"
   ]
  },
  {
   "cell_type": "code",
   "execution_count": null,
   "id": "operating-staff",
   "metadata": {},
   "outputs": [],
   "source": []
  },
  {
   "cell_type": "code",
   "execution_count": 103,
   "id": "asian-basis",
   "metadata": {},
   "outputs": [
    {
     "data": {
      "text/plain": [
       "6"
      ]
     },
     "execution_count": 103,
     "metadata": {},
     "output_type": "execute_result"
    }
   ],
   "source": [
    "def func(num1, num2, num3):\n",
    "    return num1 + num2 + num3\n",
    "\n",
    "data = [1,2,3]\n",
    "func(*data) #func(1,2,3)\n",
    "# func(data) # func([1,2,3])"
   ]
  },
  {
   "cell_type": "code",
   "execution_count": 104,
   "id": "daily-target",
   "metadata": {},
   "outputs": [
    {
     "data": {
      "text/plain": [
       "301"
      ]
     },
     "execution_count": 104,
     "metadata": {},
     "output_type": "execute_result"
    }
   ],
   "source": [
    "data = {\n",
    "    'num2' : 100,\n",
    "    'num3' : 200\n",
    "}\n",
    "func(1, **data)"
   ]
  },
  {
   "cell_type": "code",
   "execution_count": 101,
   "id": "written-yacht",
   "metadata": {
    "scrolled": true
   },
   "outputs": [
    {
     "data": {
      "text/plain": [
       "36"
      ]
     },
     "execution_count": 101,
     "metadata": {},
     "output_type": "execute_result"
    }
   ],
   "source": [
    "def func(num1, num2 = 10, num3 = 20):\n",
    "    return sum(num1) + num2 + num3\n",
    "\n",
    "data = [1,2,3]\n",
    "func(data)"
   ]
  },
  {
   "cell_type": "code",
   "execution_count": null,
   "id": "peripheral-philosophy",
   "metadata": {},
   "outputs": [],
   "source": []
  },
  {
   "cell_type": "markdown",
   "id": "absent-september",
   "metadata": {},
   "source": [
    "### Summary\n",
    "- 조건문\n",
    "    - if, else, elif\n",
    "    - 특정 조건에 따라서 코드를 실행하고 싶을때 사용\n",
    "- 반복문\n",
    "    - while, for \n",
    "    - 특정 코드를 반복적으로 실행 시키고 싶을때 사용 \n",
    "    - continue, break"
   ]
  },
  {
   "cell_type": "code",
   "execution_count": null,
   "id": "charitable-coating",
   "metadata": {},
   "outputs": [],
   "source": []
  },
  {
   "cell_type": "code",
   "execution_count": 119,
   "id": "collaborative-century",
   "metadata": {},
   "outputs": [
    {
     "name": "stdout",
     "output_type": "stream",
     "text": [
      "input sentence : Python Is the best\n"
     ]
    },
    {
     "data": {
      "text/plain": [
       "'Python is the best.'"
      ]
     },
     "execution_count": 119,
     "metadata": {},
     "output_type": "execute_result"
    }
   ],
   "source": [
    "# 문장을 입력받아서 문법에 맞도록 결과를 출력 하는 코드를 작성\n",
    "# 마지막 문자는 .이 있을수도 있고 없을수도 있습니다.\n",
    "# 논리적인 문제 해결 순서 -> 코드로 변환\n",
    "# Python Is the best Language\n",
    "# Python is the best language.\n",
    "# sentence = input(\"input sentence : \")\n",
    "\n",
    "# 1. 문자열 입력 받기\n",
    "sentence = input(\"input sentence : \")\n",
    "\n",
    "# 2. 모두 소문자로 변경\n",
    "result = sentence.lower()\n",
    "\n",
    "# 3. 가장 앞글자를 대문자로 변경\n",
    "result = result[0].upper() + result[1:]\n",
    "\n",
    "# 4. 마지막 문자가 .인지 확인해서 .이 아니면 .추가\n",
    "if result[-1] != '.':\n",
    "    result += '.'\n",
    "\n",
    "result"
   ]
  },
  {
   "cell_type": "code",
   "execution_count": null,
   "id": "theoretical-instrument",
   "metadata": {},
   "outputs": [],
   "source": []
  },
  {
   "cell_type": "code",
   "execution_count": 154,
   "id": "compatible-johnston",
   "metadata": {},
   "outputs": [
    {
     "data": {
      "text/plain": [
       "[3, 18, 19, 23, 34, 45]"
      ]
     },
     "execution_count": 154,
     "metadata": {},
     "output_type": "execute_result"
    }
   ],
   "source": [
    "# 6자라의 로또번호를 생성하는 코드를 작성하세요.\n",
    "# 6자리의 번호는 중복이 x\n",
    "# 문자열, 숫자, 리스트 \n",
    "#while, not in, in, list.append(), break, len()\n",
    "# 문제가 조금 복잡하면 간단한 기능부터 구현하고 업데이트를 하는 방법으로 해결\n",
    "import random\n",
    "lotto = []\n",
    "while True:\n",
    "    number = random.randint(1,45)\n",
    "    if number not in lotto:\n",
    "        lotto.append(number)\n",
    "    \n",
    "    if len(lotto) >= 6:\n",
    "        lotto.sort()\n",
    "        break\n",
    "lotto"
   ]
  },
  {
   "cell_type": "code",
   "execution_count": null,
   "id": "dependent-nitrogen",
   "metadata": {},
   "outputs": [],
   "source": []
  },
  {
   "cell_type": "code",
   "execution_count": 9,
   "id": "departmental-merit",
   "metadata": {},
   "outputs": [
    {
     "data": {
      "text/plain": [
       "[1, 15, 22, 22, 23, 25]"
      ]
     },
     "execution_count": 9,
     "metadata": {},
     "output_type": "execute_result"
    }
   ],
   "source": [
    "import random\n",
    "lotto = []\n",
    "while True:\n",
    "    if len(lotto) >= 6:\n",
    "        break\n",
    "        \n",
    "    if random.randint(1,45) not in lotto:\n",
    "        lotto.append(random.randint(1,45))\n",
    "        lotto.sort()\n",
    "lotto"
   ]
  },
  {
   "cell_type": "code",
   "execution_count": null,
   "id": "parallel-threshold",
   "metadata": {},
   "outputs": [],
   "source": []
  },
  {
   "cell_type": "markdown",
   "id": "reflected-number",
   "metadata": {},
   "source": [
    "- 함수\n",
    "    - 중복되는 코드를 묶어서 효율적으로 코드를 작성하기 위해 사용\n",
    "    - 기본함수 : 선언(def), 호출(func_name())\n",
    "    - argument, parameter, keyword args, default parameter\n",
    "    - return \n",
    "    - `*args`, `**kwargs`"
   ]
  },
  {
   "cell_type": "code",
   "execution_count": null,
   "id": "limited-modification",
   "metadata": {},
   "outputs": [],
   "source": []
  },
  {
   "cell_type": "markdown",
   "id": "advance-shade",
   "metadata": {},
   "source": [
    "### 1. Docstring\n",
    "- 함수의 설명을 작성"
   ]
  },
  {
   "cell_type": "code",
   "execution_count": 20,
   "id": "juvenile-reply",
   "metadata": {},
   "outputs": [],
   "source": [
    "def echo(msg):\n",
    "    \"echo print msg\" #Docstring\n",
    "    print(msg)"
   ]
  },
  {
   "cell_type": "code",
   "execution_count": 23,
   "id": "optional-proof",
   "metadata": {},
   "outputs": [],
   "source": [
    "def echo(msg):\n",
    "    \"\"\"\n",
    "    echo return its input agument  #Docstring\n",
    "    The operation is:\n",
    "        1. print msg\n",
    "        2. return msg parameter\n",
    "    param : msg : str\n",
    "    return : str\n",
    "    \"\"\"\n",
    "    print(msg)\n",
    "    return msg"
   ]
  },
  {
   "cell_type": "code",
   "execution_count": null,
   "id": "continent-founder",
   "metadata": {},
   "outputs": [],
   "source": [
    "echo #shift + tab"
   ]
  },
  {
   "cell_type": "code",
   "execution_count": 24,
   "id": "brutal-vulnerability",
   "metadata": {},
   "outputs": [],
   "source": [
    "echo? #Docstring"
   ]
  },
  {
   "cell_type": "code",
   "execution_count": 25,
   "id": "sufficient-spectacular",
   "metadata": {},
   "outputs": [],
   "source": [
    "echo?? #소스 코드를 볼 수 있음"
   ]
  },
  {
   "cell_type": "code",
   "execution_count": 26,
   "id": "adolescent-schema",
   "metadata": {},
   "outputs": [
    {
     "name": "stdout",
     "output_type": "stream",
     "text": [
      "Help on function echo in module __main__:\n",
      "\n",
      "echo(msg)\n",
      "    echo return its input agument  #Docstring\n",
      "    The operation is:\n",
      "        1. print msg\n",
      "        2. return msg parameter\n",
      "    param : msg : str\n",
      "    return : str\n",
      "\n"
     ]
    }
   ],
   "source": [
    "help(echo)"
   ]
  },
  {
   "cell_type": "code",
   "execution_count": 27,
   "id": "still-briefs",
   "metadata": {},
   "outputs": [
    {
     "name": "stdout",
     "output_type": "stream",
     "text": [
      "\n",
      "    echo return its input agument  #Docstring\n",
      "    The operation is:\n",
      "        1. print msg\n",
      "        2. return msg parameter\n",
      "    param : msg : str\n",
      "    return : str\n",
      "    \n"
     ]
    }
   ],
   "source": [
    "print(echo.__doc__)"
   ]
  },
  {
   "cell_type": "code",
   "execution_count": null,
   "id": "productive-protest",
   "metadata": {},
   "outputs": [],
   "source": []
  }
 ],
 "metadata": {
  "kernelspec": {
   "display_name": "Python 3",
   "language": "python",
   "name": "python3"
  },
  "language_info": {
   "codemirror_mode": {
    "name": "ipython",
    "version": 3
   },
   "file_extension": ".py",
   "mimetype": "text/x-python",
   "name": "python",
   "nbconvert_exporter": "python",
   "pygments_lexer": "ipython3",
   "version": "3.7.10"
  }
 },
 "nbformat": 4,
 "nbformat_minor": 5
}
