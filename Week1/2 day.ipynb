{
 "cells": [
  {
   "cell_type": "markdown",
   "id": "latter-sugar",
   "metadata": {},
   "source": [
    "### 6. 연산자\n",
    "- 산술연산자 : +, -, *, /, //, %, **\n",
    "- 할당연산자 : 변수에 누적시켜서 연산 : +=, //=, **= ...\n",
    "- 비교연산자 : >, <, ==, !=, <=, => : 결과로 True, False\n",
    "- 논리연산자 : True, False를 연산 : or, and, not\n",
    "- 멤버연산자 : 특정 데이터가 있는지 확인할때 사용 : not in, in"
   ]
  },
  {
   "cell_type": "code",
   "execution_count": 1,
   "id": "devoted-reverse",
   "metadata": {},
   "outputs": [
    {
     "data": {
      "text/plain": [
       "3"
      ]
     },
     "execution_count": 1,
     "metadata": {},
     "output_type": "execute_result"
    }
   ],
   "source": [
    "a = 1\n",
    "b = 2\n",
    "a+b"
   ]
  },
  {
   "cell_type": "code",
   "execution_count": 2,
   "id": "higher-assurance",
   "metadata": {},
   "outputs": [
    {
     "data": {
      "text/plain": [
       "1.25"
      ]
     },
     "execution_count": 2,
     "metadata": {},
     "output_type": "execute_result"
    }
   ],
   "source": [
    "(1+4) / 2**2"
   ]
  },
  {
   "cell_type": "code",
   "execution_count": 3,
   "id": "handed-editing",
   "metadata": {},
   "outputs": [
    {
     "data": {
      "text/plain": [
       "30"
      ]
     },
     "execution_count": 3,
     "metadata": {},
     "output_type": "execute_result"
    }
   ],
   "source": [
    "# 할당 연산\n",
    "a = 10\n",
    "a += 10\n",
    "a += 10\n",
    "a"
   ]
  },
  {
   "cell_type": "code",
   "execution_count": 4,
   "id": "moral-hydrogen",
   "metadata": {},
   "outputs": [
    {
     "name": "stdout",
     "output_type": "stream",
     "text": [
      "30 2\n"
     ]
    },
    {
     "data": {
      "text/plain": [
       "(False, False, True)"
      ]
     },
     "execution_count": 4,
     "metadata": {},
     "output_type": "execute_result"
    }
   ],
   "source": [
    "# 비교 연산\n",
    "print(a, b)\n",
    "a < b, a == b, a != b"
   ]
  },
  {
   "cell_type": "code",
   "execution_count": 5,
   "id": "nasty-antigua",
   "metadata": {},
   "outputs": [
    {
     "data": {
      "text/plain": [
       "(False, True, False)"
      ]
     },
     "execution_count": 5,
     "metadata": {},
     "output_type": "execute_result"
    }
   ],
   "source": [
    "# 논리연산\n",
    "True and False, True or False, not True or False"
   ]
  },
  {
   "cell_type": "code",
   "execution_count": 6,
   "id": "literary-messaging",
   "metadata": {},
   "outputs": [
    {
     "name": "stdout",
     "output_type": "stream",
     "text": [
      "True\n",
      "False\n"
     ]
    }
   ],
   "source": [
    "# 멤버연산\n",
    "ls = ['jin', 'andy', 'jhon']\n",
    "print('andy' in ls)\n",
    "print('jhon' not in ls)"
   ]
  },
  {
   "cell_type": "code",
   "execution_count": null,
   "id": "hispanic-retirement",
   "metadata": {},
   "outputs": [],
   "source": []
  },
  {
   "cell_type": "code",
   "execution_count": 11,
   "id": "breathing-creator",
   "metadata": {},
   "outputs": [
    {
     "data": {
      "text/plain": [
       "1"
      ]
     },
     "execution_count": 11,
     "metadata": {},
     "output_type": "execute_result"
    }
   ],
   "source": [
    "# 랜덤함수\n",
    "import random\n",
    "random.randint(1, 10)"
   ]
  },
  {
   "cell_type": "code",
   "execution_count": 14,
   "id": "false-storage",
   "metadata": {},
   "outputs": [
    {
     "name": "stdout",
     "output_type": "stream",
     "text": [
      "insert string : 안녕하세요\n"
     ]
    },
    {
     "data": {
      "text/plain": [
       "'안녕하세요'"
      ]
     },
     "execution_count": 14,
     "metadata": {},
     "output_type": "execute_result"
    }
   ],
   "source": [
    "# 입력함수\n",
    "data = input('insert string : ')\n",
    "data"
   ]
  },
  {
   "cell_type": "code",
   "execution_count": null,
   "id": "massive-olive",
   "metadata": {},
   "outputs": [],
   "source": []
  },
  {
   "cell_type": "markdown",
   "id": "great-mailman",
   "metadata": {},
   "source": [
    "### 해결의 책 : 질문을 하면 질문에 대한 답변을 해주는 책\n",
    "1. 솔루션을 리스트로 작성\n",
    "2. 질문 입력 받음\n",
    "3. 솔루션의 갯수에 맞게 랜덤한 index 정수 값을 생성\n",
    "4. index 해당하는 솔루션 리스트의 데이터 출력"
   ]
  },
  {
   "cell_type": "code",
   "execution_count": 17,
   "id": "hybrid-queensland",
   "metadata": {},
   "outputs": [
    {
     "name": "stdout",
     "output_type": "stream",
     "text": [
      "질문을 입력하세요 : 오늘 운세는?\n"
     ]
    },
    {
     "data": {
      "text/plain": [
       "'생각지도 않게 좋은 일이 생길것이다.'"
      ]
     },
     "execution_count": 17,
     "metadata": {},
     "output_type": "execute_result"
    }
   ],
   "source": [
    "#.1\n",
    "solutions = [\n",
    "    \"무엇을 하던 잘 안될것 이다.\",\n",
    "    \"생각지도 않게 좋은 일이 생길것이다.\",\n",
    "    \"무엇을 상상하던 그 이상이다.\"\n",
    "]\n",
    "\n",
    "#2.\n",
    "input(\"질문을 입력하세요 : \")\n",
    "\n",
    "#3.\n",
    "idx = random.randint(0, len(solutions) - 1)\n",
    "\n",
    "# 4.\n",
    "solutions[idx]"
   ]
  },
  {
   "cell_type": "code",
   "execution_count": null,
   "id": "innocent-cedar",
   "metadata": {},
   "outputs": [],
   "source": []
  },
  {
   "cell_type": "markdown",
   "id": "narrative-pearl",
   "metadata": {},
   "source": [
    "### summary\n",
    "- jupyter notebook\n",
    "    - mode : 명령모드, 편집모드\n",
    "    - style : markdown, code\n",
    "    - 단축키\n",
    "        - 실행 : shift + enter\n",
    "        - 자동완성 : tab\n",
    "        - docstring : shift + tab\n",
    "        - 주석설정 : ctrl + /\n",
    "        - 셀 생성 : a, b\n",
    "- python 기본 문법\n",
    "    - 변수 선언 : RAM 저장공간에 값을 할당하는 행위\n",
    "    - 식별자 규칙\n",
    "        - 대문자, 소문자, 숫자...\n",
    "        - 가장 앞글자 숫자사용 불가\n",
    "        - 예약어 사용이 불가 : def, class, try ...\n",
    "        - snake_case(변수, 함수), CamelCase(클래스명)\n",
    "        - pop8 문서\n",
    "- 데이터 타입\n",
    "    - 동적타이핑 : 자동으로 저장공간의 데이터 타입이 설정\n",
    "    - 기본 데이터 타입 : int, float, bool, str\n",
    "    - 컬렉션 데이터 타입 : list(iterable), tuple(iterable), dict\n",
    "        - iterable : 순서가 있는 데이터 집합\n",
    "    - offset index : 특정 위치의 데이터를 출력할때 사용(iterable한 데이터 타입에서 사용 가능)\n",
    "        - [] : mask, masking\n",
    "        - [idx] : idx위치 데이터를 출력\n",
    "        - [start : end] : start에서 end-1까지 출력\n",
    "        - [start : end : stride] : stride만큼 씩 점프하여 출력\n",
    "    - 각 데이터 타입별로 함수가 있습니다.\n",
    "- 형 변환\n",
    "    - 이미 변수에 설정된 데이터 타입을 변경하는 행위\n",
    "    - zip\n",
    "        - 여러개의 리스트를 같은 인덱스끼리 묶어주는 함수\n",
    "        - 두개의 리스트를 묶어서 dict 형 변환\n",
    "- 연산자\n",
    "    - 산술 : +, -, *, /, //, %, **\n",
    "    - 할당 : A += data, A -= data, ...\n",
    "    - 비교 : <. >, ==, !=, <=, >=\n",
    "    - 논리 : and, or, not\n",
    "    - 멤버 : in, not in"
   ]
  },
  {
   "cell_type": "code",
   "execution_count": null,
   "id": "liberal-liberty",
   "metadata": {},
   "outputs": [],
   "source": []
  },
  {
   "cell_type": "markdown",
   "id": "swedish-stranger",
   "metadata": {},
   "source": [
    "### 1. 조건문\n",
    "- 특정 조건에 따라서 코드를 실행하고자 할때 사용\n",
    "- if, elif, else"
   ]
  },
  {
   "cell_type": "code",
   "execution_count": 1,
   "id": "normal-platinum",
   "metadata": {},
   "outputs": [
    {
     "name": "stdout",
     "output_type": "stream",
     "text": [
      "python\n",
      "done\n"
     ]
    }
   ],
   "source": [
    "if True:\n",
    "    print('python')\n",
    "\n",
    "print('done')"
   ]
  },
  {
   "cell_type": "code",
   "execution_count": 2,
   "id": "opponent-draft",
   "metadata": {},
   "outputs": [
    {
     "data": {
      "text/plain": [
       "(False, True, True, True)"
      ]
     },
     "execution_count": 2,
     "metadata": {},
     "output_type": "execute_result"
    }
   ],
   "source": [
    "# 조건부분에 : bool 데이터 타입 이외의 데이터 타입이 오면 bool로 형변환 되어 판단\n",
    "# int : 0을 제외한 나머지 값은 True\n",
    "bool(0), bool(1), bool(-1), bool(100)"
   ]
  },
  {
   "cell_type": "code",
   "execution_count": 4,
   "id": "vanilla-messaging",
   "metadata": {},
   "outputs": [
    {
     "name": "stdout",
     "output_type": "stream",
     "text": [
      "python_2\n"
     ]
    }
   ],
   "source": [
    "num = 0\n",
    "if num:\n",
    "    print('python_1')\n",
    "\n",
    "num1 = 1\n",
    "if num1:\n",
    "    print('python_2')"
   ]
  },
  {
   "cell_type": "code",
   "execution_count": 5,
   "id": "fantastic-edwards",
   "metadata": {
    "scrolled": true
   },
   "outputs": [
    {
     "name": "stdout",
     "output_type": "stream",
     "text": [
      "홀수\n"
     ]
    }
   ],
   "source": [
    "number = 7\n",
    "\n",
    "if number % 2:\n",
    "    print('홀수')\n",
    "else:\n",
    "    print('짝수')"
   ]
  },
  {
   "cell_type": "code",
   "execution_count": 6,
   "id": "vietnamese-yesterday",
   "metadata": {},
   "outputs": [],
   "source": [
    "# float : 0.0을 제외한 나머지 실수는 True\n",
    "# str : \" \"을 제외한 나머지 문자열은 True\n",
    "# list, tuple, dict : [], (), {}을 제외한 나머지는 True"
   ]
  },
  {
   "cell_type": "code",
   "execution_count": 7,
   "id": "higher-fossil",
   "metadata": {},
   "outputs": [
    {
     "name": "stdout",
     "output_type": "stream",
     "text": [
      "택시를 타고 집에 갑니다.\n"
     ]
    }
   ],
   "source": [
    "# 지갑에 돈이 10,000이상 있으면 택시를 타고, 그렇지 않으면 걸어서 집에 갑니다.\n",
    "money = 10000\n",
    "\n",
    "if money >= 10000:\n",
    "    print('택시를 타고 집에 갑니다.')\n",
    "else:\n",
    "    print('걸어서 집에 갑니다.')"
   ]
  },
  {
   "cell_type": "code",
   "execution_count": 10,
   "id": "experienced-advocate",
   "metadata": {},
   "outputs": [
    {
     "name": "stdout",
     "output_type": "stream",
     "text": [
      "지갑에 얼마 있나요? : 110000\n",
      "택시를 타고 집에 갑니다.\n"
     ]
    }
   ],
   "source": [
    "# 지갑에 돈이 10,000원 이상 있으면 택시를 타고,\n",
    "# 2,000원 이상이 있으면 버스를 탑니다.\n",
    "# 그렇지 않으면 걸어서 집에 갑니다.\n",
    "money = int(input('지갑에 얼마 있나요? : '))\n",
    "if money >= 10000:\n",
    "    print('택시를 타고 집에 갑니다.')\n",
    "elif money >= 2000:\n",
    "    print('버스를 타고 집에 갑니다.')\n",
    "else:\n",
    "    print('걸어서 집에 갑니다.')"
   ]
  },
  {
   "cell_type": "code",
   "execution_count": 12,
   "id": "dominican-brown",
   "metadata": {},
   "outputs": [
    {
     "name": "stdout",
     "output_type": "stream",
     "text": [
      "인출 금액을 입력하세요 : 3000\n",
      "인출이 되었습니다.\n",
      "현재 계좌의 잔액 : 7000\n"
     ]
    }
   ],
   "source": [
    "# 계좌에 10,000원이 들어 있습니다.\n",
    "# 인출 금액을 입력 받습니다.\n",
    "# 인출 금액이 계좌에 있는 금액 보다 크면 \"인출이 불가능합니다.\" 출력\n",
    "# 인출 금액이 계좌에 있는 금액 보다 작으면 \"인출이 되었습니다.\" 출력\n",
    "# 마지막에 현재 계좌의 잔액을 출력\n",
    "money = 10000\n",
    "export = int(input('인출 금액을 입력하세요 : '))\n",
    "if money >= export:\n",
    "    print('인출이 되었습니다.')\n",
    "    print('현재 계좌의 잔액 : {}'.format(money - export))\n",
    "\n",
    "else:\n",
    "    print('인출이 불가능합니다.')"
   ]
  },
  {
   "cell_type": "code",
   "execution_count": null,
   "id": "controlling-outdoors",
   "metadata": {},
   "outputs": [],
   "source": []
  },
  {
   "cell_type": "markdown",
   "id": "handed-support",
   "metadata": {},
   "source": [
    "### 삼항연산자\n",
    "- 간단한 if, else 구문을 한줄의 코드로 표현할 수 있는 방법\n",
    "- (True) if 조건 else (False)"
   ]
  },
  {
   "cell_type": "code",
   "execution_count": 13,
   "id": "worse-party",
   "metadata": {},
   "outputs": [
    {
     "name": "stdout",
     "output_type": "stream",
     "text": [
      "not zero\n"
     ]
    }
   ],
   "source": [
    "data = 1\n",
    "if data:\n",
    "    print('not zero')\n",
    "else:\n",
    "    print('zero')"
   ]
  },
  {
   "cell_type": "code",
   "execution_count": 16,
   "id": "frozen-destruction",
   "metadata": {},
   "outputs": [
    {
     "data": {
      "text/plain": [
       "'not zero'"
      ]
     },
     "execution_count": 16,
     "metadata": {},
     "output_type": "execute_result"
    }
   ],
   "source": [
    "data = 1\n",
    "result = 'not zero' if data else 'zero'\n",
    "result"
   ]
  },
  {
   "cell_type": "code",
   "execution_count": null,
   "id": "changed-insured",
   "metadata": {},
   "outputs": [],
   "source": []
  },
  {
   "cell_type": "markdown",
   "id": "serious-tension",
   "metadata": {},
   "source": [
    "### 2. 반복문\n",
    "- 반복되는 코드를 실행할때 사용\n",
    "- while, for, break, continue\n",
    "- list comprehention"
   ]
  },
  {
   "cell_type": "code",
   "execution_count": 17,
   "id": "requested-volunteer",
   "metadata": {},
   "outputs": [
    {
     "name": "stdout",
     "output_type": "stream",
     "text": [
      "3\n",
      "2\n",
      "1\n"
     ]
    }
   ],
   "source": [
    "# while\n",
    "data = 3\n",
    "while data : # 조건이 False가 될때까지 구문의 코드를 실행\n",
    "    print(data)\n",
    "    data -= 1"
   ]
  },
  {
   "cell_type": "code",
   "execution_count": 30,
   "id": "appropriate-bracelet",
   "metadata": {},
   "outputs": [
    {
     "data": {
      "text/plain": [
       "(270, 90)"
      ]
     },
     "execution_count": 30,
     "metadata": {},
     "output_type": "execute_result"
    }
   ],
   "source": [
    "# 학생이 국어 : 80점, 영어 : 90점, 수학 : 100점 while 문을 이용해서 총점과 평균을 출력\n",
    "# 학생의 점수는 list, dict 표현\n",
    "student = {'국어' : 80, '영어' : 90, '수학' : 100}\n",
    "a = len(student) \n",
    "result = 0\n",
    "while a:\n",
    "    a -= 1\n",
    "    result += list(student.values())[a]\n",
    "result, result // len(student)"
   ]
  },
  {
   "cell_type": "code",
   "execution_count": 43,
   "id": "stylish-pressure",
   "metadata": {},
   "outputs": [
    {
     "data": {
      "text/plain": [
       "10"
      ]
     },
     "execution_count": 43,
     "metadata": {},
     "output_type": "execute_result"
    }
   ],
   "source": [
    "# 무한루프\n",
    "# break : 반복문을 중단 시킬때 사용되는 예약어\n",
    "result = 1\n",
    "while result:\n",
    "    if result >= 10:\n",
    "        break\n",
    "    result += 1\n",
    "\n",
    "result"
   ]
  },
  {
   "cell_type": "code",
   "execution_count": null,
   "id": "mexican-sleep",
   "metadata": {},
   "outputs": [],
   "source": []
  },
  {
   "cell_type": "markdown",
   "id": "separated-boating",
   "metadata": {},
   "source": [
    "### for\n",
    "- iterable(순서가 있는 데이터)한 값을 하나씩 꺼내서 variable에 대입시킨후 코드를 iterable 변수의 값 갯수 만큼 실행\n",
    "```\n",
    "for <varialbe> in <interable>:\n",
    "    <codes>\n",
    "```"
   ]
  },
  {
   "cell_type": "code",
   "execution_count": 45,
   "id": "recorded-domestic",
   "metadata": {},
   "outputs": [
    {
     "name": "stdout",
     "output_type": "stream",
     "text": [
      "0 2 4 "
     ]
    }
   ],
   "source": [
    "# for : continue : 조건부분으로 올라서 코드가 실행\n",
    "ls = [0, 1, 2, 3, 4]\n",
    "for data in ls:\n",
    "    if data % 2:\n",
    "        continue\n",
    "    print(data, end = ' ')"
   ]
  },
  {
   "cell_type": "code",
   "execution_count": null,
   "id": "greatest-miami",
   "metadata": {},
   "outputs": [],
   "source": []
  },
  {
   "cell_type": "code",
   "execution_count": 46,
   "id": "stuffed-python",
   "metadata": {},
   "outputs": [
    {
     "data": {
      "text/plain": [
       "4950"
      ]
     },
     "execution_count": 46,
     "metadata": {},
     "output_type": "execute_result"
    }
   ],
   "source": [
    "# for를 이용하여 코드를 100번 실행\n",
    "#range 함수\n",
    "list(range(100)) # 0~99\n",
    "result = 0\n",
    "for data in range(100):\n",
    "    result += data\n",
    "result"
   ]
  },
  {
   "cell_type": "code",
   "execution_count": 47,
   "id": "sustained-cinema",
   "metadata": {},
   "outputs": [
    {
     "data": {
      "text/plain": [
       "([0, 1, 2, 3, 4], [5, 6, 7, 8, 9], [0, 2, 4, 6, 8], [10, 8, 6, 4, 2])"
      ]
     },
     "execution_count": 47,
     "metadata": {},
     "output_type": "execute_result"
    }
   ],
   "source": [
    "# offset index 개념과 비슷하게 사용\n",
    "list(range(5)), list(range(5,10)), list(range(0, 10, 2)), list(range(10, 0, -2))"
   ]
  },
  {
   "cell_type": "code",
   "execution_count": 49,
   "id": "continental-rogers",
   "metadata": {},
   "outputs": [
    {
     "data": {
      "text/plain": [
       "30"
      ]
     },
     "execution_count": 49,
     "metadata": {},
     "output_type": "execute_result"
    }
   ],
   "source": [
    "# 0~10까지 짝수를 더한 총합\n",
    "result = 0\n",
    "for data in range(0,11):\n",
    "    if data % 2 == 0:\n",
    "        result += data\n",
    "result"
   ]
  },
  {
   "cell_type": "code",
   "execution_count": null,
   "id": "completed-intermediate",
   "metadata": {},
   "outputs": [],
   "source": []
  },
  {
   "cell_type": "code",
   "execution_count": 50,
   "id": "accompanied-kennedy",
   "metadata": {},
   "outputs": [],
   "source": [
    "points_dict = {\"korean\" : 80, \"english\" : 90, \"math\" : 100}\n",
    "subjects_ls = ['korean', 'english', 'math']\n",
    "points_ls = [80, 90, 100]"
   ]
  },
  {
   "cell_type": "code",
   "execution_count": 52,
   "id": "traditional-violation",
   "metadata": {},
   "outputs": [
    {
     "data": {
      "text/plain": [
       "[('korean', 80), ('english', 90), ('math', 100)]"
      ]
     },
     "execution_count": 52,
     "metadata": {},
     "output_type": "execute_result"
    }
   ],
   "source": [
    "list(points_dict.items())"
   ]
  },
  {
   "cell_type": "code",
   "execution_count": 56,
   "id": "hybrid-american",
   "metadata": {},
   "outputs": [
    {
     "name": "stdout",
     "output_type": "stream",
     "text": [
      "korean 80\n",
      "english 90\n",
      "math 100\n"
     ]
    }
   ],
   "source": [
    "for idx, data in list(points_dict.items()):\n",
    "    print(idx, data)"
   ]
  },
  {
   "cell_type": "code",
   "execution_count": null,
   "id": "beneficial-aerospace",
   "metadata": {},
   "outputs": [],
   "source": []
  }
 ],
 "metadata": {
  "kernelspec": {
   "display_name": "Python 3",
   "language": "python",
   "name": "python3"
  },
  "language_info": {
   "codemirror_mode": {
    "name": "ipython",
    "version": 3
   },
   "file_extension": ".py",
   "mimetype": "text/x-python",
   "name": "python",
   "nbconvert_exporter": "python",
   "pygments_lexer": "ipython3",
   "version": "3.7.10"
  }
 },
 "nbformat": 4,
 "nbformat_minor": 5
}
